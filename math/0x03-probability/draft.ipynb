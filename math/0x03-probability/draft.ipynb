{
 "cells": [
  {
   "cell_type": "code",
   "execution_count": 1,
   "metadata": {},
   "outputs": [
    {
     "data": {
      "text/plain": [
       "0.07218634584360097"
      ]
     },
     "execution_count": 1,
     "metadata": {},
     "output_type": "execute_result"
    }
   ],
   "source": [
    "2.7183**-8*8**11/ 39916800"
   ]
  },
  {
   "cell_type": "code",
   "execution_count": 2,
   "metadata": {},
   "outputs": [],
   "source": [
    "\"\"\" class Poisson \"\"\"\n",
    "\n",
    "\n",
    "class Poisson():\n",
    "    \"\"\" Represent a poisson distribution \"\"\"\n",
    "\n",
    "    def __init__(self, data=None, lambtha=1.):\n",
    "        \"\"\" constractor \"\"\"      \n",
    "        if data == None:\n",
    "            if lambtha <= 0:\n",
    "                raise ValueError('lambtha must be a positive value')\n",
    "            self.lambtha = float(lambtha)\n",
    "        else:\n",
    "            if type(data) is not list:\n",
    "                raise TypeError('data must be a list')\n",
    "            if len(data) <= 2:\n",
    "                raise ValueError('data must contain multiple values')            \n",
    "            self.lambtha = sum(data)/len(data)\n",
    "\n",
    "    def pmf(self, k):\n",
    "        \"\"\"\n",
    "            Calculates the value of the PMF\n",
    "            for a given number of “successes”\n",
    "        \"\"\"\n",
    "        try:\n",
    "            k = int(k)\n",
    "            if k < 0:\n",
    "                return 0\n",
    "            lmda = self.lambtha\n",
    "            fact = 1\n",
    "            for i in range(1, k+1): \n",
    "                fact = fact * i\n",
    "            return 2.7182818285**-lmda*lmda**k/fact\n",
    "        except:\n",
    "            return 0\n",
    "        \n",
    "    \n",
    "    def cdf(self, k):\n",
    "        \"\"\"\n",
    "            Calculates the value of the CDF\n",
    "            for a given number of “successes”\n",
    "        \"\"\"\n",
    "        try:\n",
    "            k = int(k)\n",
    "            if k < 0:\n",
    "                return 0\n",
    "            cdf = 0\n",
    "            for i in range(0, k+1):\n",
    "                cdf += self.pmf(i)\n",
    "            return cdf\n",
    "        except:\n",
    "            return 0\n",
    "        \n",
    "        "
   ]
  },
  {
   "cell_type": "code",
   "execution_count": 3,
   "metadata": {},
   "outputs": [],
   "source": [
    "import numpy as np"
   ]
  },
  {
   "cell_type": "code",
   "execution_count": 4,
   "metadata": {},
   "outputs": [
    {
     "name": "stdout",
     "output_type": "stream",
     "text": [
      "Lambtha: 4.84\n",
      "Lambtha: 5.0\n"
     ]
    }
   ],
   "source": [
    "np.random.seed(0)\n",
    "data = np.random.poisson(5., 100).tolist()\n",
    "p1 = Poisson(data)\n",
    "print('Lambtha:', p1.lambtha)\n",
    "\n",
    "p2 = Poisson(lambtha=5)\n",
    "print('Lambtha:', p2.lambtha)"
   ]
  },
  {
   "cell_type": "code",
   "execution_count": 5,
   "metadata": {},
   "outputs": [
    {
     "name": "stdout",
     "output_type": "stream",
     "text": [
      "P(9): 0.03175849616802446\n",
      "P(9): 0.036265577412911795\n"
     ]
    }
   ],
   "source": [
    "np.random.seed(0)\n",
    "data = np.random.poisson(5., 100).tolist()\n",
    "p1 = Poisson(data)\n",
    "print('P(9):', p1.pmf(9))\n",
    "\n",
    "p2 = Poisson(lambtha=5)\n",
    "print('P(9):', p2.pmf(9))"
   ]
  },
  {
   "cell_type": "code",
   "execution_count": 6,
   "metadata": {},
   "outputs": [
    {
     "name": "stdout",
     "output_type": "stream",
     "text": [
      "F(9): 0.9736102067423525\n",
      "F(9): 0.9681719426208609\n"
     ]
    }
   ],
   "source": [
    "np.random.seed(0)\n",
    "data = np.random.poisson(5., 100).tolist()\n",
    "p1 = Poisson(data)\n",
    "print('F(9):', p1.cdf(9))\n",
    "\n",
    "p2 = Poisson(lambtha=5)\n",
    "print('F(9):', p2.cdf(9))"
   ]
  },
  {
   "cell_type": "code",
   "execution_count": 7,
   "metadata": {},
   "outputs": [],
   "source": [
    "\"\"\" class Exponential \"\"\"\n",
    "\n",
    "\n",
    "class Exponential():\n",
    "    \"\"\" Represent an Exponential distribution \"\"\"\n",
    "\n",
    "    def __init__(self, data=None, lambtha=1.):\n",
    "        \"\"\" constractor \"\"\"        \n",
    "        if data == None:\n",
    "            if lambtha <= 0:\n",
    "                raise ValueError('lambtha must be a positive value')\n",
    "            self.lambtha = float(lambtha)\n",
    "        else:\n",
    "            if type(data) is not list:\n",
    "                raise TypeError('data must be a list')\n",
    "            if len(data) <= 2:\n",
    "                raise ValueError('data must contain multiple values')\n",
    "            self.lambtha = len(data)/sum(data)\n",
    "\n",
    "    def pdf(self, x):\n",
    "        \"\"\"\n",
    "            Calculates the value of the PDF\n",
    "            for a given time period\n",
    "        \"\"\"\n",
    "        if x < 0:\n",
    "            return 0\n",
    "        return self.lambtha*2.7182818285**(-(x*self.lambtha))\n",
    "\n",
    "    def cdf(self, x):\n",
    "        \"\"\"\n",
    "            Calculates the value of the CDF\n",
    "            for a given time period\n",
    "        \"\"\"\n",
    "        if x < 0:\n",
    "            return 0\n",
    "        return 1-2.7182818285**(-(x*self.lambtha))"
   ]
  },
  {
   "cell_type": "code",
   "execution_count": 8,
   "metadata": {},
   "outputs": [
    {
     "name": "stdout",
     "output_type": "stream",
     "text": [
      "Lambtha: 2.1771114730906937\n",
      "Lambtha: 2.0\n"
     ]
    }
   ],
   "source": [
    "np.random.seed(0)\n",
    "data = np.random.exponential(0.5, 100).tolist()\n",
    "e1 = Exponential(data)\n",
    "print('Lambtha:', e1.lambtha)\n",
    "\n",
    "e2 = Exponential(lambtha=2)\n",
    "print('Lambtha:', e2.lambtha)"
   ]
  },
  {
   "cell_type": "code",
   "execution_count": 9,
   "metadata": {},
   "outputs": [
    {
     "name": "stdout",
     "output_type": "stream",
     "text": [
      "f(1): 0.24681591903431568\n",
      "f(1): 0.2706705664650693\n"
     ]
    }
   ],
   "source": [
    "np.random.seed(0)\n",
    "data = np.random.exponential(0.5, 100).tolist()\n",
    "e1 = Exponential(data)\n",
    "print('f(1):', e1.pdf(1))\n",
    "\n",
    "e2 = Exponential(lambtha=2)\n",
    "print('f(1):', e2.pdf(1))"
   ]
  },
  {
   "cell_type": "code",
   "execution_count": 10,
   "metadata": {},
   "outputs": [
    {
     "name": "stdout",
     "output_type": "stream",
     "text": [
      "F(1): 0.886631473819791\n",
      "F(1): 0.8646647167674654\n"
     ]
    }
   ],
   "source": [
    "np.random.seed(0)\n",
    "data = np.random.exponential(0.5, 100).tolist()\n",
    "e1 = Exponential(data)\n",
    "print('F(1):', e1.cdf(1))\n",
    "\n",
    "e2 = Exponential(lambtha=2)\n",
    "print('F(1):', e2.cdf(1))"
   ]
  },
  {
   "cell_type": "code",
   "execution_count": 11,
   "metadata": {},
   "outputs": [],
   "source": [
    "\"\"\" class Normal \"\"\"\n",
    "\n",
    "\n",
    "class Normal():\n",
    "    \"\"\" Represents a normal distribution \"\"\"\n",
    "    \n",
    "    def __init__(self, data=None, mean=0., stddev=1.):\n",
    "        \"\"\" constractor \"\"\"\n",
    "        if data is None:\n",
    "            if stddev < 0:\n",
    "                raise ValueError('stddev must be a positive value')\n",
    "            self.stddev = stddev\n",
    "            self.mean = mean\n",
    "        else:\n",
    "            if type(data) is not list:\n",
    "                raise TypeError('data must be a list')\n",
    "            if len(data) <= 2:\n",
    "                raise ValueError('data must contain multiple values')            \n",
    "            self.mean = sum(data)/len(data)\n",
    "            s = 0\n",
    "            for x in data:\n",
    "                s += (x - self.mean)**2\n",
    "            self.stddev = (s/len(data))**0.5\n",
    "\n",
    "    def z_score(self, x):\n",
    "        \"\"\"\n",
    "            Calculates the z-score\n",
    "            of a given x-value\n",
    "        \"\"\"\n",
    "        return (x - self.mean)/self.stddev\n",
    "\n",
    "    def x_value(self, z):\n",
    "        \"\"\"\n",
    "            Calculates the x-value\n",
    "            of a given z-score\n",
    "        \"\"\"\n",
    "        return z*self.stddev + self.mean\n",
    "\n",
    "    def pdf(self, x):\n",
    "        \"\"\"\n",
    "            Calculates the value of the PDF\n",
    "            for a given x-value\n",
    "        \"\"\"\n",
    "        return 2.7182818285**-((x-self.mean)**2/(2*self.stddev**2))/(self.stddev *(2*3.1415926536)**0.5)\n",
    "\n",
    "    def cdf(self, x):\n",
    "        \"\"\"\n",
    "            Calculates the value of the CDF\n",
    "            for a given x-value\n",
    "        \"\"\"\n",
    "        mu = self.mean\n",
    "        std = self.stddev\n",
    "        def erf(a):\n",
    "            \"\"\" Error Function \"\"\"\n",
    "            return 2*(a-((a**3)/3)+((a**5)/10)-((a**7)/42)+((a**9)/216))/(3.1415926536**0.5)\n",
    "        n = ((x - mu) / std) / (2**0.5)\n",
    "        return (1 + erf(n)) / 2"
   ]
  },
  {
   "cell_type": "code",
   "execution_count": 12,
   "metadata": {},
   "outputs": [
    {
     "name": "stdout",
     "output_type": "stream",
     "text": [
      "Mean: 70.59808015534485 , Stddev: 10.078822447165797\n",
      "Mean: 70 , Stddev: 10\n"
     ]
    }
   ],
   "source": [
    "np.random.seed(0)\n",
    "data = np.random.normal(70, 10, 100).tolist()\n",
    "n1 = Normal(data)\n",
    "print('Mean:', n1.mean, ', Stddev:', n1.stddev)\n",
    "\n",
    "n2 = Normal(mean=70, stddev=10)\n",
    "print('Mean:', n2.mean, ', Stddev:', n2.stddev)"
   ]
  },
  {
   "cell_type": "code",
   "execution_count": 13,
   "metadata": {},
   "outputs": [
    {
     "name": "stdout",
     "output_type": "stream",
     "text": [
      "Z(90): 1.9250185174272068\n",
      "X(2): 90.75572504967644\n",
      "\n",
      "Z(90): 2.0\n",
      "X(2): 90\n"
     ]
    }
   ],
   "source": [
    "np.random.seed(0)\n",
    "data = np.random.normal(70, 10, 100).tolist()\n",
    "n1 = Normal(data)\n",
    "print('Z(90):', n1.z_score(90))\n",
    "print('X(2):', n1.x_value(2))\n",
    "\n",
    "n2 = Normal(mean=70, stddev=10)\n",
    "print()\n",
    "print('Z(90):', n2.z_score(90))\n",
    "print('X(2):', n2.x_value(2))"
   ]
  },
  {
   "cell_type": "code",
   "execution_count": 14,
   "metadata": {},
   "outputs": [
    {
     "name": "stdout",
     "output_type": "stream",
     "text": [
      "PSI(90): 0.006206096804434349\n",
      "PSI(90): 0.005399096651147344\n"
     ]
    }
   ],
   "source": [
    "np.random.seed(0)\n",
    "data = np.random.normal(70, 10, 100).tolist()\n",
    "n1 = Normal(data)\n",
    "print('PSI(90):', n1.pdf(90))\n",
    "\n",
    "n2 = Normal(mean=70, stddev=10)\n",
    "print('PSI(90):', n2.pdf(90))"
   ]
  },
  {
   "cell_type": "code",
   "execution_count": 15,
   "metadata": {},
   "outputs": [
    {
     "name": "stdout",
     "output_type": "stream",
     "text": [
      "PHI(90): 0.9829020110852374\n",
      "PHI(90): 0.9922398930659415\n"
     ]
    }
   ],
   "source": [
    "np.random.seed(0)\n",
    "data = np.random.normal(70, 10, 100).tolist()\n",
    "n1 = Normal(data)\n",
    "print('PHI(90):', n1.cdf(90))\n",
    "\n",
    "n2 = Normal(mean=70, stddev=10)\n",
    "print('PHI(90):', n2.cdf(90))"
   ]
  },
  {
   "cell_type": "code",
   "execution_count": 26,
   "metadata": {},
   "outputs": [],
   "source": [
    "\"\"\" class Binomial \"\"\"\n",
    "\n",
    "\n",
    "class Binomial():\n",
    "    \"\"\" Represents a Binomial distribution \"\"\"\n",
    "\n",
    "    def __init__(self, data=None, n=1, p=0.5):\n",
    "        \"\"\" constractor \"\"\"\n",
    "        if data is None:\n",
    "            if n <= 0:\n",
    "                raise ValueError(\"the message n must be a positive value\")\n",
    "            if p < 0 or p > 1:\n",
    "                raise ValueError(\"the message p must be greater than 0 and less than 1\")\n",
    "            self.p = p\n",
    "            self.n = n\n",
    "        else:\n",
    "            if type(data) is not list:\n",
    "                raise TypeError('data must be a list')\n",
    "            if len(data) <= 2:\n",
    "                raise ValueError('data must contain multiple values')\n",
    "            mean = sum(data)/len(data)\n",
    "            s = 0\n",
    "            for x in data:\n",
    "                s += (x - mean)**2\n",
    "            std = (s/len(data))**0.5\n",
    "            v = s/len(data)\n",
    "            n = mean**2/(mean-v)\n",
    "            self.n = round(n)\n",
    "            self.p = mean/n        \n",
    "\n",
    "    def fact(self, k):\n",
    "        \"\"\" calculate factorial \"\"\"\n",
    "        fact = 1\n",
    "        for i in range(1, k+1): \n",
    "            fact = fact * i\n",
    "        return fact\n",
    "    \n",
    "    def pmf(self, k):\n",
    "        \"\"\"\n",
    "            Calculates the value of the PMF\n",
    "            for a given number of “successes”\n",
    "        \"\"\"\n",
    "        nk = self.fact(n)/(self.fact(k)*self.fact(n - k))\n",
    "        return nk * p**k * (1-p)**(n-k)"
   ]
  },
  {
   "cell_type": "code",
   "execution_count": 17,
   "metadata": {},
   "outputs": [
    {
     "data": {
      "text/plain": [
       "(0.606, 50)"
      ]
     },
     "execution_count": 17,
     "metadata": {},
     "output_type": "execute_result"
    }
   ],
   "source": [
    "np.random.seed(0)\n",
    "data = np.random.binomial(50, 0.6, 100).tolist()\n",
    "\n",
    "def fact(k):\n",
    "    \"\"\" calculate factorial \"\"\"\n",
    "    fact = 1\n",
    "    for i in range(1, k+1): \n",
    "        fact = fact * i\n",
    "    return fact\n",
    "mean = sum(data)/len(data)\n",
    "s = 0\n",
    "for x in data:\n",
    "    s += (x - mean)**2\n",
    "v = s/len(data)\n",
    "n = round((mean**2)/(mean-v))\n",
    "n = int(n)\n",
    "p = mean/n\n",
    "p, n"
   ]
  },
  {
   "cell_type": "code",
   "execution_count": 19,
   "metadata": {},
   "outputs": [
    {
     "name": "stdout",
     "output_type": "stream",
     "text": [
      "n: 50 p: 0.6082508250825083\n",
      "n: 50 p: 0.6\n"
     ]
    }
   ],
   "source": [
    "b1 = Binomial(data)\n",
    "print('n:', b1.n, \"p:\", b1.p)\n",
    "\n",
    "b2 = Binomial(n=50, p=0.6)\n",
    "print('n:', b2.n, \"p:\", b2.p)"
   ]
  },
  {
   "cell_type": "code",
   "execution_count": 22,
   "metadata": {},
   "outputs": [
    {
     "data": {
      "text/plain": [
       "0.11412829839570347"
      ]
     },
     "execution_count": 22,
     "metadata": {},
     "output_type": "execute_result"
    }
   ],
   "source": [
    "k = 30\n",
    "nk = fact(n)/(fact(k)*fact(n - k))\n",
    "nk * p**k * (1-p)**(n-k)"
   ]
  },
  {
   "cell_type": "code",
   "execution_count": 27,
   "metadata": {},
   "outputs": [
    {
     "name": "stdout",
     "output_type": "stream",
     "text": [
      "P(30): 0.11412829839570347\n",
      "P(30): 0.11412829839570347\n"
     ]
    }
   ],
   "source": [
    "b1 = Binomial(data)\n",
    "print('P(30):', b1.pmf(30))\n",
    "\n",
    "b2 = Binomial(n=50, p=0.6)\n",
    "print('P(30):', b2.pmf(30))"
   ]
  },
  {
   "cell_type": "code",
   "execution_count": null,
   "metadata": {},
   "outputs": [],
   "source": []
  }
 ],
 "metadata": {
  "kernelspec": {
   "display_name": "Python 3",
   "language": "python",
   "name": "python3"
  },
  "language_info": {
   "codemirror_mode": {
    "name": "ipython",
    "version": 3
   },
   "file_extension": ".py",
   "mimetype": "text/x-python",
   "name": "python",
   "nbconvert_exporter": "python",
   "pygments_lexer": "ipython3",
   "version": "3.7.9"
  }
 },
 "nbformat": 4,
 "nbformat_minor": 4
}
