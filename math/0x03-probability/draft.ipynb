{
 "cells": [
  {
   "cell_type": "code",
   "execution_count": 2,
   "metadata": {},
   "outputs": [
    {
     "data": {
      "text/plain": [
       "0.07218634584360097"
      ]
     },
     "execution_count": 2,
     "metadata": {},
     "output_type": "execute_result"
    }
   ],
   "source": [
    "2.7183**-8*8**11/ 39916800"
   ]
  },
  {
   "cell_type": "code",
   "execution_count": 92,
   "metadata": {},
   "outputs": [],
   "source": [
    "\"\"\" class Poisson \"\"\"\n",
    "\n",
    "\n",
    "class Poisson():\n",
    "    \"\"\" Represent a poisson distribution \"\"\"\n",
    "\n",
    "    def __init__(self, data=None, lambtha=1.):\n",
    "        \"\"\" constractor \"\"\"      \n",
    "        if data == None:\n",
    "            if lambtha <= 0:\n",
    "                raise ValueError('lambtha must be a positive value')\n",
    "            self.lambtha = float(lambtha)\n",
    "        else:\n",
    "            if type(data) is not list:\n",
    "                raise TypeError('data must be a list')\n",
    "            if len(data) <= 2:\n",
    "                raise ValueError('data must contain multiple values')            \n",
    "            self.lambtha = sum(data)/len(data)\n",
    "\n",
    "    def pmf(self, k):\n",
    "        \"\"\"\n",
    "            Calculates the value of the PMF\n",
    "            for a given number of “successes”\n",
    "        \"\"\"\n",
    "        try:\n",
    "            k = int(k)\n",
    "            if k < 0:\n",
    "                return 0\n",
    "            lmda = self.lambtha\n",
    "            fact = 1\n",
    "            for i in range(1, k+1): \n",
    "                fact = fact * i\n",
    "            return 2.7182818285**-lmda*lmda**k/fact\n",
    "        except:\n",
    "            return 0\n",
    "        \n",
    "    \n",
    "    def cdf(self, k):\n",
    "        \"\"\"\n",
    "            Calculates the value of the CDF\n",
    "            for a given number of “successes”\n",
    "        \"\"\"\n",
    "        try:\n",
    "            k = int(k)\n",
    "            if k < 0:\n",
    "                return 0\n",
    "            cdf = 0\n",
    "            for i in range(0, k+1):\n",
    "                cdf += self.pmf(i)\n",
    "            return cdf\n",
    "        except:\n",
    "            return 0\n",
    "        \n",
    "        "
   ]
  },
  {
   "cell_type": "code",
   "execution_count": 4,
   "metadata": {},
   "outputs": [],
   "source": [
    "import numpy as np"
   ]
  },
  {
   "cell_type": "code",
   "execution_count": 60,
   "metadata": {},
   "outputs": [
    {
     "name": "stdout",
     "output_type": "stream",
     "text": [
      "Lambtha: 4.84\n",
      "Lambtha: 5.0\n"
     ]
    }
   ],
   "source": [
    "np.random.seed(0)\n",
    "data = np.random.poisson(5., 100).tolist()\n",
    "p1 = Poisson(data)\n",
    "print('Lambtha:', p1.lambtha)\n",
    "\n",
    "p2 = Poisson(lambtha=5)\n",
    "print('Lambtha:', p2.lambtha)"
   ]
  },
  {
   "cell_type": "code",
   "execution_count": 97,
   "metadata": {},
   "outputs": [
    {
     "name": "stdout",
     "output_type": "stream",
     "text": [
      "P(9): 0.03175849616802446\n",
      "P(9): 0.036265577412911795\n"
     ]
    }
   ],
   "source": [
    "np.random.seed(0)\n",
    "data = np.random.poisson(5., 100).tolist()\n",
    "p1 = Poisson(data)\n",
    "print('P(9):', p1.pmf(9))\n",
    "\n",
    "p2 = Poisson(lambtha=5)\n",
    "print('P(9):', p2.pmf(9))"
   ]
  },
  {
   "cell_type": "code",
   "execution_count": 65,
   "metadata": {},
   "outputs": [
    {
     "name": "stdout",
     "output_type": "stream",
     "text": [
      "F(9): 0.9736102067423525\n",
      "F(9): 0.9681719426208609\n"
     ]
    }
   ],
   "source": [
    "np.random.seed(0)\n",
    "data = np.random.poisson(5., 100).tolist()\n",
    "p1 = Poisson(data)\n",
    "print('F(9):', p1.cdf(9))\n",
    "\n",
    "p2 = Poisson(lambtha=5)\n",
    "print('F(9):', p2.cdf(9))"
   ]
  },
  {
   "cell_type": "code",
   "execution_count": 128,
   "metadata": {},
   "outputs": [],
   "source": [
    "\"\"\" class Exponential \"\"\"\n",
    "\n",
    "\n",
    "class Exponential():\n",
    "    \"\"\" Represent an Exponential distribution \"\"\"\n",
    "\n",
    "    def __init__(self, data=None, lambtha=1.):\n",
    "        \"\"\" constractor \"\"\"        \n",
    "        if data == None:\n",
    "            if lambtha <= 0:\n",
    "                raise ValueError('lambtha must be a positive value')\n",
    "            self.lambtha = float(lambtha)\n",
    "        else:\n",
    "            if type(data) is not list:\n",
    "                raise TypeError('data must be a list')\n",
    "            if len(data) <= 2:\n",
    "                raise ValueError('data must contain multiple values')\n",
    "            self.lambtha = len(data)/sum(data)\n",
    "\n",
    "    def pdf(self, x):\n",
    "        \"\"\"\n",
    "            Calculates the value of the PDF\n",
    "            for a given time period\n",
    "        \"\"\"\n",
    "        if x < 0:\n",
    "            return 0\n",
    "        return self.lambtha*2.7182818285**(-(x*self.lambtha))\n",
    "\n",
    "    def cdf(self, x):\n",
    "        \"\"\"\n",
    "            Calculates the value of the CDF\n",
    "            for a given time period\n",
    "        \"\"\"\n",
    "        if x < 0:\n",
    "            return 0\n",
    "        return 1-2.7182818285**(-(x*self.lambtha))"
   ]
  },
  {
   "cell_type": "code",
   "execution_count": 91,
   "metadata": {},
   "outputs": [
    {
     "name": "stdout",
     "output_type": "stream",
     "text": [
      "Lambtha: 2.1771114730906937\n",
      "Lambtha: 2.0\n"
     ]
    }
   ],
   "source": [
    "np.random.seed(0)\n",
    "data = np.random.exponential(0.5, 100).tolist()\n",
    "e1 = Exponential(data)\n",
    "print('Lambtha:', e1.lambtha)\n",
    "\n",
    "e2 = Exponential(lambtha=2)\n",
    "print('Lambtha:', e2.lambtha)"
   ]
  },
  {
   "cell_type": "code",
   "execution_count": 127,
   "metadata": {},
   "outputs": [
    {
     "name": "stdout",
     "output_type": "stream",
     "text": [
      "f(1): 0.24681591903431568\n",
      "f(1): 0.2706705664650693\n"
     ]
    }
   ],
   "source": [
    "np.random.seed(0)\n",
    "data = np.random.exponential(0.5, 100).tolist()\n",
    "e1 = Exponential(data)\n",
    "print('f(1):', e1.pdf(1))\n",
    "\n",
    "e2 = Exponential(lambtha=2)\n",
    "print('f(1):', e2.pdf(1))"
   ]
  },
  {
   "cell_type": "code",
   "execution_count": 129,
   "metadata": {},
   "outputs": [
    {
     "name": "stdout",
     "output_type": "stream",
     "text": [
      "F(1): 0.886631473819791\n",
      "F(1): 0.8646647167674654\n"
     ]
    }
   ],
   "source": [
    "np.random.seed(0)\n",
    "data = np.random.exponential(0.5, 100).tolist()\n",
    "e1 = Exponential(data)\n",
    "print('F(1):', e1.cdf(1))\n",
    "\n",
    "e2 = Exponential(lambtha=2)\n",
    "print('F(1):', e2.cdf(1))"
   ]
  },
  {
   "cell_type": "code",
   "execution_count": 247,
   "metadata": {},
   "outputs": [],
   "source": [
    "\"\"\" class Normal \"\"\"\n",
    "\n",
    "\n",
    "class Normal():\n",
    "    \"\"\" Represents a normal distribution \"\"\"\n",
    "    \n",
    "    def __init__(self, data=None, mean=0., stddev=1.):\n",
    "        \"\"\" constractor \"\"\"\n",
    "        if data is None:\n",
    "            if stddev < 0:\n",
    "                raise ValueError('stddev must be a positive value')\n",
    "            self.stddev = stddev\n",
    "            self.mean = mean\n",
    "        else:\n",
    "            if type(data) is not list:\n",
    "                raise TypeError('data must be a list')\n",
    "            if len(data) <= 2:\n",
    "                raise ValueError('data must contain multiple values')            \n",
    "            self.mean = sum(data)/len(data)\n",
    "            s = 0\n",
    "            for x in data:\n",
    "                s += (x - self.mean)**2\n",
    "            self.stddev = (s/len(data))**0.5\n",
    "\n",
    "    def z_score(self, x):\n",
    "        \"\"\"\n",
    "            Calculates the z-score\n",
    "            of a given x-value\n",
    "        \"\"\"\n",
    "        return (x - self.mean)/self.stddev\n",
    "\n",
    "    def x_value(self, z):\n",
    "        \"\"\"\n",
    "            Calculates the x-value\n",
    "            of a given z-score\n",
    "        \"\"\"\n",
    "        return z*self.stddev + self.mean\n",
    "\n",
    "    def pdf(self, x):\n",
    "        \"\"\"\n",
    "            Calculates the value of the PDF\n",
    "            for a given x-value\n",
    "        \"\"\"\n",
    "        return 2.7182818285**-((x-self.mean)**2/(2*self.stddev**2))/(self.stddev *(2*3.1415926536)**0.5)\n",
    "\n",
    "    def cdf(self, x):\n",
    "        \"\"\"\n",
    "            Calculates the value of the CDF\n",
    "            for a given x-value\n",
    "        \"\"\"\n",
    "        mu = self.mean\n",
    "        std = self.stddev\n",
    "        def erf(a):\n",
    "            \"\"\" Error Function \"\"\"\n",
    "            return 2*(a-((a**3)/3)+((a**5)/10)-((a**7)/42)+((a**9)/216))/(3.1415926536**0.5)\n",
    "        n = ((x - mu) / std) / (2**0.5)\n",
    "        return (1 + erf(n)) / 2"
   ]
  },
  {
   "cell_type": "code",
   "execution_count": 158,
   "metadata": {},
   "outputs": [
    {
     "name": "stdout",
     "output_type": "stream",
     "text": [
      "Mean: 70.59808015534485 , Stddev: 10.078822447165797\n",
      "Mean: 70 , Stddev: 10\n"
     ]
    }
   ],
   "source": [
    "np.random.seed(0)\n",
    "data = np.random.normal(70, 10, 100).tolist()\n",
    "n1 = Normal(data)\n",
    "print('Mean:', n1.mean, ', Stddev:', n1.stddev)\n",
    "\n",
    "n2 = Normal(mean=70, stddev=10)\n",
    "print('Mean:', n2.mean, ', Stddev:', n2.stddev)"
   ]
  },
  {
   "cell_type": "code",
   "execution_count": 176,
   "metadata": {},
   "outputs": [
    {
     "name": "stdout",
     "output_type": "stream",
     "text": [
      "Z(90): 1.9250185174272068\n",
      "X(2): 90.75572504967644\n",
      "\n",
      "Z(90): 2.0\n",
      "X(2): 90\n"
     ]
    }
   ],
   "source": [
    "np.random.seed(0)\n",
    "data = np.random.normal(70, 10, 100).tolist()\n",
    "n1 = Normal(data)\n",
    "print('Z(90):', n1.z_score(90))\n",
    "print('X(2):', n1.x_value(2))\n",
    "\n",
    "n2 = Normal(mean=70, stddev=10)\n",
    "print()\n",
    "print('Z(90):', n2.z_score(90))\n",
    "print('X(2):', n2.x_value(2))"
   ]
  },
  {
   "cell_type": "code",
   "execution_count": 179,
   "metadata": {},
   "outputs": [
    {
     "name": "stdout",
     "output_type": "stream",
     "text": [
      "PSI(90): 0.006206096804434349\n",
      "PSI(90): 0.005399096651147344\n"
     ]
    }
   ],
   "source": [
    "np.random.seed(0)\n",
    "data = np.random.normal(70, 10, 100).tolist()\n",
    "n1 = Normal(data)\n",
    "print('PSI(90):', n1.pdf(90))\n",
    "\n",
    "n2 = Normal(mean=70, stddev=10)\n",
    "print('PSI(90):', n2.pdf(90))"
   ]
  },
  {
   "cell_type": "code",
   "execution_count": 248,
   "metadata": {},
   "outputs": [
    {
     "name": "stdout",
     "output_type": "stream",
     "text": [
      "PHI(90): 0.9829020110852374\n",
      "PHI(90): 0.9922398930659415\n"
     ]
    }
   ],
   "source": [
    "np.random.seed(0)\n",
    "data = np.random.normal(70, 10, 100).tolist()\n",
    "n1 = Normal(data)\n",
    "print('PHI(90):', n1.cdf(90))\n",
    "\n",
    "n2 = Normal(mean=70, stddev=10)\n",
    "print('PHI(90):', n2.cdf(90))"
   ]
  },
  {
   "cell_type": "code",
   "execution_count": null,
   "metadata": {},
   "outputs": [],
   "source": [
    "\"\"\" class Binomial \"\"\"\n",
    "\n",
    "\n",
    "class Binomial():\n",
    "    \"\"\" Represents a Binomial distribution \"\"\"\n",
    "\n",
    "    def __init__(self, data=None, n=1, p=0.5):\n",
    "        \"\"\" constractor \"\"\"\n",
    "        if data is None:\n",
    "            if n <= 0:\n",
    "                raise ValueError(\"the message n must be a positive value\")\n",
    "            if p < 0 or p > 1:\n",
    "                raise ValueError(\"the message p must be greater than 0 and less than 1\")\n",
    "            self.p = p\n",
    "            self.n = n\n",
    "        else:\n",
    "            if type(data) is not list:\n",
    "                raise TypeError('data must be a list')\n",
    "            if len(data) <= 2:\n",
    "                raise ValueError('data must contain multiple values')\n",
    "            mean = sum(data)/len(data)\n",
    "            d = {}\n",
    "            for i in data:\n",
    "                if i not in d.keys():\n",
    "                    d[i] = data.count(i)\n",
    "            s = 0\n",
    "            for i in d:\n",
    "                s += d[i]/2\n",
    "            self.n = int(s)\n",
    "            self.p = mean/s\n",
    "            \n",
    "\n",
    "    def fact(self, k):\n",
    "        \"\"\" calculate factorial \"\"\"\n",
    "        fact = 1\n",
    "        for i in range(1, k+1): \n",
    "            fact = fact * i\n",
    "        return fact"
   ]
  },
  {
   "cell_type": "code",
   "execution_count": 405,
   "metadata": {},
   "outputs": [
    {
     "name": "stdout",
     "output_type": "stream",
     "text": [
      "30 0.09 30.3 2.727 9\n",
      "28 0.07 30.3 2.1210000000000004 7\n",
      "29 0.17 30.3 5.151000000000001 17\n",
      "31 0.1 30.3 3.0300000000000002 10\n",
      "26 0.02 30.3 0.606 2\n",
      "24 0.03 30.3 0.909 3\n",
      "27 0.09 30.3 2.727 9\n",
      "25 0.02 30.3 0.606 2\n",
      "35 0.05 30.3 1.5150000000000001 5\n",
      "37 0.03 30.3 0.909 3\n",
      "23 0.03 30.3 0.909 3\n",
      "34 0.11 30.3 3.333 11\n",
      "32 0.1 30.3 3.0300000000000002 10\n",
      "33 0.06 30.3 1.818 6\n",
      "22 0.01 30.3 0.303 1\n",
      "36 0.01 30.3 0.303 1\n",
      "39 0.01 30.3 0.303 1\n"
     ]
    },
    {
     "data": {
      "text/plain": [
       "(50.0, 0.606)"
      ]
     },
     "execution_count": 405,
     "metadata": {},
     "output_type": "execute_result"
    }
   ],
   "source": [
    "np.random.seed(0)\n",
    "data = np.random.binomial(50, 0.6, 100).tolist()\n",
    "\n",
    "def fact(k):\n",
    "    \"\"\" calculate factorial \"\"\"\n",
    "    fact = 1\n",
    "    for i in range(1, k+1): \n",
    "        fact = fact * i\n",
    "    return fact\n",
    "data\n",
    "d = {}\n",
    "for i in data:\n",
    "    if i not in d.keys():\n",
    "        d[i] = data.count(i)\n",
    "n = len(data) #total trails\n",
    "x = len(d) #total success\n",
    "#pr = 0\n",
    "pi = 0\n",
    "\n",
    "nk = fact(n)/(fact(1)*fact(n-1))\n",
    "pi = x/n\n",
    "q = 1 - pi\n",
    "pr = nk * pi**x * q**(n-x)\n",
    "sum(data)*2/n**2 * x\n",
    "mean = sum(data)/len(data)\n",
    "s = 0\n",
    "#mean/0.606, x/n\n",
    "for i in d:\n",
    "    pi = d[i]/n\n",
    "    s += d[i]/2\n",
    "    print(i, pi, mean, pi*mean, d[i])\n",
    "s, mean/s"
   ]
  },
  {
   "cell_type": "code",
   "execution_count": 295,
   "metadata": {},
   "outputs": [
    {
     "ename": "NameError",
     "evalue": "name 'Binomial' is not defined",
     "output_type": "error",
     "traceback": [
      "\u001b[0;31m---------------------------------------------------------------------------\u001b[0m",
      "\u001b[0;31mNameError\u001b[0m                                 Traceback (most recent call last)",
      "\u001b[0;32m<ipython-input-295-dd551286dff5>\u001b[0m in \u001b[0;36m<module>\u001b[0;34m\u001b[0m\n\u001b[0;32m----> 1\u001b[0;31m \u001b[0mb1\u001b[0m \u001b[0;34m=\u001b[0m \u001b[0mBinomial\u001b[0m\u001b[0;34m(\u001b[0m\u001b[0mdata\u001b[0m\u001b[0;34m)\u001b[0m\u001b[0;34m\u001b[0m\u001b[0;34m\u001b[0m\u001b[0m\n\u001b[0m\u001b[1;32m      2\u001b[0m \u001b[0mprint\u001b[0m\u001b[0;34m(\u001b[0m\u001b[0;34m'n:'\u001b[0m\u001b[0;34m,\u001b[0m \u001b[0mb1\u001b[0m\u001b[0;34m.\u001b[0m\u001b[0mn\u001b[0m\u001b[0;34m,\u001b[0m \u001b[0;34m\"p:\"\u001b[0m\u001b[0;34m,\u001b[0m \u001b[0mb1\u001b[0m\u001b[0;34m.\u001b[0m\u001b[0mp\u001b[0m\u001b[0;34m)\u001b[0m\u001b[0;34m\u001b[0m\u001b[0;34m\u001b[0m\u001b[0m\n\u001b[1;32m      3\u001b[0m \u001b[0;34m\u001b[0m\u001b[0m\n\u001b[1;32m      4\u001b[0m \u001b[0mb2\u001b[0m \u001b[0;34m=\u001b[0m \u001b[0mBinomial\u001b[0m\u001b[0;34m(\u001b[0m\u001b[0mn\u001b[0m\u001b[0;34m=\u001b[0m\u001b[0;36m50\u001b[0m\u001b[0;34m,\u001b[0m \u001b[0mp\u001b[0m\u001b[0;34m=\u001b[0m\u001b[0;36m0.6\u001b[0m\u001b[0;34m)\u001b[0m\u001b[0;34m\u001b[0m\u001b[0;34m\u001b[0m\u001b[0m\n\u001b[1;32m      5\u001b[0m \u001b[0mprint\u001b[0m\u001b[0;34m(\u001b[0m\u001b[0;34m'n:'\u001b[0m\u001b[0;34m,\u001b[0m \u001b[0mb2\u001b[0m\u001b[0;34m.\u001b[0m\u001b[0mn\u001b[0m\u001b[0;34m,\u001b[0m \u001b[0;34m\"p:\"\u001b[0m\u001b[0;34m,\u001b[0m \u001b[0mb2\u001b[0m\u001b[0;34m.\u001b[0m\u001b[0mp\u001b[0m\u001b[0;34m)\u001b[0m\u001b[0;34m\u001b[0m\u001b[0;34m\u001b[0m\u001b[0m\n",
      "\u001b[0;31mNameError\u001b[0m: name 'Binomial' is not defined"
     ]
    }
   ],
   "source": [
    "b1 = Binomial(data)\n",
    "print('n:', b1.n, \"p:\", b1.p)\n",
    "\n",
    "b2 = Binomial(n=50, p=0.6)\n",
    "print('n:', b2.n, \"p:\", b2.p)\""
   ]
  },
  {
   "cell_type": "code",
   "execution_count": null,
   "metadata": {},
   "outputs": [],
   "source": []
  }
 ],
 "metadata": {
  "kernelspec": {
   "display_name": "Python 3",
   "language": "python",
   "name": "python3"
  },
  "language_info": {
   "codemirror_mode": {
    "name": "ipython",
    "version": 3
   },
   "file_extension": ".py",
   "mimetype": "text/x-python",
   "name": "python",
   "nbconvert_exporter": "python",
   "pygments_lexer": "ipython3",
   "version": "3.7.9"
  }
 },
 "nbformat": 4,
 "nbformat_minor": 4
}
