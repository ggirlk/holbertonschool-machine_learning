{
 "cells": [
  {
   "cell_type": "code",
   "execution_count": 4,
   "metadata": {},
   "outputs": [],
   "source": [
    "#!cp 0-convolve_grayscale_valid.py 1-convolve_grayscale_same.py\n",
    "!chmod +x *.py"
   ]
  },
  {
   "cell_type": "code",
   "execution_count": 7,
   "metadata": {},
   "outputs": [
    {
     "name": "stdout",
     "output_type": "stream",
     "text": [
      "(50000, 28, 28)\n",
      "(50000, 26, 26)\n"
     ]
    },
    {
     "data": {
      "image/png": "[encoded data removed]",
      "text/plain": [
       "<Figure size 432x288 with 1 Axes>"
      ]
     },
     "metadata": {
      "needs_background": "light"
     },
     "output_type": "display_data"
    },
    {
     "data": {
      "image/png": "[encoded data removed]",
      "text/plain": [
       "<Figure size 432x288 with 1 Axes>"
      ]
     },
     "metadata": {
      "needs_background": "light"
     },
     "output_type": "display_data"
    }
   ],
   "source": [
    "#!/usr/bin/env python3\n",
    "\n",
    "import matplotlib.pyplot as plt\n",
    "import numpy as np\n",
    "from scipy import ndimage\n",
    "\n",
    "convolve_grayscale_valid = __import__('0-convolve_grayscale_valid').convolve_grayscale_valid\n",
    "def convolve_grayscale_validhhh(images, kernel):\n",
    "    \"\"\" doc \"\"\"\n",
    "    kh = kernel.shape[0]\n",
    "    kw = kernel.shape[1]\n",
    "    output = np.zeros_like(images)\n",
    "    for i in range(images.shape[1]):\n",
    "        if i < images.shape[1] - kh:\n",
    "            image = images[i]\n",
    "            for j in range(images.shape[2]):\n",
    "                if j <= images.shape[2] - kw:\n",
    "                    output[:, i, j] = np.tensordot(images[:,\n",
    "                                                          i:i+kh,\n",
    "                                                          j:j+kw],\n",
    "                                                   kernel)\n",
    "    return output\n",
    "\n",
    "\"\"\"for x in range(image.shape[1]):\n",
    "        for y in range(image.shape[0]):\n",
    "            # element-wise multiplication of the kernel and the image\n",
    "            output[y, x] = (kernel * image_padded[y: y+3, x: x+3]).sum()\"\"\"\n",
    "if __name__ == '__main__':\n",
    "\n",
    "    dataset = np.load('../../supervised_learning/data/MNIST.npz')\n",
    "    images = dataset['X_train']\n",
    "    print(images.shape)\n",
    "    kernel = np.array([[1 ,0, -1], [1, 0, -1], [1, 0, -1]])\n",
    "    images_conv = convolve_grayscale_valid(images, kernel)\n",
    "    #print(images_conv)\n",
    "    print(images_conv.shape)\n",
    "\n",
    "    plt.imshow(images[0], cmap='gray')\n",
    "    plt.show()\n",
    "    plt.imshow(images_conv[0], cmap='gray')\n",
    "    plt.show()"
   ]
  },
  {
   "cell_type": "code",
   "execution_count": 38,
   "metadata": {},
   "outputs": [
    {
     "name": "stdout",
     "output_type": "stream",
     "text": [
      "[[ 1  6 18]\n",
      " [ 1  6 18]\n",
      " [ 1  6 18]]\n",
      "[[ 3 12 27]\n",
      " [ 3 12 27]\n",
      " [ 3 12 27]]\n"
     ]
    }
   ],
   "source": [
    "ar = [\n",
    "        [\n",
    "            [1,3,6,9],\n",
    "            [1,3,6,9],\n",
    "            [1,3,6,9],\n",
    "            [1,3,6,9],\n",
    "            [1,3,6,9],\n",
    "        ],\n",
    "        [\n",
    "            [1,3,6,9],\n",
    "            [1,3,6,9],\n",
    "            [1,3,6,9],\n",
    "            [1,3,6,9],\n",
    "            [1,3,6,9],\n",
    "        ]\n",
    "    ]\n",
    "import numpy as np\n",
    "arr = np.array(ar)\n",
    "arr.shape\n",
    "k = [\n",
    "    [1,2,3],\n",
    "    [1,2,3],\n",
    "    [1,2,3],\n",
    "]\n",
    "for i in range(arr.shape[0]):\n",
    "    g = arr[i]\n",
    "    print(g[i:i+3, i:i+3]*k)"
   ]
  },
  {
   "cell_type": "code",
   "execution_count": null,
   "metadata": {},
   "outputs": [],
   "source": [
    "#!/usr/bin/env python3\n",
    "\n",
    "import matplotlib.pyplot as plt\n",
    "import numpy as np\n",
    "from scipy import ndimage\n",
    "\n",
    "#convolve_grayscale_valid = __import__('0-convolve_grayscale_valid').convolve_grayscale_valid\n",
    "def convolve_grayscale_valid(images, kernel):\n",
    "    \"\"\" doc \"\"\"\n",
    "    \n",
    "    # Flip the kernel\n",
    "    kernel = np.flipud(np.fliplr(kernel))\n",
    "    \n",
    "    conv = []\n",
    "    \n",
    "    for i in range(images.shape[0]):\n",
    "        image = images[i]\n",
    "        # convolution output\n",
    "        output = np.zeros_like(image)\n",
    "\n",
    "        # Add zero padding to the input image\n",
    "        image_padded = np.zeros((image.shape[0] + 2, image.shape[1] + 2))\n",
    "        image_padded[1:-1, 1:-1] = image\n",
    "        # Loop over every pixel of the image\n",
    "        for x in range(image.shape[0]):\n",
    "            for y in range(image.shape[1]):\n",
    "                ng = image_padded[y: y+3, x: x+3]\n",
    "                # if ng.shape == kernel.shape:\n",
    "                # element-wise multiplication of the kernel and the image\n",
    "                output[x, y] = (kernel * ng).sum()\n",
    "        conv.append(output)\n",
    "    print(\"yes\")\n",
    "    return np.array(conv)\n",
    "\n",
    "\"\"\"for k in range(ng.shape[0]):\n",
    "                convolve[i, j] = (kernel * images[j:j+3, j:j+3]).sum()\"\"\"\n",
    "if __name__ == '__main__':\n",
    "\n",
    "    dataset = np.load('hb/holbertonschool-machine_learning/supervised_learning/data/MNIST.npz')\n",
    "    images = dataset['X_train']\n",
    "    print(images.shape)\n",
    "    kernel = np.array([[1 ,0, -1], [1, 0, -1], [1, 0, -1]])\n",
    "    images_conv = convolve_grayscale_valid(images, kernel)\n",
    "    #print(images_conv)\n",
    "    print(images_conv.shape)\n",
    "\n",
    "    #plt.imshow(images[0], cmap='gray')\n",
    "    #plt.show()\n",
    "    plt.imshow(images_conv[0], cmap='gray')\n",
    "    plt.show()\n"
   ]
  },
  {
   "cell_type": "code",
   "execution_count": 8,
   "metadata": {},
   "outputs": [
    {
     "name": "stdout",
     "output_type": "stream",
     "text": [
      "(50000, 28, 28)\n",
      "(50000, 28, 28)\n"
     ]
    },
    {
     "data": {
      "image/png": "[encoded data removed]",
      "text/plain": [
       "<Figure size 432x288 with 1 Axes>"
      ]
     },
     "metadata": {
      "needs_background": "light"
     },
     "output_type": "display_data"
    }
   ],
   "source": [
    "#!/usr/bin/env python3\n",
    "\n",
    "import matplotlib.pyplot as plt\n",
    "import numpy as np\n",
    "convolve_grayscale_same = __import__('1-convolve_grayscale_same').convolve_grayscale_same\n",
    "\n",
    "\n",
    "if __name__ == '__main__':\n",
    "\n",
    "    dataset = np.load('../../supervised_learning/data/MNIST.npz')\n",
    "    images = dataset['X_train']\n",
    "    print(images.shape)\n",
    "    kernel = np.array([[1 ,0, -1], [1, 0, -1], [1, 0, -1]])\n",
    "    images_conv = convolve_grayscale_same(images, kernel)\n",
    "    print(images_conv.shape)\n",
    "\n",
    "    #plt.imshow(images[0], cmap='gray')\n",
    "    #plt.show()\n",
    "    plt.imshow(images_conv[0], cmap='gray')\n",
    "    plt.show()\n"
   ]
  },
  {
   "cell_type": "code",
   "execution_count": null,
   "metadata": {},
   "outputs": [],
   "source": []
  }
 ],
 "metadata": {
  "kernelspec": {
   "display_name": "Python 3",
   "language": "python",
   "name": "python3"
  },
  "language_info": {
   "codemirror_mode": {
    "name": "ipython",
    "version": 3
   },
   "file_extension": ".py",
   "mimetype": "text/x-python",
   "name": "python",
   "nbconvert_exporter": "python",
   "pygments_lexer": "ipython3",
   "version": "3.6.12"
  }
 },
 "nbformat": 4,
 "nbformat_minor": 4
}
