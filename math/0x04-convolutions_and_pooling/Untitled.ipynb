{
 "cells": [
  {
   "cell_type": "code",
   "execution_count": 4,
   "metadata": {},
   "outputs": [],
   "source": [
    "#!cp 0-convolve_grayscale_valid.py 1-convolve_grayscale_same.py\n",
    "!chmod +x *.py"
   ]
  },
  {
   "cell_type": "code",
   "execution_count": 23,
   "metadata": {},
   "outputs": [
    {
     "name": "stdout",
     "output_type": "stream",
     "text": [
      "(50000, 28, 28)\n",
      "(50000, 26, 26)\n"
     ]
    },
    {
     "data": {
      "image/png": "[encoded data removed]",
      "text/plain": [
       "<Figure size 432x288 with 1 Axes>"
      ]
     },
     "metadata": {
      "needs_background": "light"
     },
     "output_type": "display_data"
    },
    {
     "data": {
      "image/png": "[encoded data removed]",
      "text/plain": [
       "<Figure size 432x288 with 1 Axes>"
      ]
     },
     "metadata": {
      "needs_background": "light"
     },
     "output_type": "display_data"
    }
   ],
   "source": [
    "#!/usr/bin/env python3\n",
    "\n",
    "import matplotlib.pyplot as plt\n",
    "import numpy as np\n",
    "from scipy import ndimage\n",
    "\n",
    "#convolve_grayscale_valid = __import__('0-convolve_grayscale_valid').convolve_grayscale_valid\n",
    "def convolve_grayscale_valid(images, kernel):\n",
    "    \"\"\" doc \"\"\"\n",
    "    m, h, w = images.shape\n",
    "    kh, kw = kernel.shape\n",
    "    imgh, imgw = h - kh + 1, w - kw + 1\n",
    "    output = np.zeros((m, imgh, imgw))\n",
    "    for i in range(imgh):\n",
    "        for j in range(imgw):\n",
    "            output[:, i, j] = np.tensordot(images[:,\n",
    "                                                  i:i+kh,\n",
    "                                                  j:j+kw],\n",
    "                                                  kernel)\n",
    "    return output\n",
    "\n",
    "\"\"\"for x in range(image.shape[1]):\n",
    "        for y in range(image.shape[0]):\n",
    "            # element-wise multiplication of the kernel and the image\n",
    "            output[y, x] = (kernel * image_padded[y: y+3, x: x+3]).sum()\"\"\"\n",
    "if __name__ == '__main__':\n",
    "\n",
    "    dataset = np.load('../../supervised_learning/data/MNIST.npz')\n",
    "    images = dataset['X_train']\n",
    "    print(images.shape)\n",
    "    kernel = np.array([[1 ,0, -1], [1, 0, -1], [1, 0, -1]])\n",
    "    images_conv = convolve_grayscale_valid(images, kernel)\n",
    "    #print(images_conv)\n",
    "    print(images_conv.shape)\n",
    "\n",
    "    plt.imshow(images[0], cmap='gray')\n",
    "    plt.show()\n",
    "    plt.imshow(images_conv[0], cmap='gray')\n",
    "    plt.show()"
   ]
  },
  {
   "cell_type": "code",
   "execution_count": 38,
   "metadata": {},
   "outputs": [
    {
     "name": "stdout",
     "output_type": "stream",
     "text": [
      "[[ 1  6 18]\n",
      " [ 1  6 18]\n",
      " [ 1  6 18]]\n",
      "[[ 3 12 27]\n",
      " [ 3 12 27]\n",
      " [ 3 12 27]]\n"
     ]
    }
   ],
   "source": [
    "ar = [\n",
    "        [\n",
    "            [1,3,6,9],\n",
    "            [1,3,6,9],\n",
    "            [1,3,6,9],\n",
    "            [1,3,6,9],\n",
    "            [1,3,6,9],\n",
    "        ],\n",
    "        [\n",
    "            [1,3,6,9],\n",
    "            [1,3,6,9],\n",
    "            [1,3,6,9],\n",
    "            [1,3,6,9],\n",
    "            [1,3,6,9],\n",
    "        ]\n",
    "    ]\n",
    "import numpy as np\n",
    "arr = np.array(ar)\n",
    "arr.shape\n",
    "k = [\n",
    "    [1,2,3],\n",
    "    [1,2,3],\n",
    "    [1,2,3],\n",
    "]\n",
    "for i in range(arr.shape[0]):\n",
    "    g = arr[i]\n",
    "    print(g[i:i+3, i:i+3]*k)"
   ]
  },
  {
   "cell_type": "code",
   "execution_count": 20,
   "metadata": {},
   "outputs": [
    {
     "name": "stdout",
     "output_type": "stream",
     "text": [
      "(50000, 28, 28)\n",
      "(50000, 28, 28)\n"
     ]
    },
    {
     "data": {
      "image/png": "[encoded data removed]",
      "text/plain": [
       "<Figure size 432x288 with 1 Axes>"
      ]
     },
     "metadata": {
      "needs_background": "light"
     },
     "output_type": "display_data"
    }
   ],
   "source": [
    "#!/usr/bin/env python3\n",
    "\n",
    "import matplotlib.pyplot as plt\n",
    "import numpy as np\n",
    "#convolve_grayscale_same = __import__('1-convolve_grayscale_same').convolve_grayscale_same\n",
    "def convolve_grayscale_same(images, kernel):\n",
    "    \"\"\" doc \"\"\"\n",
    "    m, h, w = images.shape\n",
    "    kh, kw = kernel.shape\n",
    "    imghp, imgwp = kh//2, kw//2\n",
    "    output = np.zeros((m, h, w))\n",
    "    new = np.pad(images, ((0, 0), (imghp, imghp), (imgwp, imgwp)), 'constant')\n",
    "    for i in range(h):\n",
    "        for j in range(w):\n",
    "            output[:, i, j] = np.tensordot(new[:,\n",
    "                                         i:i+kh,\n",
    "                                         j:j+kw],\n",
    "                                         kernel)\n",
    "    return output\n",
    "\n",
    "if __name__ == '__main__':\n",
    "\n",
    "    dataset = np.load('../../supervised_learning/data/MNIST.npz')\n",
    "    images = dataset['X_train']\n",
    "    print(images.shape)\n",
    "    kernel = np.array([[1 ,0, -1], [1, 0, -1], [1, 0, -1]])\n",
    "    images_conv = convolve_grayscale_same(images, kernel)\n",
    "    print(images_conv.shape)\n",
    "\n",
    "    #plt.imshow(images[0], cmap='gray')\n",
    "    #plt.show()\n",
    "    plt.imshow(images_conv[0], cmap='gray')\n",
    "    plt.show()\n"
   ]
  },
  {
   "cell_type": "code",
   "execution_count": 16,
   "metadata": {},
   "outputs": [
    {
     "data": {
      "text/plain": [
       "3"
      ]
     },
     "execution_count": 16,
     "metadata": {},
     "output_type": "execute_result"
    }
   ],
   "source": []
  },
  {
   "cell_type": "code",
   "execution_count": null,
   "metadata": {},
   "outputs": [],
   "source": []
  }
 ],
 "metadata": {
  "kernelspec": {
   "display_name": "Python 3",
   "language": "python",
   "name": "python3"
  },
  "language_info": {
   "codemirror_mode": {
    "name": "ipython",
    "version": 3
   },
   "file_extension": ".py",
   "mimetype": "text/x-python",
   "name": "python",
   "nbconvert_exporter": "python",
   "pygments_lexer": "ipython3",
   "version": "3.6.12"
  }
 },
 "nbformat": 4,
 "nbformat_minor": 4
}
