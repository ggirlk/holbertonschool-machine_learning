{
 "cells": [
  {
   "cell_type": "code",
   "execution_count": 138,
   "metadata": {},
   "outputs": [],
   "source": [
    "#!cp 4-convolve_channels.py 5-convolve.py\n",
    "!chmod +x *.py"
   ]
  },
  {
   "cell_type": "code",
   "execution_count": 27,
   "metadata": {},
   "outputs": [
    {
     "name": "stdout",
     "output_type": "stream",
     "text": [
      "(50000, 28, 28)\n",
      "(50000, 26, 26)\n"
     ]
    },
    {
     "data": {
      "image/png": "[encoded data removed]",
      "text/plain": [
       "<Figure size 432x288 with 1 Axes>"
      ]
     },
     "metadata": {
      "needs_background": "light"
     },
     "output_type": "display_data"
    },
    {
     "data": {
      "image/png": "[encoded data removed]",
      "text/plain": [
       "<Figure size 432x288 with 1 Axes>"
      ]
     },
     "metadata": {
      "needs_background": "light"
     },
     "output_type": "display_data"
    }
   ],
   "source": [
    "#!/usr/bin/env python3\n",
    "\n",
    "import matplotlib.pyplot as plt\n",
    "import numpy as np\n",
    "from scipy import ndimage\n",
    "\n",
    "#convolve_grayscale_valid = __import__('0-convolve_grayscale_valid').convolve_grayscale_valid\n",
    "def convolve_grayscale_valid(images, kernel):\n",
    "    \"\"\" doc \"\"\"\n",
    "    m, h, w = images.shape\n",
    "    kh, kw = kernel.shape\n",
    "    imgh, imgw = h - kh + 1, w - kw + 1\n",
    "    output = np.zeros((m, imgh, imgw))\n",
    "    for i in range(imgh):\n",
    "        for j in range(imgw):\n",
    "            output[:, i, j] = np.tensordot(images[:,\n",
    "                                                  i:i+kh,\n",
    "                                                  j:j+kw],\n",
    "                                                  kernel)\n",
    "    return output\n",
    "\n",
    "\"\"\"for x in range(image.shape[1]):\n",
    "        for y in range(image.shape[0]):\n",
    "            # element-wise multiplication of the kernel and the image\n",
    "            output[y, x] = (kernel * image_padded[y: y+3, x: x+3]).sum()\"\"\"\n",
    "if __name__ == '__main__':\n",
    "\n",
    "    dataset = np.load('../../supervised_learning/data/MNIST.npz')\n",
    "    images = dataset['X_train']\n",
    "    print(images.shape)\n",
    "    kernel = np.array([[1 ,0, -1], [1, 0, -1], [1, 0, -1]])\n",
    "    images_conv = convolve_grayscale_valid(images, kernel)\n",
    "    #print(images_conv)\n",
    "    print(images_conv.shape)\n",
    "\n",
    "    plt.imshow(images[0], cmap='gray')\n",
    "    plt.show()\n",
    "    plt.imshow(images_conv[0], cmap='gray')\n",
    "    plt.show()"
   ]
  },
  {
   "cell_type": "code",
   "execution_count": 38,
   "metadata": {},
   "outputs": [
    {
     "name": "stdout",
     "output_type": "stream",
     "text": [
      "[[ 1  6 18]\n",
      " [ 1  6 18]\n",
      " [ 1  6 18]]\n",
      "[[ 3 12 27]\n",
      " [ 3 12 27]\n",
      " [ 3 12 27]]\n"
     ]
    }
   ],
   "source": [
    "ar = [\n",
    "        [\n",
    "            [1,3,6,9],\n",
    "            [1,3,6,9],\n",
    "            [1,3,6,9],\n",
    "            [1,3,6,9],\n",
    "            [1,3,6,9],\n",
    "        ],\n",
    "        [\n",
    "            [1,3,6,9],\n",
    "            [1,3,6,9],\n",
    "            [1,3,6,9],\n",
    "            [1,3,6,9],\n",
    "            [1,3,6,9],\n",
    "        ]\n",
    "    ]\n",
    "import numpy as np\n",
    "arr = np.array(ar)\n",
    "arr.shape\n",
    "k = [\n",
    "    [1,2,3],\n",
    "    [1,2,3],\n",
    "    [1,2,3],\n",
    "]\n",
    "for i in range(arr.shape[0]):\n",
    "    g = arr[i]\n",
    "    print(g[i:i+3, i:i+3]*k)"
   ]
  },
  {
   "cell_type": "code",
   "execution_count": 28,
   "metadata": {},
   "outputs": [
    {
     "name": "stdout",
     "output_type": "stream",
     "text": [
      "(50000, 28, 28)\n",
      "(50000, 28, 28)\n"
     ]
    },
    {
     "data": {
      "image/png": "[encoded data removed]",
      "text/plain": [
       "<Figure size 432x288 with 1 Axes>"
      ]
     },
     "metadata": {
      "needs_background": "light"
     },
     "output_type": "display_data"
    }
   ],
   "source": [
    "#!/usr/bin/env python3\n",
    "\n",
    "import matplotlib.pyplot as plt\n",
    "import numpy as np\n",
    "#convolve_grayscale_same = __import__('1-convolve_grayscale_same').convolve_grayscale_same\n",
    "def convolve_grayscale_same(images, kernel):\n",
    "    \"\"\" doc \"\"\"\n",
    "    m, h, w = images.shape\n",
    "    kh, kw = kernel.shape\n",
    "    imghp, imgwp = kh//2, kw//2\n",
    "    output = np.zeros((m, h, w))\n",
    "    new = np.pad(images, ((0, 0), (imghp, imghp), (imgwp, imgwp)), 'constant')\n",
    "    for i in range(h):\n",
    "        for j in range(w):\n",
    "            output[:, i, j] = np.tensordot(new[:,\n",
    "                                         i:i+kh,\n",
    "                                         j:j+kw],\n",
    "                                         kernel)\n",
    "    return output\n",
    "\n",
    "if __name__ == '__main__':\n",
    "\n",
    "    dataset = np.load('../../supervised_learning/data/MNIST.npz')\n",
    "    images = dataset['X_train']\n",
    "    print(images.shape)\n",
    "    kernel = np.array([[1 ,0, -1], [1, 0, -1], [1, 0, -1]])\n",
    "    images_conv = convolve_grayscale_same(images, kernel)\n",
    "    print(images_conv.shape)\n",
    "\n",
    "    #plt.imshow(images[0], cmap='gray')\n",
    "    #plt.show()\n",
    "    plt.imshow(images_conv[0], cmap='gray')\n",
    "    plt.show()\n"
   ]
  },
  {
   "cell_type": "code",
   "execution_count": 54,
   "metadata": {},
   "outputs": [
    {
     "name": "stdout",
     "output_type": "stream",
     "text": [
      "(50000, 28, 28)\n",
      "(50000, 30, 34)\n"
     ]
    },
    {
     "data": {
      "image/png": "[encoded data removed]",
      "text/plain": [
       "<Figure size 432x288 with 1 Axes>"
      ]
     },
     "metadata": {
      "needs_background": "light"
     },
     "output_type": "display_data"
    },
    {
     "data": {
      "image/png": "[encoded data removed]",
      "text/plain": [
       "<Figure size 432x288 with 1 Axes>"
      ]
     },
     "metadata": {
      "needs_background": "light"
     },
     "output_type": "display_data"
    }
   ],
   "source": [
    "#!/usr/bin/env python3\n",
    "\n",
    "import matplotlib.pyplot as plt\n",
    "import numpy as np\n",
    "#convolve_grayscale_padding = __import__('2-convolve_grayscale_padding').convolve_grayscale_padding\n",
    "def convolve_grayscale_padding(images, kernel, padding):\n",
    "    \"\"\" doc \"\"\"\n",
    "    m, imgh, imgw = images.shape\n",
    "    kh, kw = kernel.shape\n",
    "    if padding == 'same':\n",
    "        imghp, imgwp = kh//2, kw//2\n",
    "    if padding == 'valid':\n",
    "        imghp, imgwp = 0, 0\n",
    "    if type(padding) == tuple:\n",
    "        imghp, imgwp = padding\n",
    "    imgh, imgw = imgh - kh + 2*imghp + 1, imgw - kw + 2*imgwp + 1\n",
    "    output = np.zeros((m, imgh, imgw))\n",
    "    new = np.pad(images, ((0, 0), (imghp, imghp), (imgwp, imgwp)), 'constant')\n",
    "    for i in range(imgh):\n",
    "        for j in range(imgw):\n",
    "            output[:, i, j] = np.tensordot(new[:,\n",
    "                                           i:i+kh,\n",
    "                                           j:j+kw],\n",
    "                                           kernel)\n",
    "    return output\n",
    "\n",
    "if __name__ == '__main__':\n",
    "\n",
    "    dataset = np.load('../../supervised_learning/data/MNIST.npz')\n",
    "    images = dataset['X_train']\n",
    "    print(images.shape)\n",
    "    kernel = np.array([[1 ,0, -1], [1, 0, -1], [1, 0, -1]])\n",
    "    images_conv = convolve_grayscale_padding(images, kernel, (2, 4))\n",
    "    print(images_conv.shape)\n",
    "\n",
    "    plt.imshow(images[0], cmap='gray')\n",
    "    plt.show()\n",
    "    plt.imshow(images_conv[0], cmap='gray')\n",
    "    plt.show()"
   ]
  },
  {
   "cell_type": "code",
   "execution_count": 81,
   "metadata": {},
   "outputs": [
    {
     "name": "stdout",
     "output_type": "stream",
     "text": [
      "(50000, 28, 28)\n",
      "(50000, 28, 28)\n"
     ]
    },
    {
     "data": {
      "image/png": "[encoded data removed]",
      "text/plain": [
       "<Figure size 432x288 with 1 Axes>"
      ]
     },
     "metadata": {
      "needs_background": "light"
     },
     "output_type": "display_data"
    },
    {
     "data": {
      "image/png": "[encoded data removed]",
      "text/plain": [
       "<Figure size 432x288 with 1 Axes>"
      ]
     },
     "metadata": {
      "needs_background": "light"
     },
     "output_type": "display_data"
    }
   ],
   "source": [
    "#!/usr/bin/env python3\n",
    "\n",
    "import matplotlib.pyplot as plt\n",
    "import numpy as np\n",
    "#convolve_grayscale = __import__('3-convolve_grayscale').convolve_grayscale\n",
    "def convolve_grayscale(images, kernel, padding='same', stride=(1, 1)):\n",
    "    \"\"\" doc \"\"\"\n",
    "    m, imgh, imgw = images.shape\n",
    "    kh, kw = kernel.shape\n",
    "    sh, sw = stride\n",
    "    if padding == 'same':\n",
    "        imghp = (((imgh - 1) * sh + kh - imgh) // 2) + 1\n",
    "        imgwp = (((imgw - 1) * sw + kw - imgw) // 2) + 1\n",
    "    if padding == 'valid':\n",
    "        imghp, imgwp = 0, 0\n",
    "    if type(padding) == tuple:\n",
    "        imghp, imgwp = padding\n",
    "    imgh, imgw = (imgh-kh+2*imghp)//sh + 1, (imgw-kw+2*imgwp)//sw + 1\n",
    "    output = np.zeros((m, imgh, imgw))\n",
    "    if padding != 'valid':\n",
    "        images = np.pad(images, ((0, 0),\n",
    "                                 (imghp, imghp),\n",
    "                                 (imgwp, imgwp)),\n",
    "                        'constant')\n",
    "    for i in range(imgh):\n",
    "        for j in range(imgw):\n",
    "            output[:, i, j] = np.tensordot(images[:,\n",
    "                                           i*sh:i*sh+kh,\n",
    "                                           j*sw:j*sw+kw],\n",
    "                                           kernel)\n",
    "    return output\n",
    "\n",
    "if __name__ == '__main__':\n",
    "\n",
    "    dataset = np.load('../../supervised_learning/data/MNIST.npz')\n",
    "    images = dataset['X_train']\n",
    "    print(images.shape)\n",
    "    kernel = np.array([[1 ,0, -1], [1, 0, -1], [1, 0, -1]])\n",
    "    images_conv = convolve_grayscale(images, kernel, padding='same', stride=(2, 2))\n",
    "    print(images_conv.shape)\n",
    "\n",
    "    plt.imshow(images[0], cmap='gray')\n",
    "    plt.show()\n",
    "    plt.imshow(images_conv[0], cmap='gray')\n",
    "    plt.show()"
   ]
  },
  {
   "cell_type": "code",
   "execution_count": 154,
   "metadata": {},
   "outputs": [
    {
     "name": "stdout",
     "output_type": "stream",
     "text": [
      "(10000, 32, 32, 3)\n",
      "(3, 3, 3)\n",
      "(10000, 30, 30)\n"
     ]
    },
    {
     "data": {
      "image/png": "[encoded data removed]",
      "text/plain": [
       "<Figure size 432x288 with 1 Axes>"
      ]
     },
     "metadata": {
      "needs_background": "light"
     },
     "output_type": "display_data"
    },
    {
     "data": {
      "image/png": "[encoded data removed]",
      "text/plain": [
       "<Figure size 432x288 with 1 Axes>"
      ]
     },
     "metadata": {
      "needs_background": "light"
     },
     "output_type": "display_data"
    }
   ],
   "source": [
    "#!/usr/bin/env python3\n",
    "\n",
    "import matplotlib.pyplot as plt\n",
    "import numpy as np\n",
    "#convolve_channels = __import__('4-convolve_channels').convolve_channels\n",
    "def convolve_channels(images, kernel, padding='same', stride=(1, 1)):\n",
    "    \"\"\" doc \"\"\"\n",
    "    m, imgh, imgw, c = images.shape\n",
    "    kh, kw, kc = kernel.shape\n",
    "    sh, sw = stride\n",
    "    imghp, imgwp = 0, 0\n",
    "    if padding == 'same':\n",
    "        imghp = (((imgh - 1) * sh + kh - imgh) // 2) + 1\n",
    "        imgwp = (((imgw - 1) * sw + kw - imgw) // 2) + 1\n",
    "        \n",
    "    if type(padding) == tuple:\n",
    "        imghp, imgwp = padding\n",
    "    imgh, imgw = (imgh-kh+2*imghp)//sh + 1, (imgw-kw+2*imgwp)//sw + 1\n",
    "    output = np.zeros((m, imgh, imgw))\n",
    "    new = np.pad(images, ((0, 0), (imghp, imghp), (imgwp, imgwp), (0, 0)), 'constant')\n",
    "    for i in range(imgh):\n",
    "        for j in range(imgw):\n",
    "            output[:, i, j] = np.sum(new[:,\n",
    "                                         i*sh:i*sh+kh,\n",
    "                                         j*sw:j*sw+kw, :]\n",
    "                                         *kernel, axis=(1, 2, 3))\n",
    "    return output\n",
    "\n",
    "if __name__ == '__main__':\n",
    "\n",
    "    dataset = np.load('../../supervised_learning/data/animals_1.npz')\n",
    "    images = dataset['data']\n",
    "    print(images.shape)\n",
    "    kernel = np.array([[\n",
    "                        [0, 0, 0], [-1, -1, -1], [0, 0, 0]\n",
    "                        ],\n",
    "                       [\n",
    "                        [-1, -1, -1], [5, 5, 5], [-1, -1, -1]\n",
    "                       ],\n",
    "                       [\n",
    "                        [0, 0, 0], [-1, -1, -1], [0, 0, 0]\n",
    "                       ]\n",
    "                      ])\n",
    "    print(kernel.shape)\n",
    "    images_conv = convolve_channels(images, kernel, padding='valid')\n",
    "    print(images_conv.shape)\n",
    "\n",
    "    plt.imshow(images[0])\n",
    "    plt.show()\n",
    "    plt.imshow(images_conv[0])\n",
    "    plt.show()"
   ]
  },
  {
   "cell_type": "code",
   "execution_count": 2,
   "metadata": {},
   "outputs": [
    {
     "name": "stdout",
     "output_type": "stream",
     "text": [
      "(10000, 32, 32, 3)\n",
      "(10000, 30, 30, 3)\n"
     ]
    },
    {
     "data": {
      "image/png": "[encoded data removed]",
      "text/plain": [
       "<Figure size 432x288 with 1 Axes>"
      ]
     },
     "metadata": {
      "needs_background": "light"
     },
     "output_type": "display_data"
    },
    {
     "data": {
      "image/png": "[encoded data removed]",
      "text/plain": [
       "<Figure size 432x288 with 1 Axes>"
      ]
     },
     "metadata": {
      "needs_background": "light"
     },
     "output_type": "display_data"
    },
    {
     "data": {
      "image/png": "[encoded data removed]",
      "text/plain": [
       "<Figure size 432x288 with 1 Axes>"
      ]
     },
     "metadata": {
      "needs_background": "light"
     },
     "output_type": "display_data"
    },
    {
     "data": {
      "image/png": "[encoded data removed]",
      "text/plain": [
       "<Figure size 432x288 with 1 Axes>"
      ]
     },
     "metadata": {
      "needs_background": "light"
     },
     "output_type": "display_data"
    }
   ],
   "source": [
    "#!/usr/bin/env python3\n",
    "\n",
    "import matplotlib.pyplot as plt\n",
    "import numpy as np\n",
    "#convolve = __import__('5-convolve').convolve\n",
    "def convolve(images, kernels, padding='same', stride=(1, 1)):\n",
    "    \"\"\" doc \"\"\"\n",
    "    m, imgh, imgw, c = images.shape\n",
    "    kh, kw, kc, knc = kernels.shape\n",
    "    sh, sw = stride\n",
    "    imghp, imgwp = 0, 0\n",
    "    if padding == 'same':\n",
    "        imghp = (((imgh - 1) * sh + kh - imgh) // 2) + 1\n",
    "        imgwp = (((imgw - 1) * sw + kw - imgw) // 2) + 1\n",
    "\n",
    "    if type(padding) == tuple:\n",
    "        imghp, imgwp = padding\n",
    "    imgh, imgw = (imgh-kh+2*imghp)//sh + 1, (imgw-kw+2*imgwp)//sw + 1\n",
    "    output = np.zeros((m, imgh, imgw, c))\n",
    "    new = np.pad(images, ((0, 0), (imghp, imghp),\n",
    "                          (imgwp, imgwp), (0, 0)),\n",
    "                 'constant',\n",
    "                 constant_values=0)\n",
    "    for k in range(knc):\n",
    "        for i in range(imgh):\n",
    "            for j in range(imgw):\n",
    "                output[:, i, j, k] = np.sum(kernels[..., k]\n",
    "                                            * new[:,\n",
    "                                                i*sh:i*sh+kh,\n",
    "                                                j*sw:j*sw+kw, :],\n",
    "                                            axis=(1, 2, 3))\n",
    "    return output\n",
    "\n",
    "if __name__ == '__main__':\n",
    "\n",
    "    dataset = np.load('../../supervised_learning/data/animals_1.npz')\n",
    "    images = dataset['data']\n",
    "    print(images.shape)\n",
    "    kernels = np.array([[[[0, 1, 1], [0, 1, 1], [0, 1, 1]], [[-1, 0, 1], [-1, 0, 1], [-1, 0, 1]], [[0, -1, 1], [0, -1, 1], [0, -1, 1]]],\n",
    "                       [[[-1, 1, 0], [-1, 1, 0], [-1, 1, 0]], [[5, 0, 0], [5, 0, 0], [5, 0, 0]], [[-1, -1, 0], [-1, -1, 0], [-1, -1, 0]]],\n",
    "                       [[[0, 1, -1], [0, 1, -1], [0, 1, -1]], [[-1, 0, -1], [-1, 0, -1], [-1, 0, -1]], [[0, -1, -1], [0, -1, -1], [0, -1, -1]]]])\n",
    "\n",
    "    images_conv = convolve(images, kernels, padding='valid')\n",
    "    print(images_conv.shape)\n",
    "\n",
    "    plt.imshow(images[0])\n",
    "    plt.show()\n",
    "    plt.imshow(images_conv[0, :, :, 0])\n",
    "    plt.show()\n",
    "    plt.imshow(images_conv[0, :, :, 1])\n",
    "    plt.show()\n",
    "    plt.imshow(images_conv[0, :, :, 2])\n",
    "    plt.show()"
   ]
  },
  {
   "cell_type": "code",
   "execution_count": null,
   "metadata": {},
   "outputs": [],
   "source": []
  }
 ],
 "metadata": {
  "kernelspec": {
   "display_name": "Python 3",
   "language": "python",
   "name": "python3"
  },
  "language_info": {
   "codemirror_mode": {
    "name": "ipython",
    "version": 3
   },
   "file_extension": ".py",
   "mimetype": "text/x-python",
   "name": "python",
   "nbconvert_exporter": "python",
   "pygments_lexer": "ipython3",
   "version": "3.6.12"
  }
 },
 "nbformat": 4,
 "nbformat_minor": 4
}
