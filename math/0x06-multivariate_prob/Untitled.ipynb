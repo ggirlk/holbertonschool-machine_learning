{
 "cells": [
  {
   "cell_type": "code",
   "execution_count": 2,
   "metadata": {},
   "outputs": [],
   "source": [
    "!cp 0-mean_cov.py "
   ]
  },
  {
   "cell_type": "code",
   "execution_count": 3,
   "metadata": {},
   "outputs": [],
   "source": [
    "!chmod +x *.py"
   ]
  },
  {
   "cell_type": "code",
   "execution_count": 497,
   "metadata": {},
   "outputs": [],
   "source": [
    "#!/usr/bin/env python3\n",
    "\"\"\" mean cov \"\"\"\n",
    "import numpy as np\n",
    "\n",
    "\n",
    "def mean_cov(X):\n",
    "    \"\"\"\n",
    "    calculate the mean and\n",
    "    covariance of a data set\n",
    "    \"\"\"\n",
    "    mean = X.mean(axis=0, keepdims=True)\n",
    "    n = X.shape[0] - 1\n",
    "    x = X - mean\n",
    "    cov = np.dot(x.T, X.conj()) / n\n",
    "    return mean, cov"
   ]
  },
  {
   "cell_type": "code",
   "execution_count": 498,
   "metadata": {},
   "outputs": [
    {
     "name": "stdout",
     "output_type": "stream",
     "text": [
      "[[12.04341828 29.92870885 10.00515808]]\n",
      "[[ 36.2007391  -29.79405239  15.37992641]\n",
      " [-29.79405239  97.77730626 -20.67970134]\n",
      " [ 15.37992641 -20.67970134  24.93956823]]\n",
      "[[ 36.2007391  -29.79405239  15.37992641]\n",
      " [-29.79405239  97.77730626 -20.67970134]\n",
      " [ 15.37992641 -20.67970134  24.93956823]]\n",
      "[[ 36.2007391  -29.79405239  15.37992641]\n",
      " [-29.79405239  97.77730626 -20.67970134]\n",
      " [ 15.37992641 -20.67970134  24.93956823]]\n"
     ]
    }
   ],
   "source": [
    "#!/usr/bin/env python3\n",
    "\n",
    "if __name__ == '__main__':\n",
    "    import numpy as np\n",
    "    #mean_cov = __import__('0-mean_cov').mean_cov\n",
    "\n",
    "    np.random.seed(0)\n",
    "    X = np.random.multivariate_normal([12, 30, 10], [[36, -30, 15], [-30, 100, -20], [15, -20, 25]], 10000)\n",
    "    #print(X)\n",
    "    mean, cov = mean_cov(X)\n",
    "    print(mean)\n",
    "    print(np.cov(X.T))\n",
    "    print(cov)\n",
    "    print(cov.T)\n",
    "    "
   ]
  },
  {
   "cell_type": "code",
   "execution_count": 576,
   "metadata": {},
   "outputs": [],
   "source": [
    "def correlation(C):\n",
    "    \"\"\"\n",
    "    calculate a correlation matrix\n",
    "    \"\"\"\n",
    "    if type(C) is not np.ndarray:\n",
    "        raise TypeError(\"C must be a numpy.ndarray\")\n",
    "    if C.shape[0] != C.shape[0]:\n",
    "        raise ValueError(\"C must be a 2D square\")\n",
    "    _, cov = mean_cov(C)\n",
    "    return (np.corrcoef(C))"
   ]
  },
  {
   "cell_type": "code",
   "execution_count": 577,
   "metadata": {},
   "outputs": [
    {
     "name": "stdout",
     "output_type": "stream",
     "text": [
      "[[ 36 -30  15]\n",
      " [-30 100 -20]\n",
      " [ 15 -20  25]]\n",
      "[[ 1.         -0.96953103  0.86287064]\n",
      " [-0.96953103  1.         -0.96039304]\n",
      " [ 0.86287064 -0.96039304  1.        ]]\n"
     ]
    }
   ],
   "source": [
    "#!/usr/bin/env python3\n",
    "\n",
    "if __name__ == '__main__':\n",
    "    import numpy as np\n",
    "    #correlation = __import__('1-correlation').correlation\n",
    "\n",
    "    C = np.array([[36, -30, 15], [-30, 100, -20], [15, -20, 25]])\n",
    "    Co = correlation(C)\n",
    "    print(C)\n",
    "    print(Co)"
   ]
  },
  {
   "cell_type": "code",
   "execution_count": null,
   "metadata": {},
   "outputs": [],
   "source": []
  }
 ],
 "metadata": {
  "kernelspec": {
   "display_name": "Python 3",
   "language": "python",
   "name": "python3"
  },
  "language_info": {
   "codemirror_mode": {
    "name": "ipython",
    "version": 3
   },
   "file_extension": ".py",
   "mimetype": "text/x-python",
   "name": "python",
   "nbconvert_exporter": "python",
   "pygments_lexer": "ipython3",
   "version": "3.6.13"
  }
 },
 "nbformat": 4,
 "nbformat_minor": 4
}
