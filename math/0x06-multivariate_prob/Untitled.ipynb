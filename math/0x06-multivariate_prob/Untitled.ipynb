{
 "cells": [
  {
   "cell_type": "code",
   "execution_count": 697,
   "metadata": {},
   "outputs": [],
   "source": [
    "#!cp 0-mean_cov.py multinormal.py"
   ]
  },
  {
   "cell_type": "code",
   "execution_count": 3,
   "metadata": {},
   "outputs": [],
   "source": [
    "!chmod +x *.py"
   ]
  },
  {
   "cell_type": "code",
   "execution_count": 497,
   "metadata": {},
   "outputs": [],
   "source": [
    "#!/usr/bin/env python3\n",
    "\"\"\" mean cov \"\"\"\n",
    "import numpy as np\n",
    "\n",
    "\n",
    "def mean_cov(X):\n",
    "    \"\"\"\n",
    "    calculate the mean and\n",
    "    covariance of a data set\n",
    "    \"\"\"\n",
    "    mean = X.mean(axis=0, keepdims=True)\n",
    "    n = X.shape[0] - 1\n",
    "    x = X - mean\n",
    "    cov = np.dot(x.T, X.conj()) / n\n",
    "    return mean, cov"
   ]
  },
  {
   "cell_type": "code",
   "execution_count": 498,
   "metadata": {},
   "outputs": [
    {
     "name": "stdout",
     "output_type": "stream",
     "text": [
      "[[12.04341828 29.92870885 10.00515808]]\n",
      "[[ 36.2007391  -29.79405239  15.37992641]\n",
      " [-29.79405239  97.77730626 -20.67970134]\n",
      " [ 15.37992641 -20.67970134  24.93956823]]\n",
      "[[ 36.2007391  -29.79405239  15.37992641]\n",
      " [-29.79405239  97.77730626 -20.67970134]\n",
      " [ 15.37992641 -20.67970134  24.93956823]]\n",
      "[[ 36.2007391  -29.79405239  15.37992641]\n",
      " [-29.79405239  97.77730626 -20.67970134]\n",
      " [ 15.37992641 -20.67970134  24.93956823]]\n"
     ]
    }
   ],
   "source": [
    "#!/usr/bin/env python3\n",
    "\n",
    "if __name__ == '__main__':\n",
    "    import numpy as np\n",
    "    #mean_cov = __import__('0-mean_cov').mean_cov\n",
    "\n",
    "    np.random.seed(0)\n",
    "    X = np.random.multivariate_normal([12, 30, 10], [[36, -30, 15], [-30, 100, -20], [15, -20, 25]], 10000)\n",
    "    #print(X)\n",
    "    mean, cov = mean_cov(X)\n",
    "    print(mean)\n",
    "    print(np.cov(X.T))\n",
    "    print(cov)\n",
    "    print(cov.T)\n",
    "    "
   ]
  },
  {
   "cell_type": "code",
   "execution_count": 695,
   "metadata": {},
   "outputs": [],
   "source": [
    "def correlation(C):\n",
    "    \"\"\"\n",
    "    calculate a correlation matrix\n",
    "    \"\"\"\n",
    "    if type(C) is not np.ndarray:\n",
    "        raise TypeError(\"C must be a numpy.ndarray\")\n",
    "    if C.shape[0] != C.shape[1]:\n",
    "        raise ValueError(\"C must be a 2D square\")\n",
    "    corr = np.ndarray((C.shape))\n",
    "    d = C.shape[0]\n",
    "    for i in range(d):\n",
    "        for j in range(d):\n",
    "            corr[i,j] = C[i,j]/(np.sqrt(C[i,i]*C[j,j]))\n",
    "    return corr\n",
    "    "
   ]
  },
  {
   "cell_type": "code",
   "execution_count": 696,
   "metadata": {},
   "outputs": [
    {
     "name": "stdout",
     "output_type": "stream",
     "text": [
      "[[ 36 -30  15]\n",
      " [-30 100 -20]\n",
      " [ 15 -20  25]]\n",
      "[[ 1.  -0.5  0.5]\n",
      " [-0.5  1.  -0.4]\n",
      " [ 0.5 -0.4  1. ]]\n"
     ]
    }
   ],
   "source": [
    "#!/usr/bin/env python3\n",
    "\n",
    "if __name__ == '__main__':\n",
    "    import numpy as np\n",
    "    #correlation = __import__('1-correlation').correlation\n",
    "\n",
    "    C = np.array([[36, -30, 15], [-30, 100, -20], [15, -20, 25]])\n",
    "    Co = correlation(C)\n",
    "    print(C)\n",
    "    print(Co)"
   ]
  },
  {
   "cell_type": "code",
   "execution_count": 774,
   "metadata": {},
   "outputs": [],
   "source": [
    "#!/usr/bin/env python3\n",
    "\"\"\" mean cov \"\"\"\n",
    "import numpy as np\n",
    "\n",
    "\n",
    "def mean_cov(X):\n",
    "    \"\"\"\n",
    "    calculate the mean and\n",
    "    covariance of a data set\n",
    "    \"\"\"\n",
    "    if type(X) != np.ndarray or (len(X.shape) != 2):\n",
    "        raise TypeError(\"X must be a 2D numpy.ndarray\")\n",
    "    n = X.shape[0] - 1\n",
    "    if n < 2:\n",
    "        raise ValueError(\"X must contain multiple data points\")\n",
    "    mean = X.mean(axis=0, keepdims=True)\n",
    "    x = X - mean\n",
    "    cov = np.dot(x.T, X.conj()) / n\n",
    "    return mean, cov\n",
    "\n",
    "\n",
    "class MultiNormal():\n",
    "    \"\"\" Multivariate Normal distribution \"\"\"\n",
    "\n",
    "    def __init__(self, data):\n",
    "        \"\"\" constructor \"\"\"\n",
    "        if type(data) is not np.ndarray or len(data.shape) < 2:\n",
    "            raise TypeError(\"data must be a 2D numpy.ndarray\")\n",
    "        if data.shape[1] < 2:\n",
    "            raise ValueError(\"data must contain multiple data points\")\n",
    "\n",
    "        self.mean = data.mean(axis=1, keepdims=True)\n",
    "        _, self.cov = mean_cov(data.T)\n",
    "\n",
    "    def pdf(self, x):\n",
    "        \"\"\" calculate the PDF at a data point \"\"\"\n",
    "        if type(x) is not np.ndarray:\n",
    "            raise TypeError(\"x must be a numpy.ndarray\")\n",
    "        if len(x.shape) != 2 or x.shape[1] != 1\\\n",
    "            or x.shape[0] != self.mean.shape[0]:\n",
    "            raise ValueError(\"x must have the shape ({d}, 1)\"\n",
    "                             .format(self.mean.shape[0]))\n",
    "        d = x.shape[0]\n",
    "        x_m = x - self.mean\n",
    "        sqrt = np.sqrt((2 * np.pi)**d * np.linalg.det(self.cov))\n",
    "        exp = np.exp(-(np.linalg.solve(self.cov, x_m).T.dot(x_m)) / 2)\n",
    "        return (1 / (sqrt) * exp)[0][0]\n"
   ]
  },
  {
   "cell_type": "code",
   "execution_count": 776,
   "metadata": {},
   "outputs": [
    {
     "name": "stdout",
     "output_type": "stream",
     "text": [
      "[[ 8.20311936]\n",
      " [32.84231319]\n",
      " [ 9.67254478]]\n",
      "0.00022930236202143217\n"
     ]
    }
   ],
   "source": [
    "#!/usr/bin/env python3\n",
    "\n",
    "if __name__ == '__main__':\n",
    "    import numpy as np\n",
    "    #from multinormal import MultiNormal\n",
    "\n",
    "    np.random.seed(0)\n",
    "    data = np.random.multivariate_normal([12, 30, 10], [[36, -30, 15], [-30, 100, -20], [15, -20, 25]], 10000).T\n",
    "    mn = MultiNormal(data)\n",
    "    x = np.random.multivariate_normal([12, 30, 10], [[36, -30, 15], [-30, 100, -20], [15, -20, 25]], 1).T\n",
    "    print(x)\n",
    "    print(mn.pdf(x))"
   ]
  },
  {
   "cell_type": "code",
   "execution_count": 703,
   "metadata": {},
   "outputs": [
    {
     "name": "stdout",
     "output_type": "stream",
     "text": [
      "[[12.04341828]\n",
      " [29.92870885]\n",
      " [10.00515808]]\n",
      "[[ 36.2007391  -29.79405239  15.37992641]\n",
      " [-29.79405239  97.77730626 -20.67970134]\n",
      " [ 15.37992641 -20.67970134  24.93956823]]\n"
     ]
    }
   ],
   "source": [
    "if __name__ == '__main__':\n",
    "    import numpy as np\n",
    "    #from multinormal import MultiNormal\n",
    "\n",
    "    np.random.seed(0)\n",
    "    data = np.random.multivariate_normal([12, 30, 10], [[36, -30, 15], [-30, 100, -20], [15, -20, 25]], 10000).T\n",
    "    mn = MultiNormal(data)\n",
    "    print(mn.mean)\n",
    "    print(mn.cov)"
   ]
  },
  {
   "cell_type": "code",
   "execution_count": null,
   "metadata": {},
   "outputs": [],
   "source": [
    "np.trapz(y, x=None, dx=1.0, axis=-1) # integral definite"
   ]
  },
  {
   "cell_type": "code",
   "execution_count": 773,
   "metadata": {},
   "outputs": [
    {
     "data": {
      "text/plain": [
       "17"
      ]
     },
     "execution_count": 773,
     "metadata": {},
     "output_type": "execute_result"
    }
   ],
   "source": [
    "len('00022930236202143')"
   ]
  },
  {
   "cell_type": "code",
   "execution_count": null,
   "metadata": {},
   "outputs": [],
   "source": []
  }
 ],
 "metadata": {
  "kernelspec": {
   "display_name": "Python 3",
   "language": "python",
   "name": "python3"
  },
  "language_info": {
   "codemirror_mode": {
    "name": "ipython",
    "version": 3
   },
   "file_extension": ".py",
   "mimetype": "text/x-python",
   "name": "python",
   "nbconvert_exporter": "python",
   "pygments_lexer": "ipython3",
   "version": "3.6.13"
  }
 },
 "nbformat": 4,
 "nbformat_minor": 4
}
