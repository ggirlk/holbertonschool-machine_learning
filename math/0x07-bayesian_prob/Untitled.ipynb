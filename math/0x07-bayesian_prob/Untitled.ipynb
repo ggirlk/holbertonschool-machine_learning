{
 "cells": [
  {
   "cell_type": "code",
   "execution_count": 6,
   "metadata": {},
   "outputs": [],
   "source": [
    "#!cp 0-likelihood.py 1-intersection.py\n",
    "#!cp 1-intersection.py 2-marginal.py\n",
    "#!cp 2-marginal.py 2-marginal.py\n",
    "#!cp 2-marginal.py 100-continuous.py\n"
   ]
  },
  {
   "cell_type": "code",
   "execution_count": 1,
   "metadata": {},
   "outputs": [],
   "source": [
    "#!/usr/bin/env python3\n",
    "\"\"\" Bayesian Probability \"\"\"\n",
    "import numpy as np\n",
    "import scipy.special as special\n",
    "\n",
    "\n",
    "def likelihood(x, n, P):\n",
    "    \"\"\"\n",
    "    ****************************************************\n",
    "    ****** calculates the likelihood of obtaining ******\n",
    "    *this data given various hypothetical probabilities*\n",
    "    *********of developing severe side effects**********\n",
    "    ****************************************************\n",
    "    @x: is the number of patients that develop severe side effects\n",
    "    @n: is the total number of patients observed\n",
    "    @P: is a 1D numpy.ndarray containing the various hypothetical\n",
    "        probabilities of developing severe side effects\n",
    "    *** If n is not a positive integer, raise a ValueError with\n",
    "        the message n must be a positive integer\n",
    "    *** If x is not an integer that is greater than or equal to 0,\n",
    "        raise a ValueError with the message x must be an integer\n",
    "        that is greater than or equal to 0\n",
    "    *** If x is greater than n, raise a ValueError with the message\n",
    "        x cannot be greater than n\n",
    "    *** If P is not a 1D numpy.ndarray, raise a TypeError with\n",
    "        the message P must be a 1D numpy.ndarray\n",
    "    *** If any value in P is not in the range [0, 1], raise a ValueError\n",
    "        with the message All values in P must be in the range [0, 1]\n",
    "    Returns:\n",
    "            a 1D numpy.ndarray containing the likelihood of obtaining\n",
    "            the data, x and n, for each probability in P, respectively\n",
    "    \"\"\"\n",
    "    if n < 0:\n",
    "        raise ValueError(\"n must be a positive integer\")\n",
    "    if type(x) is not int or x < 0:\n",
    "        raise ValueError(\"x must be an integer that is greater than or equal to 0\")\n",
    "    if x > n:\n",
    "        raise ValueError(\"x cannot be greater than n\")\n",
    "    if type(P) is not np.ndarray or len(P.shape) > 1:\n",
    "        raise TypeError(\"P must be a 1D numpy.ndarray\")\n",
    "    if not all(i for i in P) in range(0, 1):\n",
    "        raise ValueError(\"All values in P must be in the range [0, 1]\")\n",
    "    return special.binom(n, x) * pow(P, x) * pow(1 - P, n - x)"
   ]
  },
  {
   "cell_type": "code",
   "execution_count": 2,
   "metadata": {},
   "outputs": [
    {
     "name": "stdout",
     "output_type": "stream",
     "text": [
      "[0.  0.1 0.2 0.3 0.4 0.5 0.6 0.7 0.8 0.9 1. ]\n",
      "[0.00000000e+00 2.71330957e-04 8.71800070e-02 3.07345706e-03\n",
      " 5.93701546e-07 1.14387595e-12 1.09257177e-20 6.10151799e-32\n",
      " 9.54415702e-49 1.00596671e-78 0.00000000e+00]\n"
     ]
    }
   ],
   "source": [
    "#!/usr/bin/env python3\n",
    "\n",
    "if __name__ == '__main__':\n",
    "    import numpy as np\n",
    "    #likelihood = __import__('0-likelihood').likelihood\n",
    "\n",
    "    P = np.linspace(0, 1, 11) # [0.0, 0.1, 0.2, 0.3, 0.4, 0.5, 0.6, 0.7, 0.8, 0.9, 1.0]\n",
    "    print(P)\n",
    "    print(likelihood(26, 130, P))"
   ]
  },
  {
   "cell_type": "code",
   "execution_count": 4,
   "metadata": {},
   "outputs": [],
   "source": [
    "def intersection(x, n, P, Pr):\n",
    "    \"\"\"\n",
    "    *********************************************************************\n",
    "    ***Calculate intersection of data given hypothetical probabilities***\n",
    "    *********************************************************************\n",
    "    @x: is the number of patients that develop severe side effects\n",
    "    @n: is the total number of patients observed\n",
    "    @P: is a 1D numpy.ndarray containing the various hypothetical\n",
    "        probabilities of developing severe side effects\n",
    "    @Pr: is a 1D numpy.ndarray containing the prior beliefs of P\n",
    "    *** If n is not a positive integer, raise a ValueError with\n",
    "        the message n must be a positive integer\n",
    "    *** If x is not an integer that is greater than or equal to 0,\n",
    "        raise a ValueError with the message x must be an integer\n",
    "        that is greater than or equal to 0\n",
    "    *** If x is greater than n, raise a ValueError with the message\n",
    "        x cannot be greater than n\n",
    "    *** If P is not a 1D numpy.ndarray, raise a TypeError with\n",
    "        the message P must be a 1D numpy.ndarray\n",
    "    *** If Pr is not a numpy.ndarray with the same shape as P,\n",
    "        raise a TypeError with the message Pr must be a numpy.ndarray\n",
    "        with the same shape as P\n",
    "    *** If any value in P or Pr is not in the range [0, 1], raise\n",
    "        a ValueError with the message All values in {P} must be in\n",
    "        the range [0, 1] where {P} is the incorrect variable\n",
    "    *** If Pr does not sum to 1, raise a ValueError with the message\n",
    "        Pr must sum to 1 Hint: use numpy.isclose\n",
    "    *** All exceptions should be raised in the above order\n",
    "    Returns:\n",
    "            a 1D numpy.ndarray containing the intersection of obtaining\n",
    "            x and n with each probability in P, respectively\n",
    "    \"\"\"\n",
    "    if type(n) is not int or n <= 0:\n",
    "        raise ValueError(\"n must be a positive integer\")\n",
    "    if type(x) is not int or x <= 0:\n",
    "        raise ValueError(\"x must be an integer that is \"\n",
    "                         \"greater than or equal to 0\")\n",
    "    if x > n:\n",
    "        raise ValueError(\"x cannot be greater than n\")\n",
    "    if type(P) is not np.ndarray or len(P.shape) != 1:\n",
    "        raise TypeError(\"P must be a 1D numpy.ndarray\")\n",
    "    if type(Pr) is not np.ndarray or P.shape != Pr.shape:\n",
    "        raise TypeError(\"Pr must be a numpy.ndarray with the same shape as P\")\n",
    "    if np.where(P > 1, 1, 0).any() or np.where(P < 0, 1, 0).any():\n",
    "        raise ValueError(\"All values in P must be in the range [0, 1]\")\n",
    "    if np.where(Pr > 1, 1, 0).any() or np.where(Pr < 0, 1, 0).any():\n",
    "        raise ValueError(\"All values in Pr must be in the range [0, 1]\")\n",
    "    if not np.isclose(Pr.sum(), 1):\n",
    "        raise ValueError(\"Pr must sum to 1\")\n",
    "    return likelihood(x, n, P) * Pr"
   ]
  },
  {
   "cell_type": "code",
   "execution_count": 5,
   "metadata": {},
   "outputs": [
    {
     "name": "stdout",
     "output_type": "stream",
     "text": [
      "[0.00000000e+00 2.46664506e-05 7.92545518e-03 2.79405187e-04\n",
      " 5.39728678e-08 1.03988723e-13 9.93247059e-22 5.54683454e-33\n",
      " 8.67650639e-50 9.14515194e-80 0.00000000e+00]\n"
     ]
    }
   ],
   "source": [
    "#!/usr/bin/env python3\n",
    "\n",
    "if __name__ == '__main__':\n",
    "    import numpy as np\n",
    "    intersection = __import__('1-intersection').intersection\n",
    "\n",
    "    P = np.linspace(0, 1, 11)\n",
    "    Pr = np.ones(11) / 11 # this prior assumes that everything is equally as likely\n",
    "    print(intersection(26, 130, P, Pr))"
   ]
  },
  {
   "cell_type": "code",
   "execution_count": 7,
   "metadata": {},
   "outputs": [],
   "source": [
    "def marginal(x, n, P, Pr):\n",
    "    \"\"\"\n",
    "    **********************************************************\n",
    "    ***Calculate marginal probability of obtaining the data***\n",
    "    **********************************************************\n",
    "    @x: is the number of patients that develop severe side effects\n",
    "    @n: is the total number of patients observed\n",
    "    @P: is a 1D numpy.ndarray containing the various hypothetical\n",
    "        probabilities of patients developing severe side effects\n",
    "    @P:r is a 1D numpy.ndarray containing the prior beliefs about P\n",
    "    *** If n is not a positive integer, raise a ValueError with\n",
    "        the message n must be a positive integer\n",
    "    *** If x is not an integer that is greater than or equal to 0,\n",
    "        raise a ValueError with the message x must be an integer\n",
    "        that is greater than or equal to 0\n",
    "    *** If x is greater than n, raise a ValueError with the message\n",
    "        x cannot be greater than n\n",
    "    *** If P is not a 1D numpy.ndarray, raise a TypeError with\n",
    "        the message P must be a 1D numpy.ndarray\n",
    "    *** If Pr is not a numpy.ndarray with the same shape as P,\n",
    "        raise a TypeError with the message Pr must be a numpy.ndarray\n",
    "        with the same shape as P\n",
    "    *** If any value in P or Pr is not in the range [0, 1], raise\n",
    "        a ValueError with the message All values in {P} must be in\n",
    "        the range [0, 1] where {P} is the incorrect variable\n",
    "    *** If Pr does not sum to 1, raise a ValueError with the message\n",
    "        Pr must sum to 1\n",
    "    *** All exceptions should be raised in the above order\n",
    "    Returns:\n",
    "            the marginal probability of obtaining x and n\n",
    "\n",
    "    \"\"\"\n",
    "    likeliH = likelihood(x, n, P)\n",
    "    if np.where(Pr > 1, 1, 0).any() or np.where(Pr < 0, 1, 0).any():\n",
    "        raise ValueError(\"All values in Pr must be in the range [0, 1]\")\n",
    "    if type(Pr) is not np.ndarray or P.shape != Pr.shape:\n",
    "        raise TypeError(\"Pr must be a numpy.ndarray with the same shape as P\")\n",
    "    if not np.isclose(Pr.sum(), 1):\n",
    "        raise ValueError(\"Pr must sum to 1\")\n",
    "    return (likeliH * Pr).sum()"
   ]
  },
  {
   "cell_type": "code",
   "execution_count": 8,
   "metadata": {},
   "outputs": [
    {
     "name": "stdout",
     "output_type": "stream",
     "text": [
      "0.00822958079142658\n"
     ]
    }
   ],
   "source": [
    "#!/usr/bin/env python3\n",
    "\n",
    "if __name__ == '__main__':\n",
    "    import numpy as np\n",
    "    marginal = __import__('2-marginal').marginal\n",
    "\n",
    "    P = np.linspace(0, 1, 11)\n",
    "    Pr = np.ones(11) / 11\n",
    "    print(marginal(26, 130, P, Pr))"
   ]
  },
  {
   "cell_type": "code",
   "execution_count": 10,
   "metadata": {},
   "outputs": [],
   "source": [
    "import cv2\n",
    "\n",
    "cv2.namedWindow(\"preview\")\n",
    "vc = cv2.VideoCapture(0)\n",
    "\n",
    "if vc.isOpened(): # try to get the first frame\n",
    "    rval, frame = vc.read()\n",
    "else:\n",
    "    rval = False\n",
    "\n",
    "while rval:\n",
    "    cv2.imshow(\"preview\", frame)\n",
    "    rval, frame = vc.read()\n",
    "    key = cv2.waitKey(20)\n",
    "    if key == 27: # exit on ESC\n",
    "        break\n",
    "        \n",
    "cv2.destroyWindow(\"preview\")"
   ]
  },
  {
   "cell_type": "code",
   "execution_count": 12,
   "metadata": {},
   "outputs": [],
   "source": [
    "import cv2 as cv\n",
    "\n",
    "capture = cv.VideoCapture(0)\n",
    "\n",
    "while True:\n",
    "    isTrue,frame = capture.read()\n",
    "    cv.imshow('Video',frame)\n",
    "    if cv.waitKey(20) & 0xFF==ord('d'):\n",
    "        break\n",
    "\n",
    "capture.release()\n",
    "cv.destroyAllWindows()\n"
   ]
  },
  {
   "cell_type": "raw",
   "metadata": {},
   "source": [
    "0 <-- refers to the camera , replace it with file path to read a video file\n",
    "\n",
    "cv.waitKey(20) & 0xFF==ord('d') <-- to destroy window when key is pressed"
   ]
  },
  {
   "cell_type": "code",
   "execution_count": null,
   "metadata": {},
   "outputs": [],
   "source": [
    "/**\n",
    " * _height - Measures the height of a binary tree\n",
    " *\n",
    " * @tree: Pointer to the node to measures the height\n",
    " *\n",
    " * Return: The height of the tree starting at @node\n",
    " */\n",
    "static size_t tree_height(const binary_tree_t *tree)\n",
    "{\n",
    "\tsize_t height_l;\n",
    "\tsize_t height_r;\n",
    "\n",
    "\t/*height_l = tree->left ? 1 + _height(tree->left) : 0;\n",
    "\theight_r = tree->right ? 1 + _height(tree->right) : 0;\n",
    "\treturn (height_l > height_r ? height_l : height_r);*/\n",
    "    if (tree->left)\n",
    "        height_l = 1 + tree_height(tree->left);\n",
    "    else\n",
    "        height_l = 0;\n",
    "\n",
    "    if (tree->left)\n",
    "        height_r = 1 + tree_height(tree->right);\n",
    "    else\n",
    "        height_r = 0;\n",
    "    if (height_l > height_r)\n",
    "        return (height_l);\n",
    "    else\n",
    "        return (height_r);\n",
    "    return (0);\n",
    "}\n",
    "/**\n",
    " * print_array - Prints an array of integers\n",
    " *\n",
    " * @array: array is a pointer to the first\n",
    " * ******* element of the array to be converted\n",
    " * @size: the number of element in the array\n",
    " * Return: a pointer to the root node of the\n",
    " * ******* created AVL tree, or NULL on failure\n",
    " */\n",
    "avl_t *sorted_array_to_avl(int *array, size_t size)\n",
    "{\n",
    "    avl_t **root;\n",
    "    size_t i = 0;\n",
    "    root = malloc(sizeof(array));\n",
    "    for(i=0; i<size; i++)\n",
    "    {\n",
    "        *root = heap_insert(*(&root), array[i]);\n",
    "        //printf(\"%ld\\n\", tree_height(*root));\n",
    "        \n",
    "    }\n",
    "    return (*root);\n",
    "}"
   ]
  },
  {
   "cell_type": "code",
   "execution_count": null,
   "metadata": {},
   "outputs": [],
   "source": [
    "Absolute\n",
    "Jincheng Zhang"
   ]
  },
  {
   "cell_type": "code",
   "execution_count": null,
   "metadata": {},
   "outputs": [],
   "source": [
    "(*root)->left = insert(&(*root)->left, array, i-1);\n",
    "    \n",
    "    (*root)->right = insert(&(*root)->right, array, i+1);"
   ]
  }
 ],
 "metadata": {
  "kernelspec": {
   "display_name": "Python 3",
   "language": "python",
   "name": "python3"
  },
  "language_info": {
   "codemirror_mode": {
    "name": "ipython",
    "version": 3
   },
   "file_extension": ".py",
   "mimetype": "text/x-python",
   "name": "python",
   "nbconvert_exporter": "python",
   "pygments_lexer": "ipython3",
   "version": "3.6.13"
  }
 },
 "nbformat": 4,
 "nbformat_minor": 4
}
