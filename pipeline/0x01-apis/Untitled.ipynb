{
 "cells": [
  {
   "cell_type": "code",
   "execution_count": 1,
   "metadata": {},
   "outputs": [
    {
     "name": "stdout",
     "output_type": "stream",
     "text": [
      "CR90 corvette\n",
      "Sentinel-class landing craft\n",
      "Death Star\n",
      "Millennium Falcon\n",
      "Executor\n",
      "Rebel transport\n",
      "Slave 1\n",
      "Imperial shuttle\n",
      "EF76 Nebulon-B escort frigate\n",
      "Calamari Cruiser\n",
      "Republic Cruiser\n",
      "Droid control ship\n",
      "Scimitar\n",
      "J-type diplomatic barge\n",
      "AA-9 Coruscant freighter\n",
      "Republic Assault ship\n",
      "Solar Sailer\n",
      "Trade Federation cruiser\n",
      "Theta-class T-2c shuttle\n",
      "Republic attack cruiser\n"
     ]
    }
   ],
   "source": [
    "#!/usr/bin/env python3\n",
    "\"\"\"\n",
    "Test file\n",
    "\"\"\"\n",
    "#availableShips = __import__('0-passengers').availableShips\n",
    "import requests\n",
    "\n",
    "def availableShips(passengerCount):\n",
    "    \"\"\"\n",
    "    *********************************************\n",
    "    **********returns the list of ships**********\n",
    "    *********************************************\n",
    "    @passengerCount: a given number of passengers\n",
    "    Return:\n",
    "           List of ships or empty list \n",
    "    \"\"\"\n",
    "    url = \"https://swapi-api.hbtn.io/api/starships\"\n",
    "    r = requests.get(url)\n",
    "    json = r.json()\n",
    "    ships = []\n",
    "    while r.status_code == 200:\n",
    "\n",
    "        res = json['results']\n",
    "        for ship in res:\n",
    "            ps = ship['passengers'].split(\",\")\n",
    "            try:\n",
    "                k = 0\n",
    "                for n in ps:\n",
    "                    if (int(n) >= passengerCount):\n",
    "                         k = 1\n",
    "                if k == 1:\n",
    "                    ships.append(ship['name'])\n",
    "            except Exception:\n",
    "                pass\n",
    "        url = json[\"next\"]\n",
    "        if (url is not None):\n",
    "            r = requests.get(url)\n",
    "            json = r.json()\n",
    "        else:\n",
    "            break\n",
    "\n",
    "    return ships\n",
    "    \n",
    "\n",
    "ships = availableShips(4)\n",
    "for ship in ships:\n",
    "    print(ship)"
   ]
  },
  {
   "cell_type": "code",
   "execution_count": 13,
   "metadata": {},
   "outputs": [
    {
     "name": "stdout",
     "output_type": "stream",
     "text": [
      "CR90 corvette\n",
      "Sentinel-class landing craft\n",
      "Death Star\n",
      "Millennium Falcon\n",
      "Executor\n",
      "Rebel transport\n",
      "Slave 1\n",
      "Imperial shuttle\n",
      "EF76 Nebulon-B escort frigate\n",
      "Calamari Cruiser\n",
      "Republic Cruiser\n",
      "Droid control ship\n",
      "Scimitar\n",
      "J-type diplomatic barge\n",
      "AA-9 Coruscant freighter\n",
      "Republic Assault ship\n",
      "Solar Sailer\n",
      "Trade Federation cruiser\n",
      "Theta-class T-2c shuttle\n",
      "Republic attack cruiser\n"
     ]
    }
   ],
   "source": [
    "def availableShips(passengerCount):\n",
    "    \"\"\"\n",
    "    *********************************************\n",
    "    **********returns the list of ships**********\n",
    "    *********************************************\n",
    "    @passengerCount: a given number of passengers\n",
    "    Return:\n",
    "           List of ships or empty list\n",
    "    \"\"\"\n",
    "    url = \"https://swapi-api.hbtn.io/api/starships\"\n",
    "    r = requests.get(url)\n",
    "    json = r.json()\n",
    "    ships = []\n",
    "    while r.status_code == 200:\n",
    "\n",
    "        res = json['results']\n",
    "        for ship in res:\n",
    "            passengers = ship['passengers'].replace(',', '')\n",
    "            if passengers == 'n/a' or passengers == 'unknown':\n",
    "                passengers = -1\n",
    "            if int(passengers) >= passengerCount:\n",
    "                ships.append(ship['name'])\n",
    "        url = json[\"next\"]\n",
    "        if (url is not None):\n",
    "            r = requests.get(url)\n",
    "            json = r.json()\n",
    "        else:\n",
    "            break\n",
    "\n",
    "    return ships\n",
    "ships = availableShips(4)\n",
    "for ship in ships:\n",
    "    print(ship)"
   ]
  },
  {
   "cell_type": "code",
   "execution_count": 2,
   "metadata": {},
   "outputs": [
    {
     "data": {
      "text/plain": [
       "str"
      ]
     },
     "execution_count": 2,
     "metadata": {},
     "output_type": "execute_result"
    }
   ],
   "source": [
    "import requests\n",
    "url = \"https://swapi-api.hbtn.io/api/starships\"\n",
    "r = requests.get(url)\n",
    "json = r.json()\n",
    "type(json['next'])"
   ]
  },
  {
   "cell_type": "code",
   "execution_count": 3,
   "metadata": {},
   "outputs": [
    {
     "name": "stdout",
     "output_type": "stream",
     "text": [
      "Coruscant\n",
      "Kashyyyk\n",
      "Rodia\n",
      "Nal Hutta\n",
      "unknown\n",
      "Trandosha\n",
      "Mon Cala\n",
      "Endor\n",
      "Sullust\n",
      "Cato Neimoidia\n",
      "Naboo\n",
      "Toydaria\n",
      "Malastare\n",
      "Ryloth\n",
      "Aleen Minor\n",
      "Vulpter\n",
      "Troiken\n",
      "Tund\n",
      "Cerea\n",
      "Glee Anselm\n",
      "Iridonia\n",
      "Tholoth\n",
      "Iktotch\n",
      "Quermia\n",
      "Dorin\n",
      "Champala\n",
      "Geonosis\n",
      "Mirial\n",
      "Zolan\n",
      "Ojom\n",
      "Kamino\n",
      "Skako\n",
      "Muunilinst\n",
      "Shili\n",
      "Kalee\n",
      "Utapau\n"
     ]
    }
   ],
   "source": [
    "#!/usr/bin/env python3\n",
    "\"\"\"\n",
    "Test file\n",
    "\"\"\"\n",
    "#sentientPlanets = __import__('1-sentience').sentientPlanets\n",
    "import requests\n",
    "\n",
    "def sentientPlanetskk():\n",
    "    \"\"\"\n",
    "     Return:\n",
    "             the list of names of the home\n",
    "             planets of all sentient species\n",
    "    \"\"\"\n",
    "\n",
    "    url = \"https://swapi-api.hbtn.io/api/species\"\n",
    "    r = requests.get(url)\n",
    "    json = r.json()\n",
    "    planets = []\n",
    "    while r.status_code == 200:\n",
    "        res = json['results']\n",
    "        for spec in res:\n",
    "            if spec[\"designation\"] == \"sentient\":\n",
    "\n",
    "                urlh = spec[\"homeworld\"]\n",
    "\n",
    "                if (urlh is not None):\n",
    "                    rh = requests.get(urlh)\n",
    "                    jsonh = rh.json()\n",
    "                    if jsonh['name'] != \"unknown\":\n",
    "                        planets.append(jsonh['name'])\n",
    "\n",
    "        url = json[\"next\"]\n",
    "\n",
    "        if (url is None):\n",
    "            break\n",
    "        r = requests.get(url)\n",
    "        json = r.json()\n",
    "\n",
    "    return planets\n",
    "\n",
    "def sentientPlanets():\n",
    "    \"\"\"\n",
    "     Return:\n",
    "             the list of names of the home\n",
    "             planets of all sentient species\n",
    "    \"\"\"\n",
    "\n",
    "    url = \"https://swapi-api.hbtn.io/api/species\"\n",
    "    r = requests.get(url)\n",
    "    json = r.json()\n",
    "    planets = []\n",
    "    while url is not None:\n",
    "        data = requests.get(url).json()\n",
    "        for species in data['results']:\n",
    "            if ((species['designation'] == 'sentient'\n",
    "                 or species['designation'] == 'reptilian')):\n",
    "                if species['homeworld'] is not None:\n",
    "                    jsonh = requests.get(species['homeworld']).json()\n",
    "                    planets.append(jsonh['name'])\n",
    "        url = data['next']\n",
    "    return planets\n",
    "planets = sentientPlanets()\n",
    "for planet in planets:\n",
    "    print(planet)\n"
   ]
  },
  {
   "cell_type": "code",
   "execution_count": 1,
   "metadata": {},
   "outputs": [
    {
     "name": "stdout",
     "output_type": "stream",
     "text": [
      "OK"
     ]
    }
   ],
   "source": [
    "#!/usr/bin/env python3\n",
    "\"\"\"\n",
    "Checker file\n",
    "\"\"\"\n",
    "sentientPlanets = __import__('1-sentience').sentientPlanets\n",
    "\n",
    "planets = sentientPlanets()\n",
    "expected_planets = ['Endor', 'Naboo', 'Coruscant', 'Kamino', 'Geonosis', 'Utapau', 'Kashyyyk', 'Cato Neimoidia', 'Rodia', 'Nal Hutta', 'unknown', 'Trandosha', 'Mon Cala', 'Sullust', 'Toydaria', 'Malastare', 'Ryloth', 'Aleen Minor', 'Vulpter', 'Troiken', 'Tund', 'Cerea', 'Glee Anselm', 'Iridonia', 'Tholoth', 'Iktotch', 'Quermia', 'Dorin', 'Champala', 'Mirial', 'Zolan', 'Ojom', 'Skako', 'Muunilinst', 'Shili', 'Kalee']\n",
    "\n",
    "too_much = []\n",
    "for planet in planets:\n",
    "    if planet not in expected_planets:\n",
    "        too_much.append(planet)\n",
    "    else:\n",
    "        expected_planets.remove(planet)\n",
    "\n",
    "if len(too_much) == 0 and len(expected_planets) == 0:\n",
    "    print(\"OK\", end=\"\")\n",
    "    exit(1)\n",
    "\n",
    "if len(too_much) > 0:\n",
    "    print(\"Retrieve unexpected planets: {}\".format(too_much))\n",
    "\n",
    "if len(expected_planets) > 0:\n",
    "    print(\"Planets not found: {}\".format(expected_planets))"
   ]
  },
  {
   "cell_type": "code",
   "execution_count": 62,
   "metadata": {
    "collapsed": true,
    "jupyter": {
     "outputs_hidden": true
    }
   },
   "outputs": [
    {
     "name": "stdout",
     "output_type": "stream",
     "text": [
      "True\n",
      "True\n",
      "True\n",
      "True\n",
      "True\n",
      "True\n",
      "True\n",
      "True\n",
      "True\n",
      "True\n",
      "True\n",
      "True\n",
      "True\n",
      "True\n",
      "True\n",
      "True\n",
      "True\n",
      "True\n",
      "True\n",
      "True\n",
      "True\n",
      "True\n",
      "True\n",
      "True\n",
      "True\n",
      "True\n",
      "True\n",
      "True\n",
      "True\n",
      "True\n",
      "True\n",
      "True\n",
      "True\n",
      "True\n"
     ]
    }
   ],
   "source": [
    "results = [\"Endor\", \"Naboo\", \"Coruscant\", \"Kamino\", \"Geonosis\", \"Utapau\", \"Kashyyyk\", \"Cato Neimoidia\", \"Rodia\", \"Nal Hutta\", \"unknown\", \"Trandosha\", \"Mon Cala\", \"Sullust\", \"Toydaria\", \"Malastare\", \"Ryloth\", \"Aleen Minor\", \"Vulpter\", \"Troiken\", \"Tund\", \"Cerea\", \"Glee Anselm\", \"Iridonia\", \"Tholoth\", \"Iktotch\", \"Quermia\", \"Dorin\", \"Champala\", \"Mirial\", \"Zolan\", \"Ojom\", \"Skako\", \"Muunilinst\", \"Shili\", \"Kalee\"]\n",
    "for planet in planets:\n",
    "    print(planet in results)"
   ]
  },
  {
   "cell_type": "code",
   "execution_count": 4,
   "metadata": {},
   "outputs": [],
   "source": [
    "#!/usr/bin/env python3\n",
    "\"\"\"\n",
    "prints the location of a specific user\n",
    "\"\"\"\n",
    "import requests\n",
    "import sys\n",
    "import time\n",
    "\n",
    "\n",
    "if __name__ == '__main__':\n",
    "\n",
    "    if len(sys.argv) == 2:\n",
    "        url = sys.argv[1]\n",
    "        r = requests.get(url)\n",
    "\n",
    "        if r.status_code == 404:\n",
    "            print(\"Not found\")\n",
    "        if r.status_code == 403:\n",
    "            reset = r.headers['X-Ratelimit-Reset']\n",
    "            reset = int(reset) - int(time.time())\n",
    "            print(\"Reset in {} min\".format(int(reset / 60)))\n",
    "        if r.status_code == 200:\n",
    "            json = r.json()\n",
    "            print(json[\"location\"])\n",
    "\n"
   ]
  },
  {
   "cell_type": "code",
   "execution_count": 5,
   "metadata": {},
   "outputs": [
    {
     "name": "stdout",
     "output_type": "stream",
     "text": [
      "Tunisia\n"
     ]
    }
   ],
   "source": [
    "!./2-user_location.py https://api.github.com/users/ggirlk"
   ]
  },
  {
   "cell_type": "code",
   "execution_count": 10,
   "metadata": {},
   "outputs": [
    {
     "name": "stdout",
     "output_type": "stream",
     "text": [
      "Starlink-29 (v1.0) (2021-09-30T20:00:00-04:00) Falcon 9 - CCSFS SLC 40 (Cape Canaveral)\n"
     ]
    }
   ],
   "source": [
    "!./3-upcoming.py"
   ]
  },
  {
   "cell_type": "code",
   "execution_count": 12,
   "metadata": {},
   "outputs": [
    {
     "name": "stdout",
     "output_type": "stream",
     "text": [
      "Falcon 9: 136\n",
      "Falcon 1: 5\n",
      "Falcon Heavy: 4\n"
     ]
    }
   ],
   "source": [
    "!./4-rocket_frequency.py"
   ]
  },
  {
   "cell_type": "code",
   "execution_count": null,
   "metadata": {},
   "outputs": [],
   "source": []
  }
 ],
 "metadata": {
  "kernelspec": {
   "display_name": "Python 3",
   "language": "python",
   "name": "python3"
  },
  "language_info": {
   "codemirror_mode": {
    "name": "ipython",
    "version": 3
   },
   "file_extension": ".py",
   "mimetype": "text/x-python",
   "name": "python",
   "nbconvert_exporter": "python",
   "pygments_lexer": "ipython3",
   "version": "3.8.3"
  }
 },
 "nbformat": 4,
 "nbformat_minor": 4
}
