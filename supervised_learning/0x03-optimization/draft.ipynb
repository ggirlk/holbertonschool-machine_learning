{
 "cells": [
  {
   "cell_type": "code",
   "execution_count": 3,
   "metadata": {},
   "outputs": [],
   "source": [
    "import numpy as np\n",
    "import tensorflow as tf "
   ]
  },
  {
   "cell_type": "code",
   "execution_count": 35,
   "metadata": {},
   "outputs": [],
   "source": [
    "def normalization_constants(X):\n",
    "    \"\"\" doc \"\"\"\n",
    "    return X.mean(axis=0) , X.std(axis=0)\n",
    "   "
   ]
  },
  {
   "cell_type": "code",
   "execution_count": 37,
   "metadata": {},
   "outputs": [
    {
     "name": "stdout",
     "output_type": "stream",
     "text": [
      "[ 0.11961603  2.08201297 -3.59232261]\n",
      "[2.01576449 1.034667   9.52002619]\n"
     ]
    }
   ],
   "source": [
    "np.random.seed(0)\n",
    "a = np.random.normal(0, 2, size=(100, 1))\n",
    "b = np.random.normal(2, 1, size=(100, 1))\n",
    "c = np.random.normal(-3, 10, size=(100, 1))\n",
    "X = np.concatenate((a, b, c), axis=1)\n",
    "m, s = normalization_constants(X)\n",
    "print(m)\n",
    "print(s)"
   ]
  },
  {
   "cell_type": "code",
   "execution_count": 34,
   "metadata": {},
   "outputs": [
    {
     "data": {
      "text/plain": [
       "(array([ 0.11961603,  2.08201297, -3.59232261]),\n",
       " array([2.01576449, 1.034667  , 9.52002619]))"
      ]
     },
     "execution_count": 34,
     "metadata": {},
     "output_type": "execute_result"
    }
   ],
   "source": [
    "X.mean(axis=0) , X.std(axis=0)"
   ]
  },
  {
   "cell_type": "code",
   "execution_count": null,
   "metadata": {},
   "outputs": [],
   "source": [
    "def normalize(X, m, s):\n",
    "    \"\"\" doc \"\"\"\n",
    "    return ((X - m)/s)"
   ]
  },
  {
   "cell_type": "code",
   "execution_count": 38,
   "metadata": {},
   "outputs": [
    {
     "name": "stdout",
     "output_type": "stream",
     "text": [
      "[[  3.52810469   3.8831507   -6.69181838]\n",
      " [  0.80031442   0.65224094  -5.39379178]\n",
      " [  1.95747597   0.729515     7.99659596]\n",
      " [  4.4817864    2.96939671   3.55263731]\n",
      " [  3.73511598   0.82687659   3.40131526]\n",
      " [ -1.95455576   3.94362119 -19.16956044]\n",
      " [  1.90017684   1.58638102  -3.24326124]\n",
      " [ -0.30271442   1.25254519 -10.38030909]\n",
      " [ -0.2064377    3.92294203  -0.20075401]\n",
      " [  0.821197     3.48051479  -3.9815039 ]]\n"
     ]
    }
   ],
   "source": [
    "np.random.seed(0)\n",
    "a = np.random.normal(0, 2, size=(100, 1))\n",
    "b = np.random.normal(2, 1, size=(100, 1))\n",
    "c = np.random.normal(-3, 10, size=(100, 1))\n",
    "X = np.concatenate((a, b, c), axis=1)\n",
    "m, s = normalization_constants(X)\n",
    "print(X[:10])\n",
    "#X = normalize(X, m, s)\n",
    "#print(X[:10])\n",
    "#m, s = normalization_constants(X)\n",
    "#print(m)\n",
    "#print(s)"
   ]
  },
  {
   "cell_type": "code",
   "execution_count": 44,
   "metadata": {},
   "outputs": [
    {
     "name": "stdout",
     "output_type": "stream",
     "text": [
      "[[ 1.69091612  1.74078977 -0.32557639]\n",
      " [ 0.33768746 -1.38186686 -0.18922943]\n",
      " [ 0.91174338 -1.3071819   1.21732003]\n",
      " [ 2.16402779  0.85765153  0.75051893]\n",
      " [ 1.79361228 -1.21308245  0.73462381]\n",
      " [-1.02897526  1.79923417 -1.63625998]\n",
      " [ 0.88331787 -0.47902557  0.03666601]\n",
      " [-0.20951378 -0.80167608 -0.71302183]\n",
      " [-0.1617519   1.77924787  0.35625623]\n",
      " [ 0.34804709  1.35164437 -0.04088028]]\n"
     ]
    }
   ],
   "source": [
    "print(((X - m)/s)[:10])"
   ]
  },
  {
   "cell_type": "code",
   "execution_count": null,
   "metadata": {},
   "outputs": [],
   "source": []
  }
 ],
 "metadata": {
  "kernelspec": {
   "display_name": "Python 3",
   "language": "python",
   "name": "python3"
  },
  "language_info": {
   "codemirror_mode": {
    "name": "ipython",
    "version": 3
   },
   "file_extension": ".py",
   "mimetype": "text/x-python",
   "name": "python",
   "nbconvert_exporter": "python",
   "pygments_lexer": "ipython3",
   "version": "3.6.12"
  }
 },
 "nbformat": 4,
 "nbformat_minor": 4
}
