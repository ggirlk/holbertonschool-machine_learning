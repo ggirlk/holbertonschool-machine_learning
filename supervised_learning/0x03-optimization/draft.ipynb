{
 "cells": [
  {
   "cell_type": "code",
   "execution_count": 2,
   "metadata": {},
   "outputs": [],
   "source": [
    "import numpy as np\n",
    "import tensorflow as tf \n",
    "import matplotlib.pyplot as plt"
   ]
  },
  {
   "cell_type": "code",
   "execution_count": 35,
   "metadata": {},
   "outputs": [],
   "source": [
    "def normalization_constants(X):\n",
    "    \"\"\" doc \"\"\"\n",
    "    return X.mean(axis=0) , X.std(axis=0)\n",
    "   "
   ]
  },
  {
   "cell_type": "code",
   "execution_count": 37,
   "metadata": {},
   "outputs": [
    {
     "name": "stdout",
     "output_type": "stream",
     "text": [
      "[ 0.11961603  2.08201297 -3.59232261]\n",
      "[2.01576449 1.034667   9.52002619]\n"
     ]
    }
   ],
   "source": [
    "np.random.seed(0)\n",
    "a = np.random.normal(0, 2, size=(100, 1))\n",
    "b = np.random.normal(2, 1, size=(100, 1))\n",
    "c = np.random.normal(-3, 10, size=(100, 1))\n",
    "X = np.concatenate((a, b, c), axis=1)\n",
    "m, s = normalization_constants(X)\n",
    "print(m)\n",
    "print(s)"
   ]
  },
  {
   "cell_type": "code",
   "execution_count": 34,
   "metadata": {},
   "outputs": [
    {
     "data": {
      "text/plain": [
       "(array([ 0.11961603,  2.08201297, -3.59232261]),\n",
       " array([2.01576449, 1.034667  , 9.52002619]))"
      ]
     },
     "execution_count": 34,
     "metadata": {},
     "output_type": "execute_result"
    }
   ],
   "source": [
    "X.mean(axis=0) , X.std(axis=0)"
   ]
  },
  {
   "cell_type": "code",
   "execution_count": 45,
   "metadata": {},
   "outputs": [],
   "source": [
    "def normalize(X, m, s):\n",
    "    \"\"\" doc \"\"\"\n",
    "    return ((X - m)/s)"
   ]
  },
  {
   "cell_type": "code",
   "execution_count": 46,
   "metadata": {},
   "outputs": [
    {
     "name": "stdout",
     "output_type": "stream",
     "text": [
      "[[  3.52810469   3.8831507   -6.69181838]\n",
      " [  0.80031442   0.65224094  -5.39379178]\n",
      " [  1.95747597   0.729515     7.99659596]\n",
      " [  4.4817864    2.96939671   3.55263731]\n",
      " [  3.73511598   0.82687659   3.40131526]\n",
      " [ -1.95455576   3.94362119 -19.16956044]\n",
      " [  1.90017684   1.58638102  -3.24326124]\n",
      " [ -0.30271442   1.25254519 -10.38030909]\n",
      " [ -0.2064377    3.92294203  -0.20075401]\n",
      " [  0.821197     3.48051479  -3.9815039 ]]\n",
      "[[ 1.69091612  1.74078977 -0.32557639]\n",
      " [ 0.33768746 -1.38186686 -0.18922943]\n",
      " [ 0.91174338 -1.3071819   1.21732003]\n",
      " [ 2.16402779  0.85765153  0.75051893]\n",
      " [ 1.79361228 -1.21308245  0.73462381]\n",
      " [-1.02897526  1.79923417 -1.63625998]\n",
      " [ 0.88331787 -0.47902557  0.03666601]\n",
      " [-0.20951378 -0.80167608 -0.71302183]\n",
      " [-0.1617519   1.77924787  0.35625623]\n",
      " [ 0.34804709  1.35164437 -0.04088028]]\n",
      "[ 2.44249065e-17 -4.99600361e-16  1.46549439e-16]\n",
      "[1. 1. 1.]\n"
     ]
    }
   ],
   "source": [
    "np.random.seed(0)\n",
    "a = np.random.normal(0, 2, size=(100, 1))\n",
    "b = np.random.normal(2, 1, size=(100, 1))\n",
    "c = np.random.normal(-3, 10, size=(100, 1))\n",
    "X = np.concatenate((a, b, c), axis=1)\n",
    "m, s = normalization_constants(X)\n",
    "print(X[:10])\n",
    "X = normalize(X, m, s)\n",
    "print(X[:10])\n",
    "m, s = normalization_constants(X)\n",
    "print(m)\n",
    "print(s)"
   ]
  },
  {
   "cell_type": "code",
   "execution_count": 44,
   "metadata": {},
   "outputs": [
    {
     "name": "stdout",
     "output_type": "stream",
     "text": [
      "[[ 1.69091612  1.74078977 -0.32557639]\n",
      " [ 0.33768746 -1.38186686 -0.18922943]\n",
      " [ 0.91174338 -1.3071819   1.21732003]\n",
      " [ 2.16402779  0.85765153  0.75051893]\n",
      " [ 1.79361228 -1.21308245  0.73462381]\n",
      " [-1.02897526  1.79923417 -1.63625998]\n",
      " [ 0.88331787 -0.47902557  0.03666601]\n",
      " [-0.20951378 -0.80167608 -0.71302183]\n",
      " [-0.1617519   1.77924787  0.35625623]\n",
      " [ 0.34804709  1.35164437 -0.04088028]]\n"
     ]
    }
   ],
   "source": [
    "print(((X - m)/s)[:10])"
   ]
  },
  {
   "cell_type": "code",
   "execution_count": 64,
   "metadata": {},
   "outputs": [],
   "source": [
    "def shuffle_data(X, Y):\n",
    "    \"\"\" doc \"\"\"\n",
    "    x = np.random.permutation(X.shape[0])\n",
    "    return X[x], Y[y]"
   ]
  },
  {
   "cell_type": "code",
   "execution_count": 48,
   "metadata": {},
   "outputs": [],
   "source": [
    "X = np.array([[1, 2],\n",
    "            [3, 4],\n",
    "            [5, 6],\n",
    "            [7, 8], \n",
    "            [9, 10]])\n",
    "Y = np.array([[11, 12],\n",
    "            [13, 14],\n",
    "            [15, 16],\n",
    "            [17, 18],\n",
    "            [19, 20]])\n",
    "\n",
    "np.random.seed(0)\n",
    "#X_shuffled, Y_shuffled = shuffle_data(X, Y)\n",
    "\n",
    "#print(X_shuffled)\n",
    "#print(Y_shuffled)"
   ]
  },
  {
   "cell_type": "code",
   "execution_count": 63,
   "metadata": {},
   "outputs": [
    {
     "name": "stdout",
     "output_type": "stream",
     "text": [
      "[[ 5  6]\n",
      " [ 1  2]\n",
      " [ 3  4]\n",
      " [ 7  8]\n",
      " [ 9 10]]\n",
      "[[15 16]\n",
      " [11 12]\n",
      " [13 14]\n",
      " [17 18]\n",
      " [19 20]]\n"
     ]
    }
   ],
   "source": [
    "np.random.seed(0)\n",
    "x = np.random.permutation(X.shape[0])\n",
    "print(X[x])\n",
    "print(Y[x])\n"
   ]
  },
  {
   "cell_type": "code",
   "execution_count": 8,
   "metadata": {},
   "outputs": [
    {
     "ename": "TypeError",
     "evalue": "'module' object is not callable",
     "output_type": "error",
     "traceback": [
      "\u001b[0;31m---------------------------------------------------------------------------\u001b[0m",
      "\u001b[0;31mTypeError\u001b[0m                                 Traceback (most recent call last)",
      "\u001b[0;32m<ipython-input-8-5a5d92ae65ee>\u001b[0m in \u001b[0;36m<module>\u001b[0;34m\u001b[0m\n\u001b[0;32m----> 1\u001b[0;31m \u001b[0mnp\u001b[0m\u001b[0;34m.\u001b[0m\u001b[0mma\u001b[0m\u001b[0;34m(\u001b[0m\u001b[0;34m)\u001b[0m\u001b[0;34m\u001b[0m\u001b[0;34m\u001b[0m\u001b[0m\n\u001b[0m",
      "\u001b[0;31mTypeError\u001b[0m: 'module' object is not callable"
     ]
    }
   ],
   "source": [
    "np.wma()"
   ]
  },
  {
   "cell_type": "code",
   "execution_count": 58,
   "metadata": {},
   "outputs": [
    {
     "name": "stdout",
     "output_type": "stream",
     "text": [
      "[72.0, 75.15789473684211, 73.62361623616238, 71.98836871183484, 70.52604332006544, 70.20035470453027, 71.88706986789997, 73.13597603396988, 71.80782582850702, 70.60905915023126, 69.93737009120935, 71.0609712312634, 70.11422355031073, 69.32143707981284, 70.79208718739721, 70.81760741911772, 70.59946700377961, 69.9406328280786, 70.17873340222755, 69.47534437750306, 68.41139351151023, 67.58929643210207, 66.97601174673004, 66.86995043877324, 67.42263231561797, 67.91198666959514, 67.8151574064495, 67.72913996327617, 67.65262186609462, 67.68889744321645, 68.44900744806469]\n",
      "31 31\n"
     ]
    }
   ],
   "source": [
    "data = [72, 78, 71, 68, 66, 69, 79, 79, 65, 64, 66, 78, 64, 64, 81, 71, 69,\n",
    "        65, 72, 64, 60, 61, 62, 66, 72, 72, 67, 67, 67, 68, 75]\n",
    "days = list(range(1, len(data) + 1))\n",
    "m_avg = []\n",
    "w = 0.9\n",
    "vt = 0\n",
    "for i in range(len(data)):\n",
    "    vt = (vt*w + data[i]*(1-w))\n",
    "    avg = vt/(1-w**(i+1))\n",
    "    m_avg.append(avg)\n",
    "print(m_avg)\n",
    "#m_avg = moving_average(data, 0.9)\n",
    "#m_avg = np.ma.average([data], axis=0, weights=w)\n",
    "print(len(m_avg), len(data))\n"
   ]
  },
  {
   "cell_type": "code",
   "execution_count": 172,
   "metadata": {},
   "outputs": [
    {
     "name": "stdout",
     "output_type": "stream",
     "text": [
      "[72.0, 75.15789473684211, 73.62361623616238, 71.98836871183484, 70.52604332006544, 70.20035470453027, 71.88706986789997, 73.13597603396988, 71.80782582850702, 70.60905915023126, 69.93737009120935, 71.0609712312634, 70.11422355031073, 69.32143707981284, 70.79208718739721, 70.81760741911772, 70.59946700377961, 69.9406328280786, 70.17873340222755, 69.47534437750306, 68.41139351151023, 67.58929643210207, 66.97601174673004, 66.86995043877324, 67.42263231561797, 67.91198666959514, 67.8151574064495, 67.72913996327617, 67.65262186609462, 67.68889744321645, 68.44900744806469]\n"
     ]
    }
   ],
   "source": [
    "r = [72.0, 75.15789473684211, 73.62361623616238, 71.98836871183484, 70.52604332006544, 70.20035470453027, 71.88706986789997, 73.13597603396988, 71.80782582850702, 70.60905915023126, 69.93737009120935, 71.0609712312634, 70.11422355031073, 69.32143707981284, 70.79208718739721, 70.81760741911772, 70.59946700377961, 69.9406328280786, 70.17873340222755, 69.47534437750306, 68.41139351151023, 67.58929643210207, 66.97601174673004, 66.86995043877324, 67.42263231561797, 67.91198666959514, 67.8151574064495, 67.72913996327617, 67.65262186609462, 67.68889744321645, 68.44900744806469]\n",
    "print(r)"
   ]
  },
  {
   "cell_type": "code",
   "execution_count": 194,
   "metadata": {},
   "outputs": [
    {
     "data": {
      "image/png": "[encoded data removed]",
      "text/plain": [
       "<Figure size 432x288 with 1 Axes>"
      ]
     },
     "metadata": {
      "needs_background": "light"
     },
     "output_type": "display_data"
    }
   ],
   "source": [
    "plt.plot(days, data, 'r', days, m_avg, 'b')\n",
    "plt.xlabel('Day of Month')\n",
    "plt.ylabel('Temperature (Fahrenheit)')\n",
    "plt.title('SF Maximum Temperatures in October 2018')\n",
    "plt.legend(['actual', 'moving_average'])\n",
    "plt.show()"
   ]
  },
  {
   "cell_type": "code",
   "execution_count": 48,
   "metadata": {},
   "outputs": [
    {
     "data": {
      "text/plain": [
       "0.0"
      ]
     },
     "execution_count": 48,
     "metadata": {},
     "output_type": "execute_result"
    }
   ],
   "source": []
  },
  {
   "cell_type": "code",
   "execution_count": null,
   "metadata": {},
   "outputs": [],
   "source": []
  },
  {
   "cell_type": "code",
   "execution_count": null,
   "metadata": {},
   "outputs": [],
   "source": []
  }
 ],
 "metadata": {
  "kernelspec": {
   "display_name": "Python 3",
   "language": "python",
   "name": "python3"
  },
  "language_info": {
   "codemirror_mode": {
    "name": "ipython",
    "version": 3
   },
   "file_extension": ".py",
   "mimetype": "text/x-python",
   "name": "python",
   "nbconvert_exporter": "python",
   "pygments_lexer": "ipython3",
   "version": "3.6.12"
  }
 },
 "nbformat": 4,
 "nbformat_minor": 4
}
