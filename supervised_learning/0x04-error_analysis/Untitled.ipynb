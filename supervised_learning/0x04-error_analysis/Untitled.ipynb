{
 "cells": [
  {
   "cell_type": "code",
   "execution_count": 1,
   "metadata": {},
   "outputs": [],
   "source": [
    "#!chmod +x *.py\n",
    "#!cp 3-specificity.py 4-f1_score.py\n",
    "from sklearn.metrics import confusion_matrix"
   ]
  },
  {
   "cell_type": "code",
   "execution_count": 2,
   "metadata": {},
   "outputs": [],
   "source": [
    "def create_confusion_matrix(labels, logits):\n",
    "    \"\"\" doc \"\"\"\n",
    "    m = labels.shape[0] # m \n",
    "    k = labels.shape[1] # Number of classes \n",
    "    y_pred = np.argmax(logits, axis=1)\n",
    "    y_true = np.argmax(labels, axis=1)\n",
    "    # intersect y_pred, y_true with labels, eliminate items not in labels\n",
    "    ind = np.logical_and(y_pred < k, y_true < k)\n",
    "    y_pred = y_pred[ind]\n",
    "    y_true = y_true[ind]\n",
    "    \n",
    "    sample_weight = np.ones(m, dtype=np.int64)\n",
    "    # also eliminate weights of eliminated items\n",
    "    sample_weight = sample_weight[ind]\n",
    "\n",
    "    # Choose the accumulator dtype to always have high precision\n",
    "    if sample_weight.dtype.kind in {'i', 'u', 'b'}:\n",
    "        dtype = np.int64\n",
    "    else:\n",
    "        dtype = np.float64\n",
    "\n",
    "    cm = coo_matrix((sample_weight, (y_true, y_pred)),\n",
    "                    shape=(k, k), dtype=dtype,\n",
    "                    ).toarray()\n",
    "    for i in range(m):\n",
    "        a, b = y_true[i], y_pred[i]\n",
    "        result[a][b] += 1\n",
    "    return (result)"
   ]
  },
  {
   "cell_type": "code",
   "execution_count": 4,
   "metadata": {},
   "outputs": [
    {
     "name": "stdout",
     "output_type": "stream",
     "text": [
      "(50000,)\n",
      "(50000,)\n",
      "[[4701.    0.   36.   17.   12.   81.   38.   11.   35.    1.]\n",
      " [   0. 5494.   36.   21.    3.   38.    7.   13.   59.    7.]\n",
      " [  64.   93. 4188.  103.  108.   17.  162.   80.  132.   21.]\n",
      " [  30.   48.  171. 4310.    2.  252.   22.   86.  128.   52.]\n",
      " [  17.   27.   35.    0. 4338.   11.   84.    9.   27.  311.]\n",
      " [  89.   57.   45.  235.   70. 3631.  123.   33.  163.   60.]\n",
      " [  47.   32.   87.    1.   64.   83. 4607.    0.   29.    1.]\n",
      " [  26.   95.   75.    7.   58.   18.    1. 4682.   13.  200.]\n",
      " [  31.  153.   82.  174.   27.  179.   64.    7. 4003.  122.]\n",
      " [  48.   37.   39.   71.  220.   49.    8.  244.   46. 4226.]]\n",
      "[[4701.    0.   36.   17.   12.   81.   38.   11.   35.    1.]\n",
      " [   0. 5494.   36.   21.    3.   38.    7.   13.   59.    7.]\n",
      " [  64.   93. 4188.  103.  108.   17.  162.   80.  132.   21.]\n",
      " [  30.   48.  171. 4310.    2.  252.   22.   86.  128.   52.]\n",
      " [  17.   27.   35.    0. 4338.   11.   84.    9.   27.  311.]\n",
      " [  89.   57.   45.  235.   70. 3631.  123.   33.  163.   60.]\n",
      " [  47.   32.   87.    1.   64.   83. 4607.    0.   29.    1.]\n",
      " [  26.   95.   75.    7.   58.   18.    1. 4682.   13.  200.]\n",
      " [  31.  153.   82.  174.   27.  179.   64.    7. 4003.  122.]\n",
      " [  48.   37.   39.   71.  220.   49.    8.  244.   46. 4226.]]\n"
     ]
    }
   ],
   "source": [
    "### import numpy as np\n",
    "#create_confusion_matrix = __import__('0-create_confusion').create_confusion_matrix\n",
    "from scipy.sparse import coo_matrix\n",
    "\n",
    "if __name__ == '__main__':\n",
    "    lib = np.load('labels_logits.npz')\n",
    "    labels = lib['labels']\n",
    "    logits = lib['logits']\n",
    "    def create_confusion_matrix(labels, logits):\n",
    "        \"\"\" doc \"\"\"\n",
    "        m = labels.shape[0] # m \n",
    "        k = labels.shape[1] # Number of classes \n",
    "        result = np.zeros((k, k))\n",
    "        y_pred = np.argmax(logits, axis=1)\n",
    "        y_true = np.argmax(labels, axis=1)\n",
    "        ind = np.logical_and(y_pred < k, y_true < k)\n",
    "        print(y_pred.shape)\n",
    "        y_pred = y_pred[ind]\n",
    "        print(y_pred.shape)\n",
    "        y_true = y_true[ind]\n",
    "        sample_weight = np.ones(m, dtype=np.int64)\n",
    "        # also eliminate weights of eliminated items\n",
    "        sample_weight = sample_weight[ind]\n",
    "\n",
    "        for i in range(m):\n",
    "            a, b = y_true[i], y_pred[i]\n",
    "            result[a][b] += sample_weight[i]\n",
    "        return (result)\n",
    "\n",
    "    def one_hot(Y, classes):\n",
    "        \"\"\"convert an array to a one-hot matrix\"\"\"\n",
    "        one_hot = np.zeros((Y.shape[0], classes))\n",
    "        one_hot[np.arange(Y.shape[0]), Y] = 1\n",
    "        return one_hot\n",
    "\n",
    "    np.random.seed(2)\n",
    "    \"\"\"c = np.random.randint(10, 20)\n",
    "    m = np.random.randint(1000, 5000)\n",
    "    labels = np.random.randint(0, c, m)\n",
    "    logits = np.random.randint(0, c, m)\n",
    "    labels = one_hot(labels, c)\n",
    "    logits = one_hot(logits, c)\"\"\"\n",
    "\n",
    "    np.set_printoptions(suppress=True)\n",
    "    confusion = create_confusion_matrix(labels, logits)\n",
    "    print(confusion)\n",
    "    #np.savez_compressed('confusion.npz', confusion=confusion)\n",
    "    #print(np.argmax(labels, axis=1))\n",
    "    #print(np.argmax(logits, axis=1))\n",
    "    \n",
    "    m = labels.shape[0] # m \n",
    "    k = labels.shape[1] # Number of classes \n",
    "    result = np.zeros((k, k))\n",
    "    \n",
    "    pred = np.argmax(logits, axis=1)\n",
    "    true = np.argmax(labels, axis=1)\n",
    "    # convert yt, yp into index\n",
    "    #y_pred = np.array([label_to_ind.get(x, n_labels + 1) for x in y_pred])\n",
    "    #y_true = np.array([label_to_ind.get(x, n_labels + 1) for x in y_true])\n",
    "    \n",
    "    y_pred = np.argmax(logits, axis=1)\n",
    "    y_true = np.argmax(labels, axis=1)\n",
    "    # intersect y_pred, y_true with labels, eliminate items not in labels\n",
    "    ind = np.logical_and(y_pred < k, y_true < k)\n",
    "    y_pred = y_pred[ind]\n",
    "    y_true = y_true[ind]\n",
    "    \n",
    "    sample_weight = np.ones(m, dtype=np.int64)\n",
    "    # also eliminate weights of eliminated items\n",
    "    sample_weight = sample_weight[ind]\n",
    "\n",
    "    # Choose the accumulator dtype to always have high precision\n",
    "    if sample_weight.dtype.kind in {'i', 'u', 'b'}:\n",
    "        dtype = np.int64\n",
    "    else:\n",
    "        dtype = np.float64\n",
    "\n",
    "    cm = coo_matrix((sample_weight, (y_true, y_pred)),\n",
    "                    shape=(k, k), dtype=dtype,\n",
    "                    ).toarray()\n",
    "    for i in range(m):\n",
    "        a, b = true[i], pred[i]\n",
    "        result[a][b] += sample_weight[i]\n",
    "\n",
    "print(result)\n",
    "#print(confusion_matrix(true, pred))"
   ]
  },
  {
   "cell_type": "code",
   "execution_count": 6,
   "metadata": {},
   "outputs": [
    {
     "name": "stdout",
     "output_type": "stream",
     "text": [
      "[[ 8.  9. 15.  7.  9. 12. 10. 12. 10. 15.  9. 15. 11. 15.  7. 14. 12. 13.]\n",
      " [12.  9. 13. 15. 16.  5. 16. 20.  9. 10.  8. 10.  9. 17. 20.  6. 12.  5.]\n",
      " [14.  9. 14. 12. 12.  6. 13. 10.  9.  8.  9. 11. 15. 14. 11. 10.  9. 11.]\n",
      " [ 8.  8. 12.  5.  8. 15.  5. 10. 12. 15. 12. 12.  8. 11. 13. 10.  5. 15.]\n",
      " [ 6. 15. 20. 13. 12. 10.  5.  2.  6. 14.  6.  8. 12. 13. 15. 13.  8.  9.]\n",
      " [11. 10.  9. 13.  4. 13. 11. 14.  7.  9. 15. 14.  9. 15. 10. 11. 13. 12.]\n",
      " [20.  5.  9. 14. 11. 16. 12.  6. 13.  7. 15. 11. 18.  8.  7. 14. 16.  9.]\n",
      " [15.  9.  8.  6.  9.  8. 10. 10. 11. 11. 18. 22. 12. 10.  9.  5.  7.  8.]\n",
      " [14. 12. 12. 11. 15.  6.  7.  9. 16.  8. 17.  8. 10.  9. 12.  9. 11.  8.]\n",
      " [11. 12. 15. 13. 12.  9.  4.  9. 13.  8.  9. 11. 17. 12.  3.  8. 12.  8.]\n",
      " [ 8. 11.  5.  5. 18.  4. 14. 15. 15.  8. 14. 12.  7. 19. 11. 12. 10.  9.]\n",
      " [14. 17. 10.  7. 14. 16.  9. 14.  8.  7. 11. 17. 12. 13. 10.  8. 19. 14.]\n",
      " [ 7. 10.  9.  5. 15. 15.  9. 10.  6. 13. 10. 14.  9. 14.  4. 11. 15. 18.]\n",
      " [10.  8.  9. 14. 15. 14. 15.  7. 12.  7. 11. 10. 17. 16. 11. 16.  8.  7.]\n",
      " [ 6.  8.  4. 11. 14. 10. 12. 12. 10. 16. 11.  5.  9. 11. 15. 12.  9. 13.]\n",
      " [13. 11.  3.  4. 10. 14.  8. 10.  8.  9.  8. 10. 19.  9. 17. 10. 11. 12.]\n",
      " [15. 12. 10. 15.  6. 11. 12.  8. 16. 16. 13. 12. 10.  8. 12. 10.  6. 17.]\n",
      " [17.  7. 11. 15. 10. 16. 12. 13.  9. 12.  7. 14.  9. 18. 12. 12.  9.  9.]]\n",
      "___________\n",
      "[[ 8  9 15  7  9 12 10 12 10 15  9 15 11 15  7 14 12 13]\n",
      " [12  9 13 15 16  5 16 20  9 10  8 10  9 17 20  6 12  5]\n",
      " [14  9 14 12 12  6 13 10  9  8  9 11 15 14 11 10  9 11]\n",
      " [ 8  8 12  5  8 15  5 10 12 15 12 12  8 11 13 10  5 15]\n",
      " [ 6 15 20 13 12 10  5  2  6 14  6  8 12 13 15 13  8  9]\n",
      " [11 10  9 13  4 13 11 14  7  9 15 14  9 15 10 11 13 12]\n",
      " [20  5  9 14 11 16 12  6 13  7 15 11 18  8  7 14 16  9]\n",
      " [15  9  8  6  9  8 10 10 11 11 18 22 12 10  9  5  7  8]\n",
      " [14 12 12 11 15  6  7  9 16  8 17  8 10  9 12  9 11  8]\n",
      " [11 12 15 13 12  9  4  9 13  8  9 11 17 12  3  8 12  8]\n",
      " [ 8 11  5  5 18  4 14 15 15  8 14 12  7 19 11 12 10  9]\n",
      " [14 17 10  7 14 16  9 14  8  7 11 17 12 13 10  8 19 14]\n",
      " [ 7 10  9  5 15 15  9 10  6 13 10 14  9 14  4 11 15 18]\n",
      " [10  8  9 14 15 14 15  7 12  7 11 10 17 16 11 16  8  7]\n",
      " [ 6  8  4 11 14 10 12 12 10 16 11  5  9 11 15 12  9 13]\n",
      " [13 11  3  4 10 14  8 10  8  9  8 10 19  9 17 10 11 12]\n",
      " [15 12 10 15  6 11 12  8 16 16 13 12 10  8 12 10  6 17]\n",
      " [17  7 11 15 10 16 12 13  9 12  7 14  9 18 12 12  9  9]]\n"
     ]
    }
   ],
   "source": [
    "#!/usr/bin/env python3\n",
    "\n",
    "import numpy as np\n",
    "create_confusion_matrix = __import__('0-create_confusion').create_confusion_matrix\n",
    "\n",
    "def one_hot(Y, classes):\n",
    "    \"\"\"convert an array to a one-hot matrix\"\"\"\n",
    "    one_hot = np.zeros((Y.shape[0], classes))\n",
    "    one_hot[np.arange(Y.shape[0]), Y] = 1\n",
    "    return one_hot\n",
    "\n",
    "np.random.seed(2)\n",
    "c = np.random.randint(10, 20)\n",
    "m = np.random.randint(1000, 5000)\n",
    "labels = np.random.randint(0, c, m)\n",
    "logits = np.random.randint(0, c, m)\n",
    "labels = one_hot(labels, c)\n",
    "logits = one_hot(logits, c)\n",
    "pred = np.argmax(logits, axis=1)\n",
    "true = np.argmax(labels, axis=1)\n",
    "print(create_confusion_matrix(labels, logits))\n",
    "print(\"___________\")\n",
    "print(confusion_matrix(true, pred))"
   ]
  },
  {
   "cell_type": "code",
   "execution_count": 7,
   "metadata": {},
   "outputs": [
    {
     "name": "stdout",
     "output_type": "stream",
     "text": [
      "[[19. 23. 17. 24. 23. 18. 22. 18. 16. 20. 16. 16. 11. 22. 14.]\n",
      " [15. 14. 21. 19. 24. 20. 14. 16. 22. 23. 20. 13. 19. 26. 20.]\n",
      " [16. 17. 17. 21. 22. 14. 20. 16.  8. 24. 20. 17. 16. 28. 10.]\n",
      " [32. 26. 16. 15. 20. 18. 15. 21. 24. 20. 25. 20. 28. 18. 23.]\n",
      " [17. 22. 17. 15. 16. 21. 19. 17. 19. 21. 20. 16. 21. 14. 18.]\n",
      " [18. 15. 15. 20. 17. 24. 15. 17. 20. 26. 18. 23. 29. 16. 19.]\n",
      " [16. 20. 10. 20. 18. 13. 19. 21. 19. 19. 22. 21. 10. 23. 18.]\n",
      " [17. 20. 14. 25. 15. 17. 24. 16. 17. 19. 12. 20. 23. 17. 24.]\n",
      " [12. 22. 13. 18. 18. 20. 23. 20. 23. 16. 24. 13. 22. 16. 12.]\n",
      " [14. 29. 19. 13. 13. 21. 17. 16. 17. 26. 16. 18. 16. 21. 12.]\n",
      " [25. 22. 18. 13. 16. 16. 20. 14. 21. 22. 11. 20. 17. 30. 22.]\n",
      " [32. 23. 18. 18. 18. 27. 23. 21. 25. 17. 12. 18. 28. 19. 23.]\n",
      " [15. 19. 22. 17. 23. 11. 25. 21. 24. 17. 16. 18. 13. 15. 12.]\n",
      " [19. 16. 25. 18. 18. 18. 20. 20. 25. 22. 19. 13. 23. 17. 16.]\n",
      " [24. 19. 24. 19. 24. 16. 17. 18. 20. 16. 19. 22. 20. 14. 20.]]\n",
      "___________\n",
      "[[19 23 17 24 23 18 22 18 16 20 16 16 11 22 14]\n",
      " [15 14 21 19 24 20 14 16 22 23 20 13 19 26 20]\n",
      " [16 17 17 21 22 14 20 16  8 24 20 17 16 28 10]\n",
      " [32 26 16 15 20 18 15 21 24 20 25 20 28 18 23]\n",
      " [17 22 17 15 16 21 19 17 19 21 20 16 21 14 18]\n",
      " [18 15 15 20 17 24 15 17 20 26 18 23 29 16 19]\n",
      " [16 20 10 20 18 13 19 21 19 19 22 21 10 23 18]\n",
      " [17 20 14 25 15 17 24 16 17 19 12 20 23 17 24]\n",
      " [12 22 13 18 18 20 23 20 23 16 24 13 22 16 12]\n",
      " [14 29 19 13 13 21 17 16 17 26 16 18 16 21 12]\n",
      " [25 22 18 13 16 16 20 14 21 22 11 20 17 30 22]\n",
      " [32 23 18 18 18 27 23 21 25 17 12 18 28 19 23]\n",
      " [15 19 22 17 23 11 25 21 24 17 16 18 13 15 12]\n",
      " [19 16 25 18 18 18 20 20 25 22 19 13 23 17 16]\n",
      " [24 19 24 19 24 16 17 18 20 16 19 22 20 14 20]]\n"
     ]
    }
   ],
   "source": [
    "#!/usr/bin/env python3\n",
    "\n",
    "import numpy as np\n",
    "create_confusion_matrix = __import__('0-create_confusion').create_confusion_matrix\n",
    "\n",
    "def one_hot(Y, classes):\n",
    "    \"\"\"convert an array to a one-hot matrix\"\"\"\n",
    "    one_hot = np.zeros((Y.shape[0], classes))\n",
    "    one_hot[np.arange(Y.shape[0]), Y] = 1\n",
    "    return one_hot\n",
    "\n",
    "np.random.seed(0)\n",
    "c = np.random.randint(10, 20)\n",
    "m = np.random.randint(1000, 5000)\n",
    "labels = np.random.randint(0, c, m)\n",
    "logits = np.random.randint(0, c, m)\n",
    "labels = one_hot(labels, c)\n",
    "logits = one_hot(logits, c)\n",
    "pred = np.argmax(logits, axis=1)\n",
    "true = np.argmax(labels, axis=1)\n",
    "print(create_confusion_matrix(labels, logits))\n",
    "print(\"___________\")\n",
    "print(confusion_matrix(true, pred))"
   ]
  },
  {
   "cell_type": "code",
   "execution_count": 9,
   "metadata": {},
   "outputs": [
    {
     "ename": "IndentationError",
     "evalue": "unindent does not match any outer indentation level (<tokenize>, line 18)",
     "output_type": "error",
     "traceback": [
      "\u001b[0;36m  File \u001b[0;32m\"<tokenize>\"\u001b[0;36m, line \u001b[0;32m18\u001b[0m\n\u001b[0;31m    true_pos = np.diag(cm)\u001b[0m\n\u001b[0m    ^\u001b[0m\n\u001b[0;31mIndentationError\u001b[0m\u001b[0;31m:\u001b[0m unindent does not match any outer indentation level\n"
     ]
    }
   ],
   "source": [
    "def compute_confusion_matrix(true, pred):\n",
    "  '''Computes a confusion matrix using numpy for two np.arrays\n",
    "  true and pred.\n",
    "\n",
    "  Results are identical (and similar in computation time) to: \n",
    "    \"from sklearn.metrics import confusion_matrix\"\n",
    "\n",
    "  However, this function avoids the dependency on sklearn.'''\n",
    "\n",
    "  K = len(np.unique(true)) # Number of classes \n",
    "  result = np.zeros((K, K))\n",
    "\n",
    "  for i in range(len(true)):\n",
    "    result[true[i]][pred[i]] += 1\n",
    "\n",
    "  return result\n",
    "\n",
    " true_pos = np.diag(cm) \n",
    " precision = np.sum(true_pos / np.sum(cm, axis=0))\n",
    " recall = np.sum(true_pos / np.sum(cm, axis=1))\n",
    "    \n",
    "true_pos = np.diag(cm)\n",
    "false_pos = np.sum(cm, axis=0) - true_pos\n",
    "false_neg = np.sum(cm, axis=1) - true_pos\n",
    "false_neg = np.sum(cm, axis=1) - true_pos"
   ]
  },
  {
   "cell_type": "code",
   "execution_count": 10,
   "metadata": {},
   "outputs": [
    {
     "name": "stdout",
     "output_type": "stream",
     "text": [
      "[0.07389163 0.09433962 0.07614213 0.08152174 0.10695187 0.075\n",
      " 0.09478673 0.11702128 0.08762887 0.09139785 0.0964467  0.08636364\n",
      " 0.09278351 0.0821256  0.08510638 0.10215054 0.08133971 0.08490566]\n"
     ]
    }
   ],
   "source": [
    "if __name__ == '__main__':\n",
    "    #confusion = np.load('confusion.npz')['confusion']\n",
    "    def sensitivity(confusion):\n",
    "        \"\"\" doc \"\"\"\n",
    "        r = []\n",
    "        for i in confusion:\n",
    "            r.append(np.round(i.max()/i.sum(), 8))\n",
    "        return(np.array(r))\n",
    "    np.set_printoptions(suppress=True)\n",
    "    print(sensitivity(confusion))"
   ]
  },
  {
   "cell_type": "code",
   "execution_count": 11,
   "metadata": {},
   "outputs": [
    {
     "name": "stdout",
     "output_type": "stream",
     "text": [
      "[0.03827751 0.04945055 0.07446809 0.02702703 0.05714286 0.065\n",
      " 0.06521739 0.05235602 0.08421053 0.04145078 0.06896552 0.0787037\n",
      " 0.04225352 0.06896552 0.07537688 0.05235602 0.03125    0.04568528]\n"
     ]
    }
   ],
   "source": [
    "import numpy as np\n",
    "#precision = __import__('2-precision').precision\n",
    "\n",
    "if __name__ == '__main__':\n",
    "    #confusion = np.load('confusion.npz')['confusion']\n",
    "    def precision(confusion):\n",
    "        \"\"\" doc \"\"\"\n",
    "        true_pos = np.diag(confusion)\n",
    "        return (np.round(true_pos / np.sum(confusion, axis=0), 8))\n",
    "    np.set_printoptions(suppress=True)\n",
    "    ##print(precision(confusion))\n",
    "    true_pos = np.diag(confusion)\n",
    "    print(np.round(true_pos / np.sum(confusion, axis=0), 8))"
   ]
  },
  {
   "cell_type": "code",
   "execution_count": 26,
   "metadata": {},
   "outputs": [
    {
     "name": "stdout",
     "output_type": "stream",
     "text": [
      "(50000,)\n",
      "(50000,)\n",
      "[[4701.    0.   36.   17.   12.   81.   38.   11.   35.    1.]\n",
      " [   0. 5494.   36.   21.    3.   38.    7.   13.   59.    7.]\n",
      " [  64.   93. 4188.  103.  108.   17.  162.   80.  132.   21.]\n",
      " [  30.   48.  171. 4310.    2.  252.   22.   86.  128.   52.]\n",
      " [  17.   27.   35.    0. 4338.   11.   84.    9.   27.  311.]\n",
      " [  89.   57.   45.  235.   70. 3631.  123.   33.  163.   60.]\n",
      " [  47.   32.   87.    1.   64.   83. 4607.    0.   29.    1.]\n",
      " [  26.   95.   75.    7.   58.   18.    1. 4682.   13.  200.]\n",
      " [  31.  153.   82.  174.   27.  179.   64.    7. 4003.  122.]\n",
      " [  48.   37.   39.   71.  220.   49.    8.  244.   46. 4226.]]\n"
     ]
    }
   ],
   "source": [
    "np.set_printoptions(suppress=True)\n",
    "confusion = create_confusion_matrix(labels, logits)\n",
    "print(confusion)"
   ]
  },
  {
   "cell_type": "code",
   "execution_count": 112,
   "metadata": {},
   "outputs": [
    {
     "name": "stdout",
     "output_type": "stream",
     "text": [
      "[0.99218958 0.98777131 0.9865429  0.98599078 0.98750582 0.98399789\n",
      " 0.98870119 0.98922476 0.98600469 0.98278237]\n"
     ]
    }
   ],
   "source": [
    "def specificity(confusion):\n",
    "    \"\"\" doc \"\"\"\n",
    "    true_pos = np.diag(confusion)\n",
    "    false_pos = np.sum(confusion, axis=0) - true_pos\n",
    "    false_neg = np.sum(confusion, axis=1) - true_pos\n",
    "    true_neg = np.sum(confusion) - false_neg - true_pos - false_pos\n",
    "    return np.round(true_neg / np.add(true_neg, false_pos), 8)\n",
    "np.set_printoptions(suppress=True)\n",
    "print(specificity(confusion))"
   ]
  },
  {
   "cell_type": "code",
   "execution_count": 111,
   "metadata": {},
   "outputs": [
    {
     "name": "stdout",
     "output_type": "stream",
     "text": [
      "[0.99731517 0.99192275 1.00386392 1.0036081  0.99904743 1.0032312\n",
      " 0.99633732 1.00022309 1.00458391 0.99971119]\n"
     ]
    }
   ],
   "source": [
    "def specificity(confusion):\n",
    "    \"\"\" doc \"\"\"\n",
    "    m = confusion.shape[0]\n",
    "    r = []\n",
    "    for i in range(m):\n",
    "        tp = confusion[i][i]\n",
    "        fn = confusion.T[i].sum()-tp\n",
    "        tn = confusion.sum() - fn - tp\n",
    "        allnegatives = confusion.sum() - confusion[i].sum()\n",
    "        r.append(np.round(tn/allnegatives, 8))\n",
    "    return np.array(r)\n",
    "        \n",
    "np.set_printoptions(suppress=True)\n",
    "print(specificity(confusion))"
   ]
  },
  {
   "cell_type": "code",
   "execution_count": 65,
   "metadata": {},
   "outputs": [
    {
     "data": {
      "text/plain": [
       "0.992229409037727"
      ]
     },
     "execution_count": 65,
     "metadata": {},
     "output_type": "execute_result"
    }
   ],
   "source": [
    "tp0 = confusion[0][0]\n",
    "fn0 = confusion.T[0].sum()-tp0\n",
    "tn0 = confusion.sum() - fn0 - tp0\n",
    "tn0/(tn0+fn0)"
   ]
  },
  {
   "cell_type": "code",
   "execution_count": 68,
   "metadata": {},
   "outputs": [
    {
     "name": "stdout",
     "output_type": "stream",
     "text": [
      "[0.99225011 0.98791904 0.98672159 0.98618433 0.98765999 0.98424992\n",
      " 0.98882743 0.98933963 0.98619786 0.9830738 ]\n"
     ]
    }
   ],
   "source": [
    "true_pos = np.diag(confusion)\n",
    "false_pos = np.sum(confusion, axis=0) - true_pos\n",
    "false_neg = np.sum(confusion, axis=1) - true_pos\n",
    "true_neg =  np.sum(confusion) - false_neg - true_pos\n",
    "print(np.round(true_neg / (true_neg + false_pos), 8))"
   ]
  },
  {
   "cell_type": "raw",
   "metadata": {},
   "source": [
    "[0.99218958 0.98777131 0.9865429  0.98599078 0.98750582 0.98399789\n",
    " 0.98870119 0.98922476 0.98600469 0.98278237]"
   ]
  },
  {
   "cell_type": "code",
   "execution_count": null,
   "metadata": {},
   "outputs": [],
   "source": [
    "def perf_measure(y_actual, y_hat):\n",
    "    TP = 0\n",
    "    FP = 0\n",
    "    TN = 0\n",
    "    FN = 0\n",
    "\n",
    "    for i in range(len(y_hat)): \n",
    "        if y_actual[i]==y_hat[i]==1:\n",
    "           TP += 1\n",
    "        if y_hat[i]==1 and y_actual[i]!=y_hat[i]:\n",
    "           FP += 1\n",
    "        if y_actual[i]==y_hat[i]==0:\n",
    "            TN += 1\n",
    "        if y_hat[i]==0 and y_actual[i]!=y_hat[i]:\n",
    "            FN += 1\n",
    "\n",
    "    return(TP, FP, TN, FN)"
   ]
  },
  {
   "cell_type": "code",
   "execution_count": null,
   "metadata": {},
   "outputs": [],
   "source": [
    "def conf_mat(prob_arr, input_arr):\n",
    "\n",
    "        # confusion matrix\n",
    "\n",
    "        conf_arr = [[0, 0], [0, 0]]\n",
    "\n",
    "        for i in range(len(prob_arr)):\n",
    "\n",
    "                if int(input_arr[i]) == 1:\n",
    "\n",
    "                        if float(prob_arr[i]) < 0.5:\n",
    "\n",
    "                                conf_arr[0][1] = conf_arr[0][1] + 1\n",
    "\n",
    "                        else:\n",
    "\n",
    "                                conf_arr[0][0] = conf_arr[0][0] + 1\n",
    "\n",
    "                elif int(input_arr[i]) == 2:\n",
    "\n",
    "                        if float(prob_arr[i]) >= 0.5:\n",
    "\n",
    "                                conf_arr[1][0] = conf_arr[1][0] +1\n",
    "\n",
    "                        else:\n",
    "\n",
    "                                conf_arr[1][1] = conf_arr[1][1] +1\n",
    "\n",
    "        accuracy = float(conf_arr[0][0] + conf_arr[1][1])/(len(input_arr))"
   ]
  },
  {
   "cell_type": "code",
   "execution_count": 28,
   "metadata": {},
   "outputs": [
    {
     "name": "stdout",
     "output_type": "stream",
     "text": [
      "[0.94161242 0.93802287 0.8580209  0.85856574 0.88884336 0.81917654\n",
      " 0.91526771 0.90560928 0.8447821  0.84613074]\n"
     ]
    }
   ],
   "source": [
    "#!/usr/bin/env python3\n",
    "\n",
    "import numpy as np\n",
    "#f1_score = __import__('4-f1_score').f1_score\n",
    "sensitivity = __import__('1-sensitivity').sensitivity\n",
    "precision = __import__('2-precision').precision\n",
    "\n",
    "\n",
    "def f1_score(confusion):\n",
    "    \"\"\" doc \"\"\"\n",
    "    recall = sensitivity(confusion)\n",
    "    pr = precision(confusion)\n",
    "    return 2*((recall*pr)/(recall+pr))\n",
    "if __name__ == '__main__':\n",
    "    #confusion = np.load('confusion.npz')['confusion']\n",
    "\n",
    "    np.set_printoptions(suppress=True)\n",
    "    print(f1_score(confusion))"
   ]
  },
  {
   "cell_type": "code",
   "execution_count": null,
   "metadata": {},
   "outputs": [],
   "source": []
  },
  {
   "cell_type": "code",
   "execution_count": null,
   "metadata": {},
   "outputs": [],
   "source": []
  }
 ],
 "metadata": {
  "kernelspec": {
   "display_name": "Python 3",
   "language": "python",
   "name": "python3"
  },
  "language_info": {
   "codemirror_mode": {
    "name": "ipython",
    "version": 3
   },
   "file_extension": ".py",
   "mimetype": "text/x-python",
   "name": "python",
   "nbconvert_exporter": "python",
   "pygments_lexer": "ipython3",
   "version": "3.6.12"
  }
 },
 "nbformat": 4,
 "nbformat_minor": 4
}
