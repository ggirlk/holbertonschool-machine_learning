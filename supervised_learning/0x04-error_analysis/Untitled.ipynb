{
 "cells": [
  {
   "cell_type": "code",
   "execution_count": 1,
   "metadata": {},
   "outputs": [],
   "source": [
    "!chmod +x *.py"
   ]
  },
  {
   "cell_type": "code",
   "execution_count": 71,
   "metadata": {},
   "outputs": [
    {
     "name": "stdout",
     "output_type": "stream",
     "text": [
      "[[4701.    0.   36.   17.   12.   81.   38.   11.   35.    1.]\n",
      " [   0. 5494.   36.   21.    3.   38.    7.   13.   59.    7.]\n",
      " [  64.   93. 4188.  103.  108.   17.  162.   80.  132.   21.]\n",
      " [  30.   48.  171. 4310.    2.  252.   22.   86.  128.   52.]\n",
      " [  17.   27.   35.    0. 4338.   11.   84.    9.   27.  311.]\n",
      " [  89.   57.   45.  235.   70. 3631.  123.   33.  163.   60.]\n",
      " [  47.   32.   87.    1.   64.   83. 4607.    0.   29.    1.]\n",
      " [  26.   95.   75.    7.   58.   18.    1. 4682.   13.  200.]\n",
      " [  31.  153.   82.  174.   27.  179.   64.    7. 4003.  122.]\n",
      " [  48.   37.   39.   71.  220.   49.    8.  244.   46. 4226.]]\n"
     ]
    }
   ],
   "source": [
    "import numpy as np\n",
    "create_confusion_matrix = __import__('0-create_confusion').create_confusion_matrix\n",
    "\n",
    "if __name__ == '__main__':\n",
    "    lib = np.load('labels_logits.npz')\n",
    "    labels = lib['labels']\n",
    "    logits = lib['logits']\n",
    "\n",
    "    np.set_printoptions(suppress=True)\n",
    "    #confusion = create_confusion_matrix(labels, logits)\n",
    "    #print(confusion)\n",
    "    #np.savez_compressed('confusion.npz', confusion=confusion)\n",
    "    #print(np.argmax(labels, axis=1))\n",
    "    #print(np.argmax(logits, axis=1))\n",
    "    #print(np.argmax((labels * logits), axis=0))\n",
    "    \n",
    "    m = labels.shape[0] # m \n",
    "    k = labels.shape[1] # Number of classes \n",
    "    result = np.zeros((k, k))\n",
    "    pred =  np.argmax(logits, axis=1)\n",
    "    true = np.argmax(labels, axis=1)\n",
    "    for i in range(m):\n",
    "        for j in range(k):\n",
    "            a, b = true[i], pred[i]\n",
    "            result[a][b] += 1\n",
    "    print(result/10)"
   ]
  },
  {
   "cell_type": "code",
   "execution_count": null,
   "metadata": {},
   "outputs": [],
   "source": [
    "def compute_confusion_matrix(true, pred):\n",
    "  '''Computes a confusion matrix using numpy for two np.arrays\n",
    "  true and pred.\n",
    "\n",
    "  Results are identical (and similar in computation time) to: \n",
    "    \"from sklearn.metrics import confusion_matrix\"\n",
    "\n",
    "  However, this function avoids the dependency on sklearn.'''\n",
    "\n",
    "  K = len(np.unique(true)) # Number of classes \n",
    "  result = np.zeros((K, K))\n",
    "\n",
    "  for i in range(len(true)):\n",
    "    result[true[i]][pred[i]] += 1\n",
    "\n",
    "  return result\n"
   ]
  }
 ],
 "metadata": {
  "kernelspec": {
   "display_name": "Python 3",
   "language": "python",
   "name": "python3"
  },
  "language_info": {
   "codemirror_mode": {
    "name": "ipython",
    "version": 3
   },
   "file_extension": ".py",
   "mimetype": "text/x-python",
   "name": "python",
   "nbconvert_exporter": "python",
   "pygments_lexer": "ipython3",
   "version": "3.6.12"
  }
 },
 "nbformat": 4,
 "nbformat_minor": 4
}
