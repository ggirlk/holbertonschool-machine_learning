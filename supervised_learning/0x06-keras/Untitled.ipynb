{
 "cells": [
  {
   "cell_type": "code",
   "execution_count": 73,
   "metadata": {},
   "outputs": [],
   "source": [
    "#!cp 0-sequential.py 1-input.py\n",
    "!chmod +x *.py"
   ]
  },
  {
   "cell_type": "code",
   "execution_count": 95,
   "metadata": {},
   "outputs": [
    {
     "name": "stdout",
     "output_type": "stream",
     "text": [
      "_________________________________________________________________\n",
      "Layer (type)                 Output Shape              Param #   \n",
      "=================================================================\n",
      "dense_185 (Dense)            (None, 256)               200960    \n",
      "_________________________________________________________________\n",
      "dropout_98 (Dropout)         (None, 256)               0         \n",
      "_________________________________________________________________\n",
      "dense_186 (Dense)            (None, 256)               65792     \n",
      "_________________________________________________________________\n",
      "dropout_99 (Dropout)         (None, 256)               0         \n",
      "_________________________________________________________________\n",
      "dense_187 (Dense)            (None, 10)                2570      \n",
      "=================================================================\n",
      "Total params: 269,322\n",
      "Trainable params: 269,322\n",
      "Non-trainable params: 0\n",
      "_________________________________________________________________\n",
      "[<tf.Variable 'dense_186/kernel:0' shape=(256, 256) dtype=float32>, <tf.Variable 'dense_187/kernel:0' shape=(256, 10) dtype=float32>, <tf.Variable 'dense_185/kernel:0' shape=(784, 256) dtype=float32>]\n"
     ]
    }
   ],
   "source": [
    "#!/usr/bin/env python3\n",
    "\n",
    "#build_model = __import__('0-sequential').build_model\n",
    "\"\"\" doc \"\"\"\n",
    "import tensorflow.keras as K\n",
    "tf.keras.regularizers.l2(l=0.01)\n",
    "\n",
    "def build_model(nx, layers, activations, lambtha, keep_prob):\n",
    "    \"\"\" doc \"\"\"\n",
    "    model = K.Sequential()\n",
    "    for i in range(len(layers)):\n",
    "        init = K.initializers.VarianceScaling(mode=\"fan_avg\")\n",
    "        # freg = K.layers.ActivityRegularization(l2=lambtha)\n",
    "        freg = K.layers.ActivityRegularization(l2=lambtha)\n",
    "        layer = K.layers.Dense(layers[i], input_dim=nx,\n",
    "                               activation=activations[i],\n",
    "                               kernel_initializer=init,\n",
    "                               kernel_regularizer=freg)\n",
    "        model.add(layer)\n",
    "        if i != len(layers)-1:\n",
    "            dropped = K.layers.Dropout(rate=keep_prob)\n",
    "            model.add(dropped)\n",
    "    return (model)\n",
    "\n",
    "\n",
    "if __name__ == '__main__':\n",
    "    network = build_model(784, [256, 256, 10], ['tanh', 'tanh', 'softmax'], 0.001, 0.95)\n",
    "    network.summary()\n",
    "    print(network.losses)"
   ]
  },
  {
   "cell_type": "raw",
   "metadata": {},
   "source": [
    "[<tf.Tensor 'dense/kernel/Regularizer/add:0' shape=() dtype=float32>, <tf.Tensor 'dense_1/kernel/Regularizer/add:0' shape=() dtype=float32>, <tf.Tensor 'dense_2/kernel/Regularizer/add:0' shape=() dtype=float32>]"
   ]
  },
  {
   "cell_type": "code",
   "execution_count": 94,
   "metadata": {},
   "outputs": [
    {
     "name": "stdout",
     "output_type": "stream",
     "text": [
      "_________________________________________________________________\n",
      "Layer (type)                 Output Shape              Param #   \n",
      "=================================================================\n",
      "input_11 (InputLayer)        (None, 784)               0         \n",
      "_________________________________________________________________\n",
      "dense_182 (Dense)            (None, 256)               200960    \n",
      "_________________________________________________________________\n",
      "dense_183 (Dense)            (None, 256)               65792     \n",
      "_________________________________________________________________\n",
      "dense_184 (Dense)            (None, 10)                2570      \n",
      "=================================================================\n",
      "Total params: 269,322\n",
      "Trainable params: 269,322\n",
      "Non-trainable params: 0\n",
      "_________________________________________________________________\n",
      "[<tf.Variable 'dense_182/kernel:0' shape=(784, 256) dtype=float32>, <tf.Variable 'dense_183/kernel:0' shape=(256, 256) dtype=float32>, <tf.Tensor 'dense_184/ActivityRegularizer/dropout_97/cond/Merge:0' shape=(?, 10) dtype=float32>, <tf.Variable 'dense_184/kernel:0' shape=(256, 10) dtype=float32>, <tf.Tensor 'dense_183/ActivityRegularizer/dropout_97/cond/Merge:0' shape=(?, 256) dtype=float32>]\n"
     ]
    }
   ],
   "source": [
    "\n",
    "def build_model(nx, layers, activations, lambtha, keep_prob):\n",
    "    inputs = K.Input(shape=(nx,))\n",
    "    init = K.initializers.VarianceScaling(mode=\"fan_avg\")\n",
    "    freg = K.layers.ActivityRegularization(l2=lambtha)\n",
    "    dropped = K.layers.Dropout(rate=keep_prob)\n",
    "    x = K.layers.Dense(layers[0], activation=activations[0],\n",
    "                       kernel_initializer=init,\n",
    "                       kernel_regularizer=freg)(inputs)\n",
    "    for i in range(1, len(layers)):\n",
    "        x = K.layers.Dense(layers[i], activation=activations[i],\n",
    "                           kernel_initializer=init,\n",
    "                           kernel_regularizer=freg)(x)\n",
    "    model = tf.keras.Model(inputs=inputs, outputs=x)\n",
    "    model.Dropout = dropped\n",
    "    return (model)\n",
    "\n",
    "if __name__ == '__main__':\n",
    "    network = build_model(784, [256, 256, 10], ['tanh', 'tanh', 'softmax'], 0.001, 0.95)\n",
    "    network.summary()\n",
    "    print(network.losses)"
   ]
  },
  {
   "cell_type": "code",
   "execution_count": null,
   "metadata": {},
   "outputs": [],
   "source": []
  }
 ],
 "metadata": {
  "kernelspec": {
   "display_name": "Python 3",
   "language": "python",
   "name": "python3"
  },
  "language_info": {
   "codemirror_mode": {
    "name": "ipython",
    "version": 3
   },
   "file_extension": ".py",
   "mimetype": "text/x-python",
   "name": "python",
   "nbconvert_exporter": "python",
   "pygments_lexer": "ipython3",
   "version": "3.6.12"
  }
 },
 "nbformat": 4,
 "nbformat_minor": 4
}
