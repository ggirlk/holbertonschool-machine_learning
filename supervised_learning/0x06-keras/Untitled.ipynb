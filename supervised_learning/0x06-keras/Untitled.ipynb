{
 "cells": [
  {
   "cell_type": "code",
   "execution_count": 73,
   "metadata": {},
   "outputs": [],
   "source": [
    "#!cp 0-sequential.py 1-input.py\n",
    "!chmod +x *.py"
   ]
  },
  {
   "cell_type": "code",
   "execution_count": 72,
   "metadata": {},
   "outputs": [
    {
     "name": "stdout",
     "output_type": "stream",
     "text": [
      "_________________________________________________________________\n",
      "Layer (type)                 Output Shape              Param #   \n",
      "=================================================================\n",
      "dense_134 (Dense)            (None, 256)               200960    \n",
      "_________________________________________________________________\n",
      "dropout_78 (Dropout)         (None, 256)               0         \n",
      "_________________________________________________________________\n",
      "dense_135 (Dense)            (None, 256)               65792     \n",
      "_________________________________________________________________\n",
      "dropout_79 (Dropout)         (None, 256)               0         \n",
      "_________________________________________________________________\n",
      "dense_136 (Dense)            (None, 10)                2570      \n",
      "=================================================================\n",
      "Total params: 269,322\n",
      "Trainable params: 269,322\n",
      "Non-trainable params: 0\n",
      "_________________________________________________________________\n",
      "[<tf.Tensor 'kernel/Regularizer_107/add:0' shape=() dtype=float32>, <tf.Tensor 'kernel/Regularizer_109/add:0' shape=() dtype=float32>, <tf.Tensor 'kernel/Regularizer_108/add:0' shape=() dtype=float32>]\n"
     ]
    }
   ],
   "source": [
    "#!/usr/bin/env python3\n",
    "\n",
    "#build_model = __import__('0-sequential').build_model\n",
    "import tensorflow as tf\n",
    "import tensorflow.keras as K\n",
    "\n",
    "\n",
    "def build_modell(nx, layers, activations, lambtha, keep_prob):\n",
    "    \"\"\" doc \"\"\"\n",
    "    model = K.Sequential()\n",
    "    for i in range(len(layers)):\n",
    "        init = (tf.contrib.layers.\n",
    "            variance_scaling_initializer(mode=\"FAN_AVG\"))\n",
    "        freg = K.layers.ActivityRegularization(l2=lambtha)\n",
    "        layer = K.layers.Dense(layers[i], input_dim=nx,\n",
    "                               activation=activations[i],\n",
    "                               kernel_initializer=init,\n",
    "                               kernel_regularizer=freg)\n",
    "        model.add(layer)\n",
    "        if i != len(layers)-1:\n",
    "            dropped = K.layers.Dropout(rate=keep_prob)\n",
    "            model.add(dropped)\n",
    "    return (model)\n",
    "\n",
    "def build_model(nx, layers, activations, lambtha, keep_prob):\n",
    "    \"\"\" doc \"\"\"\n",
    "    model = K.Sequential()\n",
    "    init = (tf.contrib.layers.\n",
    "            variance_scaling_initializer(mode=\"FAN_AVG\"))\n",
    "    freg = K.regularizers.l2(l=lambtha)\n",
    "    layer = K.layers.Dense(layers[0], input_shape=(nx,),\n",
    "                           activation=activations[0],\n",
    "                           kernel_initializer=init,\n",
    "                           kernel_regularizer=freg)\n",
    "    model.add(layer)\n",
    "    dropped = K.layers.Dropout(rate=keep_prob)\n",
    "    model.add(dropped)\n",
    "    for i in range(1, len(layers)):\n",
    "        init = (tf.contrib.layers.\n",
    "            variance_scaling_initializer(mode=\"FAN_AVG\"))\n",
    "        freg = K.regularizers.l2(l=lambtha)\n",
    "        layer = K.layers.Dense(layers[i], input_shape=(nx,),\n",
    "                               activation=activations[i],\n",
    "                               kernel_initializer=init,\n",
    "                               kernel_regularizer=freg)\n",
    "        model.add(layer)\n",
    "        if i != len(layers)-1:\n",
    "            dropped = K.layers.Dropout(rate=keep_prob)\n",
    "            model.add(dropped)\n",
    "    return (model)\n",
    "\n",
    "if __name__ == '__main__':\n",
    "    network = build_model(784, [256, 256, 10], ['tanh', 'tanh', 'softmax'], 0.001, 0.95)\n",
    "    network.summary()\n",
    "    print(network.losses)"
   ]
  },
  {
   "cell_type": "raw",
   "metadata": {},
   "source": [
    "[<tf.Tensor 'dense/kernel/Regularizer/add:0' shape=() dtype=float32>, <tf.Tensor 'dense_1/kernel/Regularizer/add:0' shape=() dtype=float32>, <tf.Tensor 'dense_2/kernel/Regularizer/add:0' shape=() dtype=float32>]"
   ]
  }
 ],
 "metadata": {
  "kernelspec": {
   "display_name": "Python 3",
   "language": "python",
   "name": "python3"
  },
  "language_info": {
   "codemirror_mode": {
    "name": "ipython",
    "version": 3
   },
   "file_extension": ".py",
   "mimetype": "text/x-python",
   "name": "python",
   "nbconvert_exporter": "python",
   "pygments_lexer": "ipython3",
   "version": "3.6.12"
  }
 },
 "nbformat": 4,
 "nbformat_minor": 4
}
