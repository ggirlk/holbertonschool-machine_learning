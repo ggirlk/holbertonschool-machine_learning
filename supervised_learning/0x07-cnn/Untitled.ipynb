{
 "cells": [
  {
   "cell_type": "code",
   "execution_count": 1,
   "metadata": {},
   "outputs": [],
   "source": [
    "#!touch 0-conv_forward.py\n",
    "!chmod +x *.py\n",
    "~/hb/holbertonschool-machine_learning/supervised_learning/0x07-cnn"
   ]
  },
  {
   "cell_type": "code",
   "execution_count": 4,
   "metadata": {},
   "outputs": [
    {
     "data": {
      "image/png": "[encoded data removed]",
      "text/plain": [
       "<Figure size 432x288 with 1 Axes>"
      ]
     },
     "metadata": {
      "needs_background": "light"
     },
     "output_type": "display_data"
    },
    {
     "ename": "IndexError",
     "evalue": "index 1 is out of bounds for axis 3 with size 1",
     "output_type": "error",
     "traceback": [
      "\u001b[0;31m---------------------------------------------------------------------------\u001b[0m",
      "\u001b[0;31mIndexError\u001b[0m                                Traceback (most recent call last)",
      "\u001b[0;32m<ipython-input-4-dd55a67dbcac>\u001b[0m in \u001b[0;36m<module>\u001b[0;34m\u001b[0m\n\u001b[1;32m     46\u001b[0m     \u001b[0mplt\u001b[0m\u001b[0;34m.\u001b[0m\u001b[0mimshow\u001b[0m\u001b[0;34m(\u001b[0m\u001b[0mX_train\u001b[0m\u001b[0;34m[\u001b[0m\u001b[0;36m0\u001b[0m\u001b[0;34m]\u001b[0m\u001b[0;34m)\u001b[0m\u001b[0;34m\u001b[0m\u001b[0;34m\u001b[0m\u001b[0m\n\u001b[1;32m     47\u001b[0m     \u001b[0mplt\u001b[0m\u001b[0;34m.\u001b[0m\u001b[0mshow\u001b[0m\u001b[0;34m(\u001b[0m\u001b[0;34m)\u001b[0m\u001b[0;34m\u001b[0m\u001b[0;34m\u001b[0m\u001b[0m\n\u001b[0;32m---> 48\u001b[0;31m     \u001b[0mA\u001b[0m \u001b[0;34m=\u001b[0m \u001b[0mconv_forward\u001b[0m\u001b[0;34m(\u001b[0m\u001b[0mX_train_c\u001b[0m\u001b[0;34m,\u001b[0m \u001b[0mW\u001b[0m\u001b[0;34m,\u001b[0m \u001b[0mb\u001b[0m\u001b[0;34m,\u001b[0m \u001b[0mrelu\u001b[0m\u001b[0;34m,\u001b[0m \u001b[0mpadding\u001b[0m\u001b[0;34m=\u001b[0m\u001b[0;34m'valid'\u001b[0m\u001b[0;34m)\u001b[0m\u001b[0;34m\u001b[0m\u001b[0;34m\u001b[0m\u001b[0m\n\u001b[0m\u001b[1;32m     49\u001b[0m     \u001b[0mprint\u001b[0m\u001b[0;34m(\u001b[0m\u001b[0mA\u001b[0m\u001b[0;34m.\u001b[0m\u001b[0mshape\u001b[0m\u001b[0;34m)\u001b[0m\u001b[0;34m\u001b[0m\u001b[0;34m\u001b[0m\u001b[0m\n\u001b[1;32m     50\u001b[0m     \u001b[0mplt\u001b[0m\u001b[0;34m.\u001b[0m\u001b[0mimshow\u001b[0m\u001b[0;34m(\u001b[0m\u001b[0mA\u001b[0m\u001b[0;34m[\u001b[0m\u001b[0;36m0\u001b[0m\u001b[0;34m,\u001b[0m \u001b[0;34m:\u001b[0m\u001b[0;34m,\u001b[0m \u001b[0;34m:\u001b[0m\u001b[0;34m,\u001b[0m \u001b[0;36m0\u001b[0m\u001b[0;34m]\u001b[0m\u001b[0;34m)\u001b[0m\u001b[0;34m\u001b[0m\u001b[0;34m\u001b[0m\u001b[0m\n",
      "\u001b[0;32m<ipython-input-4-dd55a67dbcac>\u001b[0m in \u001b[0;36mconv_forward\u001b[0;34m(A_prev, W, b, activation, padding, stride)\u001b[0m\n\u001b[1;32m     28\u001b[0m                                                 j*sw:j*sw+kw, :]\n\u001b[1;32m     29\u001b[0m                                             \u001b[0;34m*\u001b[0m \u001b[0mW\u001b[0m\u001b[0;34m[\u001b[0m\u001b[0;34m...\u001b[0m\u001b[0;34m,\u001b[0m \u001b[0mk\u001b[0m\u001b[0;34m]\u001b[0m\u001b[0;34m,\u001b[0m\u001b[0;34m\u001b[0m\u001b[0;34m\u001b[0m\u001b[0m\n\u001b[0;32m---> 30\u001b[0;31m                                             axis=(1, 2, 3))\n\u001b[0m\u001b[1;32m     31\u001b[0m     \u001b[0;32mreturn\u001b[0m \u001b[0mactivation\u001b[0m\u001b[0;34m(\u001b[0m\u001b[0moutput\u001b[0m\u001b[0;34m)\u001b[0m\u001b[0;34m\u001b[0m\u001b[0;34m\u001b[0m\u001b[0m\n\u001b[1;32m     32\u001b[0m \u001b[0;34m\u001b[0m\u001b[0m\n",
      "\u001b[0;31mIndexError\u001b[0m: index 1 is out of bounds for axis 3 with size 1"
     ]
    }
   ],
   "source": [
    "#!/usr/bin/env python3\n",
    "\n",
    "import matplotlib.pyplot as plt\n",
    "import numpy as np\n",
    "#conv_forward = __import__('0-conv_forward').conv_forward\n",
    "def conv_forward(A_prev, W, b, activation, padding=\"same\", stride=(1, 1)):\n",
    "    \"\"\" doc \"\"\"\n",
    "    m, imgh, imgw, c = A_prev.shape\n",
    "    kh, kw, kc, knc = W.shape\n",
    "    sh, sw = stride\n",
    "    imghp, imgwp = 0, 0\n",
    "    if padding == 'same':\n",
    "        imghp = (((imgh - 1) * sh + kh - imgh) // 2) + 1\n",
    "        imgwp = (((imgw - 1) * sw + kw - imgw) // 2) + 1\n",
    "\n",
    "    if type(padding) == tuple:\n",
    "        imghp, imgwp = padding\n",
    "    imgh, imgw = (imgh-kh+2*imghp)//sh + 1, (imgw-kw+2*imgwp)//sw + 1\n",
    "    output = np.zeros((m, imgh, imgw, knc))\n",
    "    new = np.pad(A_prev, ((0, 0), (imghp, imghp),\n",
    "                          (imgwp, imgwp), (0, 0)),\n",
    "                 'constant')\n",
    "    for k in range(knc):\n",
    "        for i in range(imgh):\n",
    "            for j in range(imgw):\n",
    "                output[:, i, j, k] = np.sum(new[:,\n",
    "                                                i*sh:i*sh+kh,\n",
    "                                                j*sw:j*sw+kw, :]\n",
    "                                            * W[..., k],\n",
    "                                            axis=(1, 2, 3))\n",
    "    return activation(output)\n",
    "\n",
    "if __name__ == \"__main__\":\n",
    "    np.random.seed(0)\n",
    "    lib = np.load('../data/MNIST.npz')\n",
    "    X_train = lib['X_train']\n",
    "    m, h, w = X_train.shape\n",
    "    X_train_c = X_train.reshape((-1, h, w, 1))\n",
    "\n",
    "    W = np.random.randn(3, 3, 1, 2)\n",
    "    b = np.random.randn(1, 1, 1, 2)\n",
    "\n",
    "    def relu(Z):\n",
    "        return np.maximum(Z, 0)\n",
    "\n",
    "    plt.imshow(X_train[0])\n",
    "    plt.show()\n",
    "    A = conv_forward(X_train_c, W, b, relu, padding='valid')\n",
    "    print(A.shape)\n",
    "    plt.imshow(A[0, :, :, 0])\n",
    "    plt.show()\n",
    "    plt.imshow(A[0, :, :, 1])\n",
    "    plt.show()"
   ]
  },
  {
   "cell_type": "code",
   "execution_count": null,
   "metadata": {},
   "outputs": [],
   "source": [
    "#include <stdio.h>\n",
    "#include <stdlib.h>\n",
    "#include \"lists.h\"\n",
    "\n",
    "/**\n",
    " * check_cycle - checks if a singly linked list has a cycle in it\n",
    " * @list: pointer to head of list\n",
    " * Return: 0 or 1\n",
    " */\n",
    "int check_cycle(listint_t *list)\n",
    "{\n",
    "    listint_t *tmp, *current;\n",
    "\n",
    "    if (list == NULL)\n",
    "        return (0);\n",
    "    tmp = list;\n",
    "    while (tmp->next != NULL)\n",
    "    {\n",
    "        current = tmp;\n",
    "        while (current->next != NULL)\n",
    "        {\n",
    "            if (tmp == current->next)\n",
    "            {\n",
    "                return (1);\n",
    "            }\n",
    "            current = current->next;\n",
    "        }\n",
    "        tmp = tmp->next;\n",
    "    }\n",
    "    return (0);\n",
    "}\n"
   ]
  }
 ],
 "metadata": {
  "kernelspec": {
   "display_name": "Python 3",
   "language": "python",
   "name": "python3"
  },
  "language_info": {
   "codemirror_mode": {
    "name": "ipython",
    "version": 3
   },
   "file_extension": ".py",
   "mimetype": "text/x-python",
   "name": "python",
   "nbconvert_exporter": "python",
   "pygments_lexer": "ipython3",
   "version": "3.6.12"
  }
 },
 "nbformat": 4,
 "nbformat_minor": 4
}
