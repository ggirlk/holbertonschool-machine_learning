{
 "cells": [
  {
   "cell_type": "code",
   "execution_count": 14,
   "metadata": {},
   "outputs": [],
   "source": [
    "!cp 0-conv_forward.py 1-pool_forward.py\n",
    "!chmod +x *.py\n",
    "#~/hb/holbertonschool-machine_learning/supervised_learning/0x07-cnn"
   ]
  },
  {
   "cell_type": "code",
   "execution_count": 12,
   "metadata": {},
   "outputs": [
    {
     "data": {
      "image/png": "[encoded data removed]",
      "text/plain": [
       "<Figure size 432x288 with 1 Axes>"
      ]
     },
     "metadata": {
      "needs_background": "light"
     },
     "output_type": "display_data"
    },
    {
     "name": "stdout",
     "output_type": "stream",
     "text": [
      "(50000, 26, 26, 2)\n"
     ]
    },
    {
     "data": {
      "image/png": "[encoded data removed]",
      "text/plain": [
       "<Figure size 432x288 with 1 Axes>"
      ]
     },
     "metadata": {
      "needs_background": "light"
     },
     "output_type": "display_data"
    },
    {
     "data": {
      "image/png": "[encoded data removed]",
      "text/plain": [
       "<Figure size 432x288 with 1 Axes>"
      ]
     },
     "metadata": {
      "needs_background": "light"
     },
     "output_type": "display_data"
    }
   ],
   "source": [
    "#!/usr/bin/env python3\n",
    "\n",
    "import matplotlib.pyplot as plt\n",
    "import numpy as np\n",
    "#conv_forward = __import__('0-conv_forward').conv_forward\n",
    "def conv_forward(A_prev, W, b, activation, padding=\"same\", stride=(1, 1)):\n",
    "    \"\"\" doc \"\"\"\n",
    "    m, imgh, imgw, c = A_prev.shape\n",
    "    kh, kw, kc, knc = W.shape\n",
    "    sh, sw = stride\n",
    "    imghp, imgwp = 0, 0\n",
    "    if padding == 'same':\n",
    "        imghp = (((imgh - 1) * sh + kh - imgh) // 2) + int(kh%2==0)\n",
    "        imgwp = (((imgw - 1) * sw + kw - imgw) // 2) + int(kw%2==0)\n",
    "\n",
    "    if type(padding) == tuple:\n",
    "        imghp, imgwp = padding\n",
    "    imgh, imgw = (imgh-kh+2*imghp)//sh + 1, (imgw-kw+2*imgwp)//sw + 1\n",
    "    output = np.zeros((m, imgh, imgw, knc))\n",
    "    new = np.pad(A_prev, ((0, 0), (imghp, imghp),\n",
    "                          (imgwp, imgwp), (0, 0)),\n",
    "                 'constant', constant_values=0)\n",
    "    for k in range(knc):\n",
    "        for i in range(imgh):\n",
    "            for j in range(imgw):\n",
    "                output[:, i, j, k] = np.sum(new[:,\n",
    "                                                i*sh:i*sh+kh,\n",
    "                                                j*sw:j*sw+kw, :]\n",
    "                                            * W[..., k],\n",
    "                                            axis=(1, 2, 3))\n",
    "    return activation(output)\n",
    "\n",
    "if __name__ == \"__main__\":\n",
    "    np.random.seed(0)\n",
    "    lib = np.load('../data/MNIST.npz')\n",
    "    X_train = lib['X_train']\n",
    "    m, h, w = X_train.shape\n",
    "    X_train_c = X_train.reshape((-1, h, w, 1))\n",
    "\n",
    "    W = np.random.randn(3, 3, 1, 2)\n",
    "    b = np.random.randn(1, 1, 1, 2)\n",
    "\n",
    "    def relu(Z):\n",
    "        return np.maximum(Z, 0)\n",
    "\n",
    "    plt.imshow(X_train[0])\n",
    "    plt.show()\n",
    "    A = conv_forward(X_train_c, W, b, relu, padding='valid')\n",
    "    print(A.shape)\n",
    "    plt.imshow(A[0, :, :, 0])\n",
    "    plt.show()\n",
    "    plt.imshow(A[0, :, :, 1])\n",
    "    plt.show()"
   ]
  },
  {
   "cell_type": "code",
   "execution_count": null,
   "metadata": {},
   "outputs": [
    {
     "name": "stdout",
     "output_type": "stream",
     "text": [
      "(50000, 28, 28, 2)\n"
     ]
    },
    {
     "data": {
      "image/png": "[encoded data removed]",
      "text/plain": [
       "<Figure size 432x288 with 1 Axes>"
      ]
     },
     "metadata": {
      "needs_background": "light"
     },
     "output_type": "display_data"
    },
    {
     "data": {
      "image/png": "[encoded data removed]",
      "text/plain": [
       "<Figure size 432x288 with 1 Axes>"
      ]
     },
     "metadata": {
      "needs_background": "light"
     },
     "output_type": "display_data"
    }
   ],
   "source": [
    "#!/usr/bin/env python3\n",
    "\n",
    "import matplotlib.pyplot as plt\n",
    "import numpy as np\n",
    "#pool_forward = __import__('1-pool_forward').pool_forward\n",
    "def pool_forward(A_prev, kernel_shape, stride=(1, 1), mode='max'):\n",
    "    \"\"\" doc \"\"\"\n",
    "    m, imgh, imgw, c = A_prev.shape\n",
    "    kh, kw = kernel_shape\n",
    "    sh, sw = stride\n",
    "    imgh, imgw = (imgh-kh)//sh + 1, (imgw-kw)//sw + 1\n",
    "    output = np.zeros((m, imgh, imgw, c))\n",
    "\n",
    "    for i in range(imgh):\n",
    "        for j in range(imgw):\n",
    "            if mode == 'max':\n",
    "                output[:, i, j, :] = np.max(A_prev[:,\n",
    "                                                   i*sh:i*sh+kh,\n",
    "                                                   j*sw:j*sw+kw, :],\n",
    "                                            axis=(1, 2))\n",
    "            if mode == 'avg':\n",
    "                output[:, i, j, :] = np.average(A_prev[:,\n",
    "                                                       i*sh:i*sh+kh,\n",
    "                                                       j*sw:j*sw+kw, :],\n",
    "                                                axis=(1, 2))\n",
    "    return output\n",
    "\n",
    "if __name__ == \"__main__\":\n",
    "    np.random.seed(0)\n",
    "    lib = np.load('../data/MNIST.npz')\n",
    "    X_train = lib['X_train']\n",
    "    m, h, w = X_train.shape\n",
    "    X_train_a = X_train.reshape((-1, h, w, 1))\n",
    "    X_train_b = 1 - X_train_a\n",
    "    X_train_c = np.concatenate((X_train_a, X_train_b), axis=3)\n",
    "\n",
    "    print(X_train_c.shape)\n",
    "    plt.imshow(X_train_c[0, :, :, 0])\n",
    "    plt.show()\n",
    "    plt.imshow(X_train_c[0, :, :, 1])\n",
    "    plt.show()\n",
    "    A = pool_forward(X_train_c, (2, 2), stride=(2, 2))\n",
    "    print(A.shape)\n",
    "    plt.imshow(A[0, :, :, 0])\n",
    "    plt.show()\n",
    "    plt.imshow(A[0, :, :, 1])\n",
    "    plt.show()"
   ]
  },
  {
   "cell_type": "code",
   "execution_count": null,
   "metadata": {},
   "outputs": [],
   "source": []
  }
 ],
 "metadata": {
  "kernelspec": {
   "display_name": "Python 3",
   "language": "python",
   "name": "python3"
  },
  "language_info": {
   "codemirror_mode": {
    "name": "ipython",
    "version": 3
   },
   "file_extension": ".py",
   "mimetype": "text/x-python",
   "name": "python",
   "nbconvert_exporter": "python",
   "pygments_lexer": "ipython3",
   "version": "3.6.12"
  }
 },
 "nbformat": 4,
 "nbformat_minor": 4
}
