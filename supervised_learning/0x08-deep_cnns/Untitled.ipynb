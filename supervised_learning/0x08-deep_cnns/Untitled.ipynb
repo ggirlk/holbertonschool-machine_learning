{
 "cells": [
  {
   "cell_type": "code",
   "execution_count": 124,
   "metadata": {},
   "outputs": [
    {
     "name": "stdout",
     "output_type": "stream",
     "text": [
      "/home/khouloud/hb/holbertonschool-machine_learning/supervised_learning/0x08-deep_cnns\n"
     ]
    }
   ],
   "source": [
    "#!touch 0-inception_block.py | chmod +x *.py\n",
    "!pwd"
   ]
  },
  {
   "cell_type": "code",
   "execution_count": 123,
   "metadata": {},
   "outputs": [
    {
     "name": "stdout",
     "output_type": "stream",
     "text": [
      "__________________________________________________________________________________________________\n",
      "Layer (type)                    Output Shape         Param #     Connected to                     \n",
      "==================================================================================================\n",
      "input_66 (InputLayer)           (None, 224, 224, 3)  0                                            \n",
      "__________________________________________________________________________________________________\n",
      "conv2d_370 (Conv2D)             (None, 224, 224, 96) 384         input_66[0][0]                   \n",
      "__________________________________________________________________________________________________\n",
      "conv2d_372 (Conv2D)             (None, 224, 224, 16) 64          input_66[0][0]                   \n",
      "__________________________________________________________________________________________________\n",
      "max_pooling2d_63 (MaxPooling2D) (None, 224, 224, 3)  0           input_66[0][0]                   \n",
      "__________________________________________________________________________________________________\n",
      "conv2d_369 (Conv2D)             (None, 224, 224, 64) 256         input_66[0][0]                   \n",
      "__________________________________________________________________________________________________\n",
      "conv2d_371 (Conv2D)             (None, 224, 224, 128 110720      conv2d_370[0][0]                 \n",
      "__________________________________________________________________________________________________\n",
      "conv2d_373 (Conv2D)             (None, 224, 224, 32) 12832       conv2d_372[0][0]                 \n",
      "__________________________________________________________________________________________________\n",
      "conv2d_374 (Conv2D)             (None, 224, 224, 32) 128         max_pooling2d_63[0][0]           \n",
      "__________________________________________________________________________________________________\n",
      "concatenate_48 (Concatenate)    (None, 224, 224, 256 0           conv2d_369[0][0]                 \n",
      "                                                                 conv2d_371[0][0]                 \n",
      "                                                                 conv2d_373[0][0]                 \n",
      "                                                                 conv2d_374[0][0]                 \n",
      "==================================================================================================\n",
      "Total params: 124,384\n",
      "Trainable params: 124,384\n",
      "Non-trainable params: 0\n",
      "__________________________________________________________________________________________________\n"
     ]
    }
   ],
   "source": [
    "#!/usr/bin/env python3\n",
    "\n",
    "import tensorflow.keras as K\n",
    "#inception_block = __import__('0-inception_block').inception_block\n",
    "def inception_block(A_prev, filters):\n",
    "    \"\"\" doc \"\"\"\n",
    "    MaxPooling2D = K.layers.MaxPooling2D\n",
    "    Conv2D = K.layers.Conv2D\n",
    "    Concatenate = K.layers.Concatenate()\n",
    "    \n",
    "    F1, F3R, F3, F5R, F5, FPP = filters\n",
    "    \n",
    "    layer1x1_0 = Conv2D(F1, 1, activation='relu')(A_prev) #\n",
    "    \n",
    "    layer1x1_1 = Conv2D(F3R, 1, padding='same', activation='relu')(A_prev)\n",
    "    \n",
    "    layer3x3 = Conv2D(F3, 3, padding='same', activation='relu')(layer1x1_1) #\n",
    "    \n",
    "    layer1x1_2 = Conv2D(F5R, 1, padding='same', activation='relu')(A_prev)\n",
    "    \n",
    "    layer5x5 = Conv2D(F5, 5, padding='same',  activation='relu')(layer1x1_2) #\n",
    "    \n",
    "    layerMax = MaxPooling2D(1)(A_prev)\n",
    "    \n",
    "    layer1x1_3 = Conv2D(FPP, 1, padding='same', activation='relu')(layerMax) #\n",
    "    \n",
    "    layer_out = Concatenate([layer1x1_0, layer3x3, layer5x5, layer1x1_3])\n",
    "    return layer_out\n",
    "if __name__ == '__main__':\n",
    "    X = K.Input(shape=(224, 224, 3))\n",
    "    Y = inception_block(X, [64, 96, 128, 16, 32, 32])\n",
    "    model = K.models.Model(inputs=X, outputs=Y)\n",
    "    model.summary()"
   ]
  },
  {
   "cell_type": "code",
   "execution_count": null,
   "metadata": {},
   "outputs": [],
   "source": [
    " [(None, 224, 224, 64), (None, 222, 222, 128), (None, 220, 220, 32), (None, 224, 224, 32)]"
   ]
  }
 ],
 "metadata": {
  "kernelspec": {
   "display_name": "Python 3",
   "language": "python",
   "name": "python3"
  },
  "language_info": {
   "codemirror_mode": {
    "name": "ipython",
    "version": 3
   },
   "file_extension": ".py",
   "mimetype": "text/x-python",
   "name": "python",
   "nbconvert_exporter": "python",
   "pygments_lexer": "ipython3",
   "version": "3.6.12"
  }
 },
 "nbformat": 4,
 "nbformat_minor": 4
}
