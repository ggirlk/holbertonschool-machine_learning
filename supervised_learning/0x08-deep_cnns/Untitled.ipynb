{
 "cells": [
  {
   "cell_type": "code",
   "execution_count": 6,
   "metadata": {},
   "outputs": [],
   "source": [
    "#!cp 2-identity_block.py 3-projection_block.py"
   ]
  },
  {
   "cell_type": "code",
   "execution_count": 2,
   "metadata": {},
   "outputs": [],
   "source": [
    "import tensorflow.keras as K"
   ]
  },
  {
   "cell_type": "code",
   "execution_count": null,
   "metadata": {
    "jupyter": {
     "source_hidden": true
    }
   },
   "outputs": [],
   "source": [
    "#!/usr/bin/env python3\n",
    "\n",
    "import tensorflow.keras as K\n",
    "#inception_block = __import__('0-inception_block').inception_block\n",
    "def inception_block(A_prev, filters):\n",
    "    \"\"\" doc \"\"\"\n",
    "    MaxPooling2D = K.layers.MaxPooling2D\n",
    "    Conv2D = K.layers.Conv2D\n",
    "    Concatenate = K.layers.Concatenate()\n",
    "    \n",
    "    F1, F3R, F3, F5R, F5, FPP = filters\n",
    "    \n",
    "    layer1x1_0 = Conv2D(F1, 1, activation='relu')(A_prev) #\n",
    "    \n",
    "    layer1x1_1 = Conv2D(F3R, 1, padding='same', activation='relu')(A_prev)\n",
    "    \n",
    "    layer3x3 = Conv2D(F3, 3, padding='same', activation='relu')(layer1x1_1) #\n",
    "    \n",
    "    layer1x1_2 = Conv2D(F5R, 1, padding='same', activation='relu')(A_prev)\n",
    "    \n",
    "    layer5x5 = Conv2D(F5, 5, padding='same',  activation='relu')(layer1x1_2) #\n",
    "    \n",
    "    layerMax = MaxPooling2D(1)(A_prev)\n",
    "    \n",
    "    layer1x1_3 = Conv2D(FPP, 1, padding='same', activation='relu')(layerMax) #\n",
    "    \n",
    "    layer_out = Concatenate([layer1x1_0, layer3x3, layer5x5, layer1x1_3])\n",
    "    return layer_out\n",
    "if __name__ == '__main__':\n",
    "    X = K.Input(shape=(224, 224, 3))\n",
    "    Y = inception_block(X, [64, 96, 128, 16, 32, 32])\n",
    "    model = K.models.Model(inputs=X, outputs=Y)\n",
    "    model.summary()"
   ]
  },
  {
   "cell_type": "code",
   "execution_count": null,
   "metadata": {},
   "outputs": [],
   "source": [
    " [(None, 224, 224, 64), (None, 222, 222, 128), (None, 220, 220, 32), (None, 224, 224, 32)]"
   ]
  },
  {
   "cell_type": "code",
   "execution_count": null,
   "metadata": {
    "jupyter": {
     "source_hidden": true
    }
   },
   "outputs": [],
   "source": [
    "# one by one from the table\n",
    "def inception_network():\n",
    "    \"\"\" doc \"\"\"\n",
    "    MaxPooling2D = K.layers.MaxPooling2D\n",
    "    AveragePooling2D = K.layers.AveragePooling2D\n",
    "    Conv2D = K.layers.Conv2D\n",
    "    Dropout = K.layers.Dropout(rate=0.6)\n",
    "    Dense = K.layers.Dense\n",
    "    X = K.Input(shape=(224, 224, 3))\n",
    "    \n",
    "    layer7x7 = Conv2D(64, 7, 2, padding='same',  activation='relu')(X)\n",
    "    layerMax = MaxPooling2D(3, 2, padding='same')(layer7x7)\n",
    "    \n",
    "    layer3x3 = Conv2D(64, 1, 1,  activation='relu')(layerMax)\n",
    "    layer3x3 = Conv2D(192, 3, 1, padding='same',  activation='relu')(layer3x3)\n",
    "    layerMax_2 = MaxPooling2D(3, 2, padding='same')(layer3x3)\n",
    "\n",
    "    inception = inception_block(layerMax_2, [64, 96, 128, 16, 32, 32])\n",
    "    inception = inception_block(inception, [128, 128, 192, 32, 96, 64])\n",
    "    \n",
    "    layerMax_2 = MaxPooling2D(3, 2, padding='same')(inception)\n",
    "    inception = inception_block(layerMax_2, [192, 96, 208, 16, 48, 64])\n",
    "    inception = inception_block(inception, [160, 112, 224, 24, 64, 64])\n",
    "    inception = inception_block(inception, [128, 128, 256, 24, 64, 64])\n",
    "    inception = inception_block(inception, [112, 144, 288, 32, 64, 64])\n",
    "    inception = inception_block(inception, [256, 160, 320, 32, 128, 128])\n",
    "    layerMax_2 = MaxPooling2D(3, 2, padding='same')(inception)\n",
    "    inception = inception_block(layerMax_2, [256, 160, 320, 32, 128, 128])\n",
    "    inception = inception_block(inception, [384, 192, 384, 48, 128, 128])\n",
    "    layerAVG_2 = AveragePooling2D(7, 1)(inception)\n",
    "    dropped = Dropout(layerAVG_2)\n",
    "    # dropped = Dense(1000, activation=\"relu\")(dropped)\n",
    "    Y = Dense(1000, activation=\"softmax\")(dropped)\n",
    "\n",
    "    model = K.Model(inputs=X, outputs=Y)\n",
    "    return model\n",
    "\n",
    "if __name__ == '__main__':\n",
    "    model = inception_network()\n",
    "    model.summary()"
   ]
  },
  {
   "cell_type": "code",
   "execution_count": 5,
   "metadata": {
    "collapsed": true,
    "jupyter": {
     "outputs_hidden": true,
     "source_hidden": true
    }
   },
   "outputs": [
    {
     "name": "stdout",
     "output_type": "stream",
     "text": [
      "__________________________________________________________________________________________________\n",
      "Layer (type)                    Output Shape         Param #     Connected to                     \n",
      "==================================================================================================\n",
      "input_3 (InputLayer)            (None, 224, 224, 256 0                                            \n",
      "__________________________________________________________________________________________________\n",
      "conv2d_6 (Conv2D)               (None, 224, 224, 64) 16448       input_3[0][0]                    \n",
      "__________________________________________________________________________________________________\n",
      "batch_normalization_6 (BatchNor (None, 224, 224, 64) 256         conv2d_6[0][0]                   \n",
      "__________________________________________________________________________________________________\n",
      "activation_6 (Activation)       (None, 224, 224, 64) 0           batch_normalization_6[0][0]      \n",
      "__________________________________________________________________________________________________\n",
      "conv2d_7 (Conv2D)               (None, 224, 224, 64) 36928       activation_6[0][0]               \n",
      "__________________________________________________________________________________________________\n",
      "batch_normalization_7 (BatchNor (None, 224, 224, 64) 256         conv2d_7[0][0]                   \n",
      "__________________________________________________________________________________________________\n",
      "activation_7 (Activation)       (None, 224, 224, 64) 0           batch_normalization_7[0][0]      \n",
      "__________________________________________________________________________________________________\n",
      "conv2d_8 (Conv2D)               (None, 224, 224, 256 16640       activation_7[0][0]               \n",
      "__________________________________________________________________________________________________\n",
      "batch_normalization_8 (BatchNor (None, 224, 224, 256 1024        conv2d_8[0][0]                   \n",
      "__________________________________________________________________________________________________\n",
      "add_2 (Add)                     (None, 224, 224, 256 0           batch_normalization_8[0][0]      \n",
      "                                                                 input_3[0][0]                    \n",
      "__________________________________________________________________________________________________\n",
      "activation_8 (Activation)       (None, 224, 224, 256 0           add_2[0][0]                      \n",
      "==================================================================================================\n",
      "Total params: 71,552\n",
      "Trainable params: 70,784\n",
      "Non-trainable params: 768\n",
      "__________________________________________________________________________________________________\n"
     ]
    }
   ],
   "source": [
    "def identity_block(A_prev, filters):\n",
    "    \"\"\" doc \"\"\"\n",
    "    Conv2D = K.layers.Conv2D\n",
    "    BatchNorm = K.layers.BatchNormalization\n",
    "    Activation = K.layers.Activation\n",
    "    Add = K.layers.Add\n",
    "    F11, F3, F12 = filters\n",
    "    layer1x1 = Conv2D(F11, 1, padding='same', kernel_initializer='he_normal')(A_prev)\n",
    "    layer1x1 = BatchNorm()(layer1x1)\n",
    "    layer1x1 = Activation('relu')(layer1x1)\n",
    "\n",
    "    layer3x3 = Conv2D(F3, 3, padding='same', kernel_initializer='he_normal')(layer1x1)\n",
    "    layer3x3 = BatchNorm()(layer3x3)\n",
    "    layer3x3 = Activation('relu')(layer3x3)\n",
    "\n",
    "    layer1x1 = Conv2D(F12, 1, padding='same', kernel_initializer='he_normal')(layer3x3)\n",
    "    layer1x1 = BatchNorm()(layer1x1)\n",
    "\n",
    "    layer_out = Add()([layer1x1, A_prev])\n",
    "    layer_out = Activation('relu')(layer_out)\n",
    "\n",
    "    return layer_out\n",
    "\n",
    "if __name__ == '__main__':\n",
    "    X = K.Input(shape=(224, 224, 256))\n",
    "    Y = identity_block(X, [64, 64, 256])\n",
    "    model = K.models.Model(inputs=X, outputs=Y)\n",
    "    model.summary()"
   ]
  },
  {
   "cell_type": "code",
   "execution_count": 25,
   "metadata": {},
   "outputs": [
    {
     "name": "stdout",
     "output_type": "stream",
     "text": [
      "__________________________________________________________________________________________________\n",
      "Layer (type)                    Output Shape         Param #     Connected to                     \n",
      "==================================================================================================\n",
      "input_23 (InputLayer)           (None, 224, 224, 3)  0                                            \n",
      "__________________________________________________________________________________________________\n",
      "conv2d_89 (Conv2D)              (None, 224, 224, 64) 256         input_23[0][0]                   \n",
      "__________________________________________________________________________________________________\n",
      "batch_normalization_89 (BatchNo (None, 224, 224, 64) 256         conv2d_89[0][0]                  \n",
      "__________________________________________________________________________________________________\n",
      "activation_58 (Activation)      (None, 224, 224, 64) 0           batch_normalization_89[0][0]     \n",
      "__________________________________________________________________________________________________\n",
      "conv2d_90 (Conv2D)              (None, 224, 224, 64) 36928       activation_58[0][0]              \n",
      "__________________________________________________________________________________________________\n",
      "batch_normalization_90 (BatchNo (None, 224, 224, 64) 256         conv2d_90[0][0]                  \n",
      "__________________________________________________________________________________________________\n",
      "activation_59 (Activation)      (None, 224, 224, 64) 0           batch_normalization_90[0][0]     \n",
      "__________________________________________________________________________________________________\n",
      "conv2d_91 (Conv2D)              (None, 112, 112, 256 16640       activation_59[0][0]              \n",
      "__________________________________________________________________________________________________\n",
      "conv2d_88 (Conv2D)              (None, 112, 112, 256 1024        input_23[0][0]                   \n",
      "__________________________________________________________________________________________________\n",
      "batch_normalization_91 (BatchNo (None, 112, 112, 256 1024        conv2d_91[0][0]                  \n",
      "__________________________________________________________________________________________________\n",
      "batch_normalization_88 (BatchNo (None, 112, 112, 256 1024        conv2d_88[0][0]                  \n",
      "__________________________________________________________________________________________________\n",
      "add_22 (Add)                    (None, 112, 112, 256 0           batch_normalization_91[0][0]     \n",
      "                                                                 batch_normalization_88[0][0]     \n",
      "__________________________________________________________________________________________________\n",
      "activation_60 (Activation)      (None, 112, 112, 256 0           add_22[0][0]                     \n",
      "==================================================================================================\n",
      "Total params: 57,408\n",
      "Trainable params: 56,128\n",
      "Non-trainable params: 1,280\n",
      "__________________________________________________________________________________________________\n"
     ]
    }
   ],
   "source": [
    "projection_block = __import__('3-projection_block').projection_block\n",
    "\n",
    "def projection_block(A_prev, filters, s=2):\n",
    "    \"\"\" doc \"\"\"\n",
    "    Conv2D = K.layers.Conv2D\n",
    "    BatchNorm = K.layers.BatchNormalization\n",
    "    Activation = K.layers.Activation\n",
    "    Add = K.layers.Add\n",
    "    F11, F3, F12 = filters\n",
    "    layer1x1_s = Conv2D(F12, 1, 2,\n",
    "                      kernel_initializer='he_normal')(A_prev)\n",
    "    layer1x1_s = BatchNorm()(layer1x1_s)  #\n",
    "\n",
    "    layer1x1 = Conv2D(F11, 1, \n",
    "                      kernel_initializer='he_normal')(A_prev)\n",
    "    layer1x1 = BatchNorm()(layer1x1)\n",
    "    layer1x1 = Activation('relu')(layer1x1)\n",
    "\n",
    "    layer3x3 = Conv2D(F3, 3, padding='same',\n",
    "                      kernel_initializer='he_normal')(layer1x1)\n",
    "    layer3x3 = BatchNorm()(layer3x3)\n",
    "    layer3x3 = Activation('relu')(layer3x3)\n",
    "\n",
    "    layer1x1 = Conv2D(F12, 1, s,\n",
    "                      kernel_initializer='he_normal')(layer3x3)\n",
    "    layer1x1 = BatchNorm()(layer1x1)  #\n",
    "\n",
    "    layer_out = Add()([layer1x1, layer1x1_s])\n",
    "    layer_out = Activation('relu')(layer_out)\n",
    "\n",
    "    return layer_out\n",
    "if __name__ == '__main__':\n",
    "    X = K.Input(shape=(224, 224, 3))\n",
    "    Y = projection_block(X, [64, 64, 256])\n",
    "    model = K.models.Model(inputs=X, outputs=Y)\n",
    "    model.summary()"
   ]
  },
  {
   "cell_type": "raw",
   "metadata": {},
   "source": [
    "Layer (type)                    Output Shape         Param #     Connected to                     \n",
    "==================================================================================================\n",
    "input_1 (InputLayer)            (None, 224, 224, 3)  0                                            \n",
    "__________________________________________________________________________________________________\n",
    "conv2d (Conv2D)                 (None, 112, 112, 64) 256         input_1[0][0]                    \n",
    "__________________________________________________________________________________________________\n",
    "batch_normalization (BatchNorma (None, 112, 112, 64) 256         conv2d[0][0]                     \n",
    "__________________________________________________________________________________________________\n",
    "activation (Activation)         (None, 112, 112, 64) 0           batch_normalization[0][0]        \n",
    "__________________________________________________________________________________________________\n",
    "conv2d_1 (Conv2D)               (None, 112, 112, 64) 36928       activation[0][0]                 \n",
    "__________________________________________________________________________________________________\n",
    "batch_normalization_1 (BatchNor (None, 112, 112, 64) 256         conv2d_1[0][0]                   \n",
    "__________________________________________________________________________________________________\n",
    "activation_1 (Activation)       (None, 112, 112, 64) 0           batch_normalization_1[0][0]      \n",
    "__________________________________________________________________________________________________\n",
    "conv2d_2 (Conv2D)               (None, 112, 112, 256 16640       activation_1[0][0]               \n",
    "__________________________________________________________________________________________________\n",
    "conv2d_3 (Conv2D)               (None, 112, 112, 256 1024        input_1[0][0]                    \n",
    "__________________________________________________________________________________________________\n",
    "batch_normalization_2 (BatchNor (None, 112, 112, 256 1024        conv2d_2[0][0]                   \n",
    "__________________________________________________________________________________________________\n",
    "batch_normalization_3 (BatchNor (None, 112, 112, 256 1024        conv2d_3[0][0]                   \n",
    "__________________________________________________________________________________________________\n",
    "add (Add)                       (None, 112, 112, 256 0           batch_normalization_2[0][0]      \n",
    "                                                                 batch_normalization_3[0][0]      \n",
    "__________________________________________________________________________________________________\n",
    "activation_2 (Activation)       (None, 112, 112, 256 0           add[0][0]                        \n",
    "==================================================================================================\n",
    "Total params: 57,408\n",
    "Trainable params: 56,128\n",
    "Non-trainable params: 1,280\n"
   ]
  },
  {
   "cell_type": "code",
   "execution_count": null,
   "metadata": {},
   "outputs": [],
   "source": []
  }
 ],
 "metadata": {
  "kernelspec": {
   "display_name": "Python 3",
   "language": "python",
   "name": "python3"
  },
  "language_info": {
   "codemirror_mode": {
    "name": "ipython",
    "version": 3
   },
   "file_extension": ".py",
   "mimetype": "text/x-python",
   "name": "python",
   "nbconvert_exporter": "python",
   "pygments_lexer": "ipython3",
   "version": "3.6.12"
  }
 },
 "nbformat": 4,
 "nbformat_minor": 4
}
