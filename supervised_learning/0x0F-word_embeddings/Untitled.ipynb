{
 "cells": [
  {
   "cell_type": "code",
   "execution_count": 4,
   "metadata": {},
   "outputs": [],
   "source": [
    "!cp 0-bag_of_words.py 1-tf_idf.py\n",
    "!chmod +x *.py"
   ]
  },
  {
   "cell_type": "code",
   "execution_count": 2,
   "metadata": {},
   "outputs": [],
   "source": [
    "#!/usr/bin/env python3\n",
    "\"\"\" Bag Of Words \"\"\"\n",
    "import numpy as np\n",
    "from sklearn.feature_extraction.text import CountVectorizer\n",
    "\n",
    "def bag_of_words(sentences, vocab=None):\n",
    "    \"\"\"\n",
    "    ***********************************************\n",
    "    *** creates a bag of words embedding matrix ***\n",
    "    ***********************************************\n",
    "    @sentences: is a list of sentences to analyze\n",
    "    @vocab: is a list of the vocabulary words to use \n",
    "            for the analysis\n",
    "            **If None: all words within sentences\n",
    "                       should be used\n",
    "    Returns: embeddings, features\n",
    "             embeddings: is a numpy.ndarray of shape (s, f)\n",
    "             containing the embeddings\n",
    "                 s is the number of sentences in sentences\n",
    "                 f is the number of features analyzed\n",
    "             features: is a list of the features used for embeddings\n",
    "    \"\"\"\n",
    "    vect = CountVectorizer(vocabulary=vocab)\n",
    "    data = vect.fit_transform(sentences)\n",
    "    return data.toarray(), vect.get_feature_names()"
   ]
  },
  {
   "cell_type": "code",
   "execution_count": 3,
   "metadata": {},
   "outputs": [
    {
     "name": "stdout",
     "output_type": "stream",
     "text": [
      "[[0 1 0 0 0 0 0 0 1 1 0 0 0 0 0 0 0 0 0 1 0 0 0 0]\n",
      " [0 1 0 0 0 0 0 0 0 1 1 0 1 0 0 0 0 0 0 0 0 0 0 0]\n",
      " [0 0 0 0 0 1 0 0 0 1 0 0 0 1 0 0 0 0 0 0 0 1 0 0]\n",
      " [1 0 0 0 1 1 0 0 0 0 0 0 0 0 0 0 0 1 0 0 0 1 0 0]\n",
      " [1 0 0 0 2 0 0 1 0 0 0 0 0 0 0 0 0 2 0 0 0 0 0 0]\n",
      " [0 0 0 1 0 0 1 0 0 0 0 0 0 0 0 1 0 0 0 0 0 1 1 1]\n",
      " [0 0 0 1 0 0 1 0 0 0 0 0 0 0 1 1 1 0 1 0 1 1 1 1]\n",
      " [0 0 1 0 0 0 0 0 0 1 0 1 0 0 0 0 0 0 0 0 0 0 0 0]]\n",
      "['are', 'awesome', 'beautiful', 'cake', 'children', 'future', 'good', 'grandchildren', 'holberton', 'is', 'learning', 'life', 'machine', 'nlp', 'no', 'not', 'one', 'our', 'said', 'school', 'that', 'the', 'very', 'was']\n"
     ]
    }
   ],
   "source": [
    "#!/usr/bin/env python3\n",
    "\n",
    "#bag_of_words = __import__('0-bag_of_words').bag_of_words\n",
    "\n",
    "sentences = [\"Holberton school is Awesome!\",\n",
    "             \"Machine learning is awesome\",\n",
    "             \"NLP is the future!\",\n",
    "             \"The children are our future\",\n",
    "             \"Our children's children are our grandchildren\",\n",
    "             \"The cake was not very good\",\n",
    "             \"No one said that the cake was not very good\",\n",
    "             \"Life is beautiful\"]\n",
    "E, F = bag_of_words(sentences)\n",
    "print(E)\n",
    "print(F)"
   ]
  },
  {
   "cell_type": "code",
   "execution_count": 7,
   "metadata": {},
   "outputs": [],
   "source": [
    "#!/usr/bin/env python3\n",
    "\"\"\" Bag Of Words \"\"\"\n",
    "import numpy as np\n",
    "from sklearn.feature_extraction.text import CountVectorizer, TfidfTransformer\n",
    "bag_of_words = __import__('0-bag_of_words').bag_of_words\n",
    "\n",
    "\n",
    "def tf_idf(sentences, vocab=None):\n",
    "    \"\"\"\n",
    "    ***********************************************\n",
    "    ********** creates a TF-IDF embedding *********\n",
    "    ***********************************************\n",
    "    @sentences: is a list of sentences to analyze\n",
    "    @vocab: is a list of the vocabulary words to use\n",
    "            for the analysis\n",
    "            **If None: all words within sentences\n",
    "                       should be used\n",
    "    Returns: embeddings, features\n",
    "             embeddings: is a numpy.ndarray of shape (s, f)\n",
    "             containing the embeddings\n",
    "                 s is the number of sentences in sentences\n",
    "                 f is the number of features analyzed\n",
    "             features: is a list of the features used for embeddings\n",
    "    \"\"\"\n",
    "    E, vocab = bag_of_words(sentences, vocab)\n",
    "    return TfidfTransformer().fit_transform(E).toarray(), vocab"
   ]
  },
  {
   "cell_type": "code",
   "execution_count": 8,
   "metadata": {},
   "outputs": [
    {
     "name": "stdout",
     "output_type": "stream",
     "text": [
      "[[1.         0.         0.         0.         0.         0.\n",
      "  0.        ]\n",
      " [0.5098139  0.60831315 0.         0.         0.         0.\n",
      "  0.60831315]\n",
      " [0.         0.         0.         0.         0.         0.\n",
      "  0.        ]\n",
      " [0.         0.         1.         0.         0.         0.\n",
      "  0.        ]\n",
      " [0.         0.         1.         0.         0.         0.\n",
      "  0.        ]\n",
      " [0.         0.         0.         0.70710678 0.70710678 0.\n",
      "  0.        ]\n",
      " [0.         0.         0.         0.70710678 0.70710678 0.\n",
      "  0.        ]\n",
      " [0.         0.         0.         0.         0.         0.\n",
      "  0.        ]]\n",
      "['awesome', 'learning', 'children', 'cake', 'good', 'none', 'machine']\n"
     ]
    }
   ],
   "source": [
    "sentences = [\"Holberton school is Awesome!\",\n",
    "             \"Machine learning is awesome\",\n",
    "             \"NLP is the future!\",\n",
    "             \"The children are our future\",\n",
    "             \"Our children's children are our grandchildren\",\n",
    "             \"The cake was not very good\",\n",
    "             \"No one said that the cake was not very good\",\n",
    "             \"Life is beautiful\"]\n",
    "vocab = [\"awesome\", \"learning\", \"children\", \"cake\", \"good\", \"none\", \"machine\"]\n",
    "E, F = tf_idf(sentences, vocab)\n",
    "print(E)\n",
    "print(F)"
   ]
  },
  {
   "cell_type": "code",
   "execution_count": null,
   "metadata": {},
   "outputs": [],
   "source": []
  }
 ],
 "metadata": {
  "kernelspec": {
   "display_name": "Python 3",
   "language": "python",
   "name": "python3"
  },
  "language_info": {
   "codemirror_mode": {
    "name": "ipython",
    "version": 3
   },
   "file_extension": ".py",
   "mimetype": "text/x-python",
   "name": "python",
   "nbconvert_exporter": "python",
   "pygments_lexer": "ipython3",
   "version": "3.6.13"
  }
 },
 "nbformat": 4,
 "nbformat_minor": 4
}
