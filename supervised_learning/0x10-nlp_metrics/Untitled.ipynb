{
 "cells": [
  {
   "cell_type": "code",
   "execution_count": 16,
   "metadata": {},
   "outputs": [],
   "source": [
    "import numpy as np\n",
    "\n",
    "\n",
    "def uni_bleu(references, sentence):\n",
    "    \"\"\"\n",
    "    ******************************************************\n",
    "    ** Calculates the unigram BLEU score for a sentence **\n",
    "    ******************************************************\n",
    "    @references: is a list of reference translations\n",
    "                 each reference translation is a list\n",
    "                 of the words in the translation\n",
    "    @sentence: is a list containing the model proposed sentence\n",
    "    Returns:\n",
    "            the unigram BLEU score\n",
    "    \"\"\"\n",
    "    wordsDict = {}\n",
    "    for word in sentence:\n",
    "        wordsDict[word] = wordsDict.get(word, 0) + 1\n",
    "    maxs = {}\n",
    "    for reference in references:\n",
    "        ref = {}\n",
    "        for word in reference:\n",
    "            ref[word] = ref.get(word, 0) + 1\n",
    "        for word in ref:\n",
    "            maxs[word] = max(maxs.get(word, 0), ref[word])\n",
    "    in_ref = 0\n",
    "    for word in wordsDict:\n",
    "        in_ref += min(maxs.get(word, 0), wordsDict[word])\n",
    "    closest = np.argmin(np.abs([len(ref) - len(sentence)\n",
    "                                for ref in references]))\n",
    "    closest = len(references[closest])\n",
    "    if len(sentence) >= closest:\n",
    "        brevity = 1\n",
    "    else:\n",
    "        brevity = np.exp(1 - closest / len(sentence))\n",
    "    return brevity * in_ref / len(sentence)"
   ]
  },
  {
   "cell_type": "code",
   "execution_count": 17,
   "metadata": {},
   "outputs": [
    {
     "name": "stdout",
     "output_type": "stream",
     "text": [
      "{'there': 1, 'is': 1, 'a': 1, 'cat': 1, 'here': 1}\n",
      "0.6549846024623855\n"
     ]
    }
   ],
   "source": [
    "#!/usr/bin/env python3\n",
    "\n",
    "#uni_bleu = __import__('0-uni_bleu').uni_bleu\n",
    "\n",
    "references = [[\"the\", \"cat\", \"is\", \"on\", \"the\", \"mat\"], [\"there\", \"is\", \"a\", \"cat\", \"on\", \"the\", \"mat\"]]\n",
    "sentence = [\"there\", \"is\", \"a\", \"cat\", \"here\"]\n",
    "\n",
    "print(uni_bleu(references, sentence))"
   ]
  },
  {
   "cell_type": "code",
   "execution_count": null,
   "metadata": {},
   "outputs": [],
   "source": []
  }
 ],
 "metadata": {
  "kernelspec": {
   "display_name": "Python 3",
   "language": "python",
   "name": "python3"
  },
  "language_info": {
   "codemirror_mode": {
    "name": "ipython",
    "version": 3
   },
   "file_extension": ".py",
   "mimetype": "text/x-python",
   "name": "python",
   "nbconvert_exporter": "python",
   "pygments_lexer": "ipython3",
   "version": "3.6.13"
  }
 },
 "nbformat": 4,
 "nbformat_minor": 4
}
