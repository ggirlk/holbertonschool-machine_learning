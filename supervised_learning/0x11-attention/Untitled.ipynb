{
 "cells": [
  {
   "cell_type": "code",
   "execution_count": 32,
   "metadata": {},
   "outputs": [],
   "source": [
    "!touch 1-self_attention.py\n",
    "!chmod +x *.py"
   ]
  },
  {
   "cell_type": "code",
   "execution_count": 30,
   "metadata": {},
   "outputs": [],
   "source": [
    "import tensorflow as tf\n",
    "\n",
    "class RNNEncoder(tf.keras.layers.Layer):\n",
    "    \"\"\" encoder for machine translation \"\"\"\n",
    "\n",
    "    def __init__(self, vocab, embedding, units, batch):\n",
    "        \"\"\"\n",
    "        *********************************************\n",
    "        *****************Constructor*****************\n",
    "        *********************************************\n",
    "        @vocab: is an integer representing the size\n",
    "                of the input vocabulary\n",
    "        @embedding: is an integer representing the\n",
    "                    dimensionality of the embedding vector\n",
    "        @units: is an integer representing the number\n",
    "                of hidden units in the RNN cell\n",
    "        @batch: is an integer representing the batch size\n",
    "        \"\"\"\n",
    "        super(RNNEncoder, self).__init__()\n",
    "        self.vocab = vocab\n",
    "        \n",
    "        self.embedding = tf.keras.layers.Embedding(vocab, embedding)\n",
    "        self.units = units\n",
    "        self.batch = batch\n",
    "        \n",
    "        self.gru = tf.keras.layers.GRU(\n",
    "                    units,\n",
    "                    kernel_initializer=\"glorot_uniform\",\n",
    "                    recurrent_initializer=\"glorot_uniform\",\n",
    "                    return_sequences=True,\n",
    "                    return_state=True\n",
    "                    )\n",
    "\n",
    "    def initialize_hidden_state(self):\n",
    "        \"\"\"\n",
    "        nitializes the hidden states for\n",
    "        the RNN cell to a tensor of zeros\n",
    "        \"\"\"\n",
    "        return tf.zeros((self.batch, self.units))\n",
    "\n",
    "    def call(self, x, initial):\n",
    "        \"\"\"\n",
    "        calls the encoders layers\n",
    "        \"\"\"\n",
    "        embading = self.embedding(x)\n",
    "        outputs = self.gru(embading, initial_state=initial)\n",
    "        return outputs"
   ]
  },
  {
   "cell_type": "code",
   "execution_count": 31,
   "metadata": {},
   "outputs": [
    {
     "name": "stdout",
     "output_type": "stream",
     "text": [
      "32\n",
      "256\n",
      "<class 'tensorflow.python.keras.layers.embeddings.Embedding'>\n",
      "<class 'tensorflow.python.keras.layers.recurrent.GRU'>\n",
      "Tensor(\"zeros_14:0\", shape=(32, 256), dtype=float32)\n",
      "Tensor(\"rnn_encoder_5/gru_14/transpose_1:0\", shape=(32, 10, 256), dtype=float32)\n",
      "Tensor(\"rnn_encoder_5/gru_14/while/Exit_3:0\", shape=(32, 256), dtype=float32)\n"
     ]
    }
   ],
   "source": [
    "#!/usr/bin/env python3\n",
    "\n",
    "import numpy as np\n",
    "import tensorflow as tf\n",
    "#RNNEncoder = __import__('0-rnn_encoder').RNNEncoder\n",
    "\n",
    "encoder = RNNEncoder(1024, 128, 256, 32)\n",
    "print(encoder.batch)\n",
    "print(encoder.units)\n",
    "print(type(encoder.embedding))\n",
    "print(type(encoder.gru))\n",
    "\n",
    "initial = encoder.initialize_hidden_state()\n",
    "print(initial)\n",
    "x = tf.convert_to_tensor(np.random.choice(1024, 320).reshape((32, 10)))\n",
    "outputs, hidden = encoder(x, initial)\n",
    "print(outputs)\n",
    "print(hidden)"
   ]
  },
  {
   "cell_type": "code",
   "execution_count": 37,
   "metadata": {},
   "outputs": [],
   "source": [
    "import tensorflow as tf\n",
    "\n",
    "class SelfAttention(tf.keras.layers.Layer):\n",
    "    \"\"\" calculate the attention for machine translation \"\"\"\n",
    "\n",
    "    def __init__(self, units):\n",
    "        \"\"\"\n",
    "        *********************************************\n",
    "        *****************Constructor*****************\n",
    "        *********************************************\n",
    "        @units: is an integer representing the number\n",
    "                of hidden units in the alignment model\n",
    "        \"\"\"\n",
    "        super(SelfAttention, self).__init__()\n",
    "        # a Dense layer with units units, to be applied to\n",
    "        # the previous decoder hidden state\n",
    "        self.W = tf.keras.layers.Dense(units)\n",
    "        # a Dense layer with units units, to be applied to\n",
    "        # the encoder hidden states\n",
    "        self.U = tf.keras.layers.Dense(units)\n",
    "        # a Dense layer with 1 units, to be applied to the\n",
    "        # tanh of the sum of the outputs of W and U\n",
    "        self.V = tf.keras.layers.Dense(1)\n",
    "\n",
    "    def call(self, s_prev, hidden_states):\n",
    "        \"\"\"\n",
    "        **********************************************************\n",
    "        *****************calls the decoder layers*****************\n",
    "        **********************************************************\n",
    "        @s_prev: is a tensor of shape (batch, units) containing the\n",
    "                 previous decoder hidden state\n",
    "        @hidden_states: is a tensor of shape (batch, input_seq_len,\n",
    "                        units)containing the outputs of the encoder\n",
    "        Returns:\n",
    "                context: is a tensor of shape (batch, units) that\n",
    "                         contains the context vector for the decoder\n",
    "                weights: is a tensor of shape (batch, input_seq_len, 1)\n",
    "                         that contains the attention weights\n",
    "        \"\"\"\n",
    "        s_prev = tf.expand_dims(s_prev, 1)\n",
    "        e = self.V(tf.nn.tanh(self.W(s_prev) + self.U(hidden_states)))\n",
    "        weights = tf.nn.softmax(e, axis=1)\n",
    "        context = weights * hidden_states\n",
    "        context = tf.reduce_sum(context, axis=1)\n",
    "        return context, weights\n",
    "\n",
    "\n"
   ]
  },
  {
   "cell_type": "code",
   "execution_count": 38,
   "metadata": {},
   "outputs": [
    {
     "name": "stdout",
     "output_type": "stream",
     "text": [
      "<tensorflow.python.keras.layers.core.Dense object at 0x7f5a0ffc6ba8>\n",
      "<tensorflow.python.keras.layers.core.Dense object at 0x7f5a0ffc69e8>\n",
      "<tensorflow.python.keras.layers.core.Dense object at 0x7f5a0f267390>\n",
      "Tensor(\"self_attention_1/Sum:0\", shape=(32, 256), dtype=float32)\n",
      "Tensor(\"self_attention_1/transpose_1:0\", shape=(32, 10, 1), dtype=float32)\n"
     ]
    }
   ],
   "source": [
    "#!/usr/bin/env python3\n",
    "\n",
    "import numpy as np\n",
    "import tensorflow as tf\n",
    "#SelfAttention = __import__('1-self_attention').SelfAttention\n",
    "\n",
    "attention = SelfAttention(256)\n",
    "print(attention.W)\n",
    "print(attention.U)\n",
    "print(attention.V)\n",
    "s_prev = tf.convert_to_tensor(np.random.uniform(size=(32, 256)), preferred_dtype='float32')\n",
    "hidden_states = tf.convert_to_tensor(np.random.uniform(size=(32, 10, 256)), preferred_dtype='float32')\n",
    "context, weights = attention(s_prev, hidden_states)\n",
    "print(context)\n",
    "print(weights)"
   ]
  },
  {
   "cell_type": "code",
   "execution_count": null,
   "metadata": {},
   "outputs": [],
   "source": []
  }
 ],
 "metadata": {
  "kernelspec": {
   "display_name": "Python 3",
   "language": "python",
   "name": "python3"
  },
  "language_info": {
   "codemirror_mode": {
    "name": "ipython",
    "version": 3
   },
   "file_extension": ".py",
   "mimetype": "text/x-python",
   "name": "python",
   "nbconvert_exporter": "python",
   "pygments_lexer": "ipython3",
   "version": "3.6.13"
  }
 },
 "nbformat": 4,
 "nbformat_minor": 4
}
