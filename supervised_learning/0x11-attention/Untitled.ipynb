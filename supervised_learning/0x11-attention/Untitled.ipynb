{
 "cells": [
  {
   "cell_type": "code",
   "execution_count": 1,
   "metadata": {},
   "outputs": [],
   "source": [
    "!touch 0-rnn_encoder.py\n",
    "!chmod +x *.py"
   ]
  },
  {
   "cell_type": "code",
   "execution_count": 28,
   "metadata": {},
   "outputs": [],
   "source": [
    "import tensorflow as tf\n",
    "\n",
    "class RNNEncoder(tf.keras.layers.Layer):\n",
    "    \"\"\" encoder for machine translation \"\"\"\n",
    "\n",
    "    def __init__(self, vocab, embedding, units, batch):\n",
    "        \"\"\"\n",
    "        *********************************************\n",
    "        *****************Constructor*****************\n",
    "        *********************************************\n",
    "        @vocab: is an integer representing the size\n",
    "                of the input vocabulary\n",
    "        @embedding: is an integer representing the\n",
    "                    dimensionality of the embedding vector\n",
    "        @units: is an integer representing the number\n",
    "                of hidden units in the RNN cell\n",
    "        @batch: is an integer representing the batch size\n",
    "        \"\"\"\n",
    "        super(RNNEncoder, self).__init__()\n",
    "        self.vocab = vocab\n",
    "        self.embedding = tf.keras.layers.Embedding(vocab, embedding)\n",
    "        self.units = units\n",
    "        self.batch = batch\n",
    "        self.gru = tf.keras.layers.GRU(\n",
    "                    units,\n",
    "                    kernel_initializer=\"glorot_uniform\",\n",
    "                    recurrent_initializer=\"glorot_uniform\",\n",
    "                    return_state=True\n",
    "                    )\n",
    "\n",
    "    def initialize_hidden_state(self):\n",
    "        \"\"\"\n",
    "        nitializes the hidden states for\n",
    "        the RNN cell to a tensor of zeros\n",
    "        \"\"\"\n",
    "        return tf.zeros((self.batch, self.units))\n",
    "\n",
    "    def call(self, x, initial):\n",
    "        \"\"\"\n",
    "        calls the encoders layers\n",
    "        \"\"\"\n",
    "        embading = self.embedding(x)\n",
    "        outputs = self.gru(embading, initial_state=initial)\n",
    "        return outputs"
   ]
  },
  {
   "cell_type": "code",
   "execution_count": 29,
   "metadata": {},
   "outputs": [
    {
     "name": "stdout",
     "output_type": "stream",
     "text": [
      "32\n",
      "256\n",
      "<class 'tensorflow.python.keras.layers.embeddings.Embedding'>\n",
      "<class 'tensorflow.python.keras.layers.recurrent.GRU'>\n",
      "Tensor(\"zeros_13:0\", shape=(32, 256), dtype=float32)\n",
      "Tensor(\"rnn_encoder_4/gru_13/TensorArrayReadV3:0\", shape=(32, 256), dtype=float32)\n",
      "Tensor(\"rnn_encoder_4/gru_13/while/Exit_3:0\", shape=(32, 256), dtype=float32)\n"
     ]
    }
   ],
   "source": [
    "#!/usr/bin/env python3\n",
    "\n",
    "import numpy as np\n",
    "import tensorflow as tf\n",
    "#RNNEncoder = __import__('0-rnn_encoder').RNNEncoder\n",
    "\n",
    "encoder = RNNEncoder(1024, 128, 256, 32)\n",
    "print(encoder.batch)\n",
    "print(encoder.units)\n",
    "print(type(encoder.embedding))\n",
    "print(type(encoder.gru))\n",
    "\n",
    "initial = encoder.initialize_hidden_state()\n",
    "print(initial)\n",
    "x = tf.convert_to_tensor(np.random.choice(1024, 320).reshape((32, 10)))\n",
    "outputs, hidden = encoder(x, initial)\n",
    "print(outputs)\n",
    "print(hidden)"
   ]
  },
  {
   "cell_type": "code",
   "execution_count": null,
   "metadata": {},
   "outputs": [],
   "source": []
  }
 ],
 "metadata": {
  "kernelspec": {
   "display_name": "Python 3",
   "language": "python",
   "name": "python3"
  },
  "language_info": {
   "codemirror_mode": {
    "name": "ipython",
    "version": 3
   },
   "file_extension": ".py",
   "mimetype": "text/x-python",
   "name": "python",
   "nbconvert_exporter": "python",
   "pygments_lexer": "ipython3",
   "version": "3.6.13"
  }
 },
 "nbformat": 4,
 "nbformat_minor": 4
}
