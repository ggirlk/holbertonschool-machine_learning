{
 "cells": [
  {
   "cell_type": "code",
   "execution_count": 4,
   "metadata": {},
   "outputs": [],
   "source": [
    "!touch 2-rnn_decoder.py\n",
    "!chmod +x *.py"
   ]
  },
  {
   "cell_type": "code",
   "execution_count": 30,
   "metadata": {},
   "outputs": [],
   "source": [
    "import tensorflow as tf\n",
    "\n",
    "class RNNEncoder(tf.keras.layers.Layer):\n",
    "    \"\"\" encoder for machine translation \"\"\"\n",
    "\n",
    "    def __init__(self, vocab, embedding, units, batch):\n",
    "        \"\"\"\n",
    "        *********************************************\n",
    "        *****************Constructor*****************\n",
    "        *********************************************\n",
    "        @vocab: is an integer representing the size\n",
    "                of the input vocabulary\n",
    "        @embedding: is an integer representing the\n",
    "                    dimensionality of the embedding vector\n",
    "        @units: is an integer representing the number\n",
    "                of hidden units in the RNN cell\n",
    "        @batch: is an integer representing the batch size\n",
    "        \"\"\"\n",
    "        super(RNNEncoder, self).__init__()\n",
    "        self.vocab = vocab\n",
    "        \n",
    "        self.embedding = tf.keras.layers.Embedding(vocab, embedding)\n",
    "        self.units = units\n",
    "        self.batch = batch\n",
    "        \n",
    "        self.gru = tf.keras.layers.GRU(\n",
    "                    units,\n",
    "                    kernel_initializer=\"glorot_uniform\",\n",
    "                    recurrent_initializer=\"glorot_uniform\",\n",
    "                    return_sequences=True,\n",
    "                    return_state=True\n",
    "                    )\n",
    "\n",
    "    def initialize_hidden_state(self):\n",
    "        \"\"\"\n",
    "        nitializes the hidden states for\n",
    "        the RNN cell to a tensor of zeros\n",
    "        \"\"\"\n",
    "        return tf.zeros((self.batch, self.units))\n",
    "\n",
    "    def call(self, x, initial):\n",
    "        \"\"\"\n",
    "        calls the encoders layers\n",
    "        \"\"\"\n",
    "        embading = self.embedding(x)\n",
    "        outputs = self.gru(embading, initial_state=initial)\n",
    "        return outputs"
   ]
  },
  {
   "cell_type": "code",
   "execution_count": 31,
   "metadata": {
    "jupyter": {
     "source_hidden": true
    }
   },
   "outputs": [
    {
     "name": "stdout",
     "output_type": "stream",
     "text": [
      "32\n",
      "256\n",
      "<class 'tensorflow.python.keras.layers.embeddings.Embedding'>\n",
      "<class 'tensorflow.python.keras.layers.recurrent.GRU'>\n",
      "Tensor(\"zeros_14:0\", shape=(32, 256), dtype=float32)\n",
      "Tensor(\"rnn_encoder_5/gru_14/transpose_1:0\", shape=(32, 10, 256), dtype=float32)\n",
      "Tensor(\"rnn_encoder_5/gru_14/while/Exit_3:0\", shape=(32, 256), dtype=float32)\n"
     ]
    }
   ],
   "source": [
    "#!/usr/bin/env python3\n",
    "\n",
    "import numpy as np\n",
    "import tensorflow as tf\n",
    "#RNNEncoder = __import__('0-rnn_encoder').RNNEncoder\n",
    "\n",
    "encoder = RNNEncoder(1024, 128, 256, 32)\n",
    "print(encoder.batch)\n",
    "print(encoder.units)\n",
    "print(type(encoder.embedding))\n",
    "print(type(encoder.gru))\n",
    "\n",
    "initial = encoder.initialize_hidden_state()\n",
    "print(initial)\n",
    "x = tf.convert_to_tensor(np.random.choice(1024, 320).reshape((32, 10)))\n",
    "outputs, hidden = encoder(x, initial)\n",
    "print(outputs)\n",
    "print(hidden)"
   ]
  },
  {
   "cell_type": "code",
   "execution_count": 37,
   "metadata": {
    "jupyter": {
     "source_hidden": true
    }
   },
   "outputs": [],
   "source": [
    "import tensorflow as tf\n",
    "\n",
    "class SelfAttention(tf.keras.layers.Layer):\n",
    "    \"\"\" calculate the attention for machine translation \"\"\"\n",
    "\n",
    "    def __init__(self, units):\n",
    "        \"\"\"\n",
    "        *********************************************\n",
    "        *****************Constructor*****************\n",
    "        *********************************************\n",
    "        @units: is an integer representing the number\n",
    "                of hidden units in the alignment model\n",
    "        \"\"\"\n",
    "        super(SelfAttention, self).__init__()\n",
    "        # a Dense layer with units units, to be applied to\n",
    "        # the previous decoder hidden state\n",
    "        self.W = tf.keras.layers.Dense(units)\n",
    "        # a Dense layer with units units, to be applied to\n",
    "        # the encoder hidden states\n",
    "        self.U = tf.keras.layers.Dense(units)\n",
    "        # a Dense layer with 1 units, to be applied to the\n",
    "        # tanh of the sum of the outputs of W and U\n",
    "        self.V = tf.keras.layers.Dense(1)\n",
    "\n",
    "    def call(self, s_prev, hidden_states):\n",
    "        \"\"\"\n",
    "        ************************************************************\n",
    "        *****************calls the attention layers*****************\n",
    "        ************************************************************\n",
    "        \n",
    "        @s_prev: is a tensor of shape (batch, units) containing the\n",
    "                 previous decoder hidden state\n",
    "        @hidden_states: is a tensor of shape (batch, input_seq_len,\n",
    "                        units)containing the outputs of the encoder\n",
    "        Returns:\n",
    "                context: is a tensor of shape (batch, units) that\n",
    "                         contains the context vector for the decoder\n",
    "                weights: is a tensor of shape (batch, input_seq_len, 1)\n",
    "                         that contains the attention weights\n",
    "        \"\"\"\n",
    "        s_prev = tf.expand_dims(s_prev, 1)\n",
    "        e = self.V(tf.nn.tanh(self.W(s_prev) + self.U(hidden_states)))\n",
    "        weights = tf.nn.softmax(e, axis=1)\n",
    "        context = weights * hidden_states\n",
    "        context = tf.reduce_sum(context, axis=1)\n",
    "        return context, weights\n",
    "\n",
    "\n"
   ]
  },
  {
   "cell_type": "code",
   "execution_count": 38,
   "metadata": {
    "jupyter": {
     "source_hidden": true
    }
   },
   "outputs": [
    {
     "name": "stdout",
     "output_type": "stream",
     "text": [
      "<tensorflow.python.keras.layers.core.Dense object at 0x7f5a0ffc6ba8>\n",
      "<tensorflow.python.keras.layers.core.Dense object at 0x7f5a0ffc69e8>\n",
      "<tensorflow.python.keras.layers.core.Dense object at 0x7f5a0f267390>\n",
      "Tensor(\"self_attention_1/Sum:0\", shape=(32, 256), dtype=float32)\n",
      "Tensor(\"self_attention_1/transpose_1:0\", shape=(32, 10, 1), dtype=float32)\n"
     ]
    }
   ],
   "source": [
    "#!/usr/bin/env python3\n",
    "\n",
    "import numpy as np\n",
    "import tensorflow as tf\n",
    "#SelfAttention = __import__('1-self_attention').SelfAttention\n",
    "\n",
    "attention = SelfAttention(256)\n",
    "print(attention.W)\n",
    "print(attention.U)\n",
    "print(attention.V)\n",
    "s_prev = tf.convert_to_tensor(np.random.uniform(size=(32, 256)), preferred_dtype='float32')\n",
    "hidden_states = tf.convert_to_tensor(np.random.uniform(size=(32, 10, 256)), preferred_dtype='float32')\n",
    "context, weights = attention(s_prev, hidden_states)\n",
    "print(context)\n",
    "print(weights)"
   ]
  },
  {
   "cell_type": "code",
   "execution_count": 2,
   "metadata": {},
   "outputs": [],
   "source": [
    "#!/usr/bin/env python3\n",
    "\"\"\" RNN Decoder \"\"\"\n",
    "import tensorflow as tf\n",
    "\n",
    "SelfAttention = __import__('1-self_attention').SelfAttention\n",
    "\n",
    "\n",
    "class RNNDecoder(tf.keras.layers.Layer):\n",
    "    \"\"\" decode for machine translation \"\"\"\n",
    "\n",
    "    def __init__(self, vocab, embedding, units, batch):\n",
    "        \"\"\"\n",
    "        *********************************************\n",
    "        *****************Constructor*****************\n",
    "        *********************************************\n",
    "        @vocab: is an integer representing the size of\n",
    "                the output vocabulary\n",
    "        @embedding: is an integer representing the\n",
    "                    dimensionality of the embedding vector\n",
    "        @units: is an integer representing the number\n",
    "                of hidden units in the RNN cell\n",
    "        @batch: is an integer representing the batch size\n",
    "        \"\"\"\n",
    "        super(RNNDecoder, self).__init__()\n",
    "        # keras Embedding layer that converts words from\n",
    "        # the vocabulary into an embedding vector\n",
    "        self.embedding = tf.keras.layers.Embedding(vocab, embedding)\n",
    "        # keras GRU layer with units units\n",
    "        # return both the full sequence of output\n",
    "        # as well as the last hidden state\n",
    "        self.gru = tf.keras.layers.GRU(units, return_sequences=True,\n",
    "                                       return_state=True)\n",
    "        # Dense layer with vocab units\n",
    "        self.F = tf.keras.layers.Dense(vocab)\n",
    "\n",
    "    def call(self, x, s_prev, hidden_states):\n",
    "        \"\"\"\n",
    "        **********************************************************\n",
    "        *****************calls the decoder layers*****************\n",
    "        **********************************************************\n",
    "        @x: is a tensor of shape (batch, 1) containing the previous\n",
    "            word in the target sequence as an index of the target vocabulary\n",
    "        @s_prev: is a tensor of shape (batch, units) containing the\n",
    "                 previous decoder hidden state\n",
    "        @hidden_states: is a tensor of shape (batch, input_seq_len,\n",
    "                        units)containing the outputs of the encoder\n",
    "        Returns:\n",
    "                y: is a tensor of shape (batch, vocab) containing\n",
    "                   the output word as a one hot vector in the target vocabulary\n",
    "                s: is a tensor of shape (batch, units) containing\n",
    "                   the new decoder hidden state\n",
    "        \"\"\"\n",
    "        units = s_prev.shape[1]\n",
    "        attention = SelfAttention(units)\n",
    "        context, weights = attention(s_prev, hidden_states)\n",
    "        x = self.embedding(x)\n",
    "        x = tf.concat([tf.expand_dims(context, 1), x], -1)\n",
    "        output, s = self.gru(x)\n",
    "        output = tf.reshape(output, (-1, output.shape[2]))\n",
    "        y = self.F(output)\n",
    "        return y, s\n"
   ]
  },
  {
   "cell_type": "code",
   "execution_count": 3,
   "metadata": {},
   "outputs": [
    {
     "name": "stdout",
     "output_type": "stream",
     "text": [
      "<tensorflow.python.keras.layers.embeddings.Embedding object at 0x7fced955c7f0>\n",
      "<tensorflow.python.keras.layers.recurrent.GRU object at 0x7fced955c5c0>\n",
      "<tensorflow.python.keras.layers.core.Dense object at 0x7fced955c860>\n",
      "Tensor(\"rnn_decoder/dense/BiasAdd:0\", shape=(32, 2048), dtype=float32)\n",
      "Tensor(\"rnn_decoder/gru/while/Exit_3:0\", shape=(32, 256), dtype=float32)\n"
     ]
    }
   ],
   "source": [
    "#!/usr/bin/env python3\n",
    "\n",
    "import numpy as np\n",
    "import tensorflow as tf\n",
    "#RNNDecoder = __import__('2-rnn_decoder').RNNDecoder\n",
    "\n",
    "decoder = RNNDecoder(2048, 128, 256, 32)\n",
    "print(decoder.embedding)\n",
    "print(decoder.gru)\n",
    "print(decoder.F)\n",
    "x = tf.convert_to_tensor(np.random.choice(2048, 32).reshape((32, 1)))\n",
    "s_prev = tf.convert_to_tensor(np.random.uniform(size=(32, 256)).astype('float32'))\n",
    "hidden_states = tf.convert_to_tensor(np.random.uniform(size=(32, 10, 256)).astype('float32'))\n",
    "y, s = decoder(x, s_prev, hidden_states)\n",
    "print(y)\n",
    "print(s)"
   ]
  },
  {
   "cell_type": "code",
   "execution_count": null,
   "metadata": {},
   "outputs": [],
   "source": []
  }
 ],
 "metadata": {
  "kernelspec": {
   "display_name": "Python 3",
   "language": "python",
   "name": "python3"
  },
  "language_info": {
   "codemirror_mode": {
    "name": "ipython",
    "version": 3
   },
   "file_extension": ".py",
   "mimetype": "text/x-python",
   "name": "python",
   "nbconvert_exporter": "python",
   "pygments_lexer": "ipython3",
   "version": "3.6.13"
  }
 },
 "nbformat": 4,
 "nbformat_minor": 4
}
