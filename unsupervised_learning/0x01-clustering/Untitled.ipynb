{
 "cells": [
  {
   "cell_type": "code",
   "execution_count": 4,
   "metadata": {},
   "outputs": [],
   "source": [
    "!touch 0-initialize.py\n",
    "!chmod +x *.py"
   ]
  },
  {
   "cell_type": "code",
   "execution_count": 7,
   "metadata": {},
   "outputs": [],
   "source": [
    "import scipy\n",
    "import sklearn"
   ]
  },
  {
   "cell_type": "code",
   "execution_count": 1,
   "metadata": {},
   "outputs": [
    {
     "data": {
      "image/png": "[encoded data removed]",
      "text/plain": [
       "<Figure size 432x288 with 1 Axes>"
      ]
     },
     "metadata": {
      "needs_background": "light"
     },
     "output_type": "display_data"
    },
    {
     "name": "stdout",
     "output_type": "stream",
     "text": [
      "[[14.54730144 13.46780434]\n",
      " [20.57098466 33.55245039]\n",
      " [ 9.55556506 51.51143281]\n",
      " [48.72458008 20.03154959]\n",
      " [25.43826106 60.35542243]]\n"
     ]
    }
   ],
   "source": [
    "#!/usr/bin/env python3\n",
    "\n",
    "import numpy as np\n",
    "import matplotlib.pyplot as plt\n",
    "\"\"\" initialize cluster centroids for K-means \"\"\"\n",
    "\n",
    "import numpy as np\n",
    "\n",
    "\n",
    "def initialize(X, k):\n",
    "    \"\"\" doc \"\"\"\n",
    "    try:\n",
    "        n, d = X.shape\n",
    "        return np.random.uniform(np.amin(X, axis=0),\n",
    "                                 np.amax(X, axis=0),\n",
    "                                 size=(k, d))\n",
    "    except Exception:\n",
    "        return None\n",
    "\n",
    "if __name__ == \"__main__\":\n",
    "    np.random.seed(0)\n",
    "    a = np.random.multivariate_normal([30, 40], [[16, 0], [0, 16]], size=50)\n",
    "    b = np.random.multivariate_normal([10, 25], [[16, 0], [0, 16]], size=50)\n",
    "    c = np.random.multivariate_normal([40, 20], [[16, 0], [0, 16]], size=50)\n",
    "    d = np.random.multivariate_normal([60, 30], [[16, 0], [0, 16]], size=50)\n",
    "    e = np.random.multivariate_normal([20, 70], [[16, 0], [0, 16]], size=50)\n",
    "    X = np.concatenate((a, b, c, d, e), axis=0)\n",
    "    np.random.shuffle(X)\n",
    "    plt.scatter(X[:, 0], X[:, 1], s=10)\n",
    "    plt.show()\n",
    "    print(initialize(X, 5))"
   ]
  },
  {
   "cell_type": "code",
   "execution_count": null,
   "metadata": {},
   "outputs": [],
   "source": []
  },
  {
   "cell_type": "code",
   "execution_count": null,
   "metadata": {},
   "outputs": [],
   "source": []
  }
 ],
 "metadata": {
  "kernelspec": {
   "display_name": "Python 3",
   "language": "python",
   "name": "python3"
  },
  "language_info": {
   "codemirror_mode": {
    "name": "ipython",
    "version": 3
   },
   "file_extension": ".py",
   "mimetype": "text/x-python",
   "name": "python",
   "nbconvert_exporter": "python",
   "pygments_lexer": "ipython3",
   "version": "3.6.13"
  }
 },
 "nbformat": 4,
 "nbformat_minor": 4
}
