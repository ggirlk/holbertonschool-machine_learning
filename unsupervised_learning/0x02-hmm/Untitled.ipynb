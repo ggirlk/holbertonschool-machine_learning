{
 "cells": [
  {
   "cell_type": "code",
   "execution_count": 1,
   "metadata": {},
   "outputs": [],
   "source": [
    "!touch 0-markov_chain.py\n",
    "#!chmod +x *.py"
   ]
  },
  {
   "cell_type": "code",
   "execution_count": 40,
   "metadata": {},
   "outputs": [
    {
     "data": {
      "text/plain": [
       "array([[0.40277778, 0.59722222]])"
      ]
     },
     "execution_count": 40,
     "metadata": {},
     "output_type": "execute_result"
    }
   ],
   "source": [
    "import numpy as np\n",
    "\n",
    "v = np.array([[1, 0]])\n",
    "v2 = np.array([[1/2, 1/2], [1/3, 2/3]])\n",
    "np.dot(v, np.linalg.matrix_power(v2, 3))"
   ]
  },
  {
   "cell_type": "code",
   "execution_count": 8,
   "metadata": {},
   "outputs": [
    {
     "data": {
      "text/plain": [
       "(0.4027777777777778, 0.5972222222222222)"
      ]
     },
     "execution_count": 8,
     "metadata": {},
     "output_type": "execute_result"
    }
   ],
   "source": [
    "29/72 , 43/72"
   ]
  },
  {
   "cell_type": "code",
   "execution_count": 41,
   "metadata": {},
   "outputs": [
    {
     "name": "stdout",
     "output_type": "stream",
     "text": [
      "[[0.40277778 0.59722222]]\n"
     ]
    }
   ],
   "source": [
    "def markov_chain(P, s, t=1):\n",
    "    \"\"\"\n",
    "    determines the probability of a markov chain\n",
    "    being in a particular state after a specified\n",
    "    number of iterations\n",
    "    \"\"\"\n",
    "    if ((type(P) is not np.ndarray or type(s) is not np.ndarray\n",
    "         or P.ndim != 2 or s.ndim != 2 or P.shape[0] != P.shape[1]\n",
    "         or s.shape[0] != 1 or s.shape[1] != P.shape[0]\n",
    "         or type(t) is not int or t < 0)):\n",
    "        return None\n",
    "    return np.matmul(s, np.linalg.matrix_power(P, t))\n",
    "print(markov_chain(v2, v, 3))"
   ]
  },
  {
   "cell_type": "code",
   "execution_count": 42,
   "metadata": {},
   "outputs": [
    {
     "name": "stdout",
     "output_type": "stream",
     "text": [
      "[[0.2494929  0.26335362 0.23394185 0.25321163]]\n"
     ]
    }
   ],
   "source": [
    "if __name__ == \"__main__\":\n",
    "    P = np.array([[0.25, 0.2, 0.25, 0.3], [0.2, 0.3, 0.2, 0.3], [0.25, 0.25, 0.4, 0.1], [0.3, 0.3, 0.1, 0.3]])\n",
    "    s = np.array([[1, 0, 0, 0]])\n",
    "    print(markov_chain(P, s, 300))"
   ]
  },
  {
   "cell_type": "code",
   "execution_count": null,
   "metadata": {},
   "outputs": [],
   "source": []
  }
 ],
 "metadata": {
  "kernelspec": {
   "display_name": "Python 3",
   "language": "python",
   "name": "python3"
  },
  "language_info": {
   "codemirror_mode": {
    "name": "ipython",
    "version": 3
   },
   "file_extension": ".py",
   "mimetype": "text/x-python",
   "name": "python",
   "nbconvert_exporter": "python",
   "pygments_lexer": "ipython3",
   "version": "3.6.13"
  }
 },
 "nbformat": 4,
 "nbformat_minor": 4
}
