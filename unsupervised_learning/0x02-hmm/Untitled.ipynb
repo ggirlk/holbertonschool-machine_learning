{
 "cells": [
  {
   "cell_type": "code",
   "execution_count": 143,
   "metadata": {},
   "outputs": [],
   "source": [
    "#!cp 3-forward.py 5-backward.py\n",
    "#!chmod +x *.py\n",
    "#!pwd"
   ]
  },
  {
   "cell_type": "code",
   "execution_count": 40,
   "metadata": {},
   "outputs": [
    {
     "data": {
      "text/plain": [
       "array([[0.40277778, 0.59722222]])"
      ]
     },
     "execution_count": 40,
     "metadata": {},
     "output_type": "execute_result"
    }
   ],
   "source": [
    "import numpy as np\n",
    "\n",
    "v = np.array([[1, 0]])\n",
    "v2 = np.array([[1/2, 1/2], [1/3, 2/3]])\n",
    "np.dot(v, np.linalg.matrix_power(v2, 3))"
   ]
  },
  {
   "cell_type": "code",
   "execution_count": 8,
   "metadata": {},
   "outputs": [
    {
     "data": {
      "text/plain": [
       "(0.4027777777777778, 0.5972222222222222)"
      ]
     },
     "execution_count": 8,
     "metadata": {},
     "output_type": "execute_result"
    }
   ],
   "source": [
    "29/72 , 43/72"
   ]
  },
  {
   "cell_type": "code",
   "execution_count": 41,
   "metadata": {},
   "outputs": [
    {
     "name": "stdout",
     "output_type": "stream",
     "text": [
      "[[0.40277778 0.59722222]]\n"
     ]
    }
   ],
   "source": [
    "def markov_chain(P, s, t=1):\n",
    "    \"\"\"\n",
    "    determines the probability of a markov chain\n",
    "    being in a particular state after a specified\n",
    "    number of iterations\n",
    "    \"\"\"\n",
    "    if ((type(P) is not np.ndarray or type(s) is not np.ndarray\n",
    "         or P.ndim != 2 or s.ndim != 2 or P.shape[0] != P.shape[1]\n",
    "         or s.shape[0] != 1 or s.shape[1] != P.shape[0]\n",
    "         or type(t) is not int or t < 0)):\n",
    "        return None\n",
    "    return np.matmul(s, np.linalg.matrix_power(P, t))\n",
    "print(markov_chain(v2, v, 3))"
   ]
  },
  {
   "cell_type": "code",
   "execution_count": 42,
   "metadata": {},
   "outputs": [
    {
     "name": "stdout",
     "output_type": "stream",
     "text": [
      "[[0.2494929  0.26335362 0.23394185 0.25321163]]\n"
     ]
    }
   ],
   "source": [
    "if __name__ == \"__main__\":\n",
    "    P = np.array([[0.25, 0.2, 0.25, 0.3], [0.2, 0.3, 0.2, 0.3], [0.25, 0.25, 0.4, 0.1], [0.3, 0.3, 0.1, 0.3]])\n",
    "    s = np.array([[1, 0, 0, 0]])\n",
    "    print(markov_chain(P, s, 300))"
   ]
  },
  {
   "cell_type": "code",
   "execution_count": 66,
   "metadata": {},
   "outputs": [],
   "source": [
    "def regular(P):\n",
    "    \"\"\"\n",
    "    determines the steady state probabilities\n",
    "    of a regular markov chain\n",
    "    \"\"\"\n",
    "    if (type(P) is not np.ndarray or P.ndim != 2\n",
    "        or P.shape[0] != P.shape[1] or np.any(P <= 0)\n",
    "        or not np.all(np.isclose(P.sum(axis=1), 1))):\n",
    "        return None\n",
    "    try:\n",
    "        dim = P.shape[0]\n",
    "        q = (P - np.eye(dim))\n",
    "        ones = np.ones(dim)\n",
    "        q = np.c_[q,ones]\n",
    "        QTQ = np.dot(q, q.T)\n",
    "        bQT = np.ones(dim)\n",
    "        return np.expand_dims(np.linalg.solve(QTQ, bQT), 0)\n",
    "    except Exception:\n",
    "        return None\n",
    "#regular()"
   ]
  },
  {
   "cell_type": "code",
   "execution_count": 73,
   "metadata": {},
   "outputs": [
    {
     "name": "stdout",
     "output_type": "stream",
     "text": [
      "None\n",
      "[[0.42857143 0.57142857]]\n",
      "[[0.2494929  0.26335362 0.23394185 0.25321163]]\n",
      "None\n",
      "None\n"
     ]
    }
   ],
   "source": [
    "#!/usr/bin/env python3\n",
    "\n",
    "import numpy as np\n",
    "regular = __import__('1-regular').regular\n",
    "\n",
    "if __name__ == '__main__':\n",
    "    a = np.eye(2)\n",
    "    b = np.array([[0.6, 0.4],\n",
    "                  [0.3, 0.7]])\n",
    "    c = np.array([[0.25, 0.2, 0.25, 0.3],\n",
    "                  [0.2, 0.3, 0.2, 0.3],\n",
    "                  [0.25, 0.25, 0.4, 0.1],\n",
    "                  [0.3, 0.3, 0.1, 0.3]])\n",
    "    d = np.array([[0.8, 0.2, 0, 0, 0],\n",
    "                [0.25, 0.75, 0, 0, 0],\n",
    "                [0, 0, 0.5, 0.2, 0.3],\n",
    "                [0, 0, 0.3, 0.5, .2],\n",
    "                [0, 0, 0.2, 0.3, 0.5]])\n",
    "    e = np.array([[1, 0.25, 0, 0, 0],\n",
    "                [0.25, 0.75, 0, 0, 0],\n",
    "                [0, 0.1, 0.5, 0.2, 0.2],\n",
    "                [0, 0.1, 0.2, 0.5, .2],\n",
    "                [0, 0.1, 0.2, 0.2, 0.5]])\n",
    "    print(regular(a))\n",
    "    print(regular(b))\n",
    "    print(regular(c))\n",
    "    print(regular(d))\n",
    "    print(regular(e))"
   ]
  },
  {
   "cell_type": "code",
   "execution_count": 121,
   "metadata": {},
   "outputs": [],
   "source": [
    "\n",
    "        "
   ]
  },
  {
   "cell_type": "code",
   "execution_count": 5,
   "metadata": {},
   "outputs": [
    {
     "name": "stdout",
     "output_type": "stream",
     "text": [
      "True\n",
      "False\n",
      "False\n",
      "True\n",
      "True\n",
      "True\n"
     ]
    }
   ],
   "source": [
    "import numpy as np\n",
    "\n",
    "def absorbing(P):\n",
    "    if type(P) is not np.ndarray or P.ndim != 2\\\n",
    "       or P.shape[0] != P.shape[1] or np.any(P < 0)\\\n",
    "       or not np.all(np.isclose(P.sum(axis=1), 1)):\n",
    "        return False\n",
    "\n",
    "    for i in range(P.shape[0]):\n",
    "        if P[i, i] == 1:\n",
    "            return True\n",
    "    return False\n",
    "if __name__ == '__main__':\n",
    "    a = np.eye(2)\n",
    "    b = np.array([[0.6, 0.4],\n",
    "                  [0.3, 0.7]])\n",
    "    c = np.array([[0.25, 0.2, 0.25, 0.3],\n",
    "                  [0.2, 0.3, 0.2, 0.3],\n",
    "                  [0.25, 0.25, 0.4, 0.1],\n",
    "                  [0.3, 0.3, 0.1, 0.3]])\n",
    "    d = np.array([[1, 0, 0, 0, 0],\n",
    "                  [0.25, 0.75, 0, 0, 0],\n",
    "                  [0, 0, 0.5, 0.2, 0.3],\n",
    "                  [0, 0, 0.3, 0.5, .2],\n",
    "                  [0, 0, 0.2, 0.3, 0.5]])\n",
    "    e = np.array([[1, 0, 0, 0, 0],\n",
    "                  [0.25, 0.75, 0, 0, 0],\n",
    "                  [0, 0.1, 0.5, 0.2, 0.2],\n",
    "                  [0, 0.1, 0.2, 0.5, .2],\n",
    "                  [0, 0.1, 0.2, 0.2, 0.5]])\n",
    "    f = np.array([[1, 0, 0, 0],\n",
    "                  [0, 1, 0, 0],\n",
    "                  [0, 0, 0.5, 0.5],\n",
    "                  [0, 0.5, 0.5, 0]])\n",
    "    print(absorbing(a))\n",
    "    print(absorbing(b))\n",
    "    print(absorbing(c))\n",
    "    print(absorbing(d))\n",
    "    print(absorbing(e))\n",
    "    print(absorbing(f))"
   ]
  },
  {
   "cell_type": "code",
   "execution_count": 127,
   "metadata": {},
   "outputs": [
    {
     "name": "stdout",
     "output_type": "stream",
     "text": [
      "1.645863905329049e-37\n",
      "[[8.00000000e-02 8.00000000e-02]\n",
      " [2.14240000e-02 2.17280000e-02]\n",
      " [5.77607680e-03 5.86216960e-03]\n",
      " [3.47509585e-03 2.65394986e-03]\n",
      " [5.08317951e-04 7.38014630e-04]\n",
      " [1.65390904e-04 1.70859841e-04]\n",
      " [1.00358798e-04 7.67126174e-05]\n",
      " [1.46852694e-05 2.13221205e-05]\n",
      " [4.77824997e-06 4.93626150e-06]\n",
      " [7.99843699e-07 1.17887209e-06]\n",
      " [5.85546494e-07 4.55501847e-07]]\n"
     ]
    }
   ],
   "source": [
    "import numpy as np\n",
    "\n",
    "V = np.array([0, 1, 1, 2, 0, 1, 2, 0, 1, 0, 2]) \n",
    "\n",
    "# Transition Probabilities\n",
    "a = np.array(((0.54, 0.46), (0.49, 0.51)))\n",
    "\n",
    "# Emission Probabilities\n",
    "b = np.array(((0.16, 0.26, 0.58), (0.25, 0.28, 0.47)))\n",
    "\n",
    "# # Equal Probabilities for the initial distribution\n",
    "pi = np.array((0.5, 0.5))\n",
    "\n",
    "def forward(V, a, b, pi):\n",
    "    p = 1\n",
    "    alpha = np.zeros((V.shape[0], a.shape[0]))\n",
    "    alpha[0, :] = pi * b[0, V[0]]\n",
    "\n",
    "    for t in range(1, V.shape[0]):\n",
    "        probability_of_observation = 0 #my code\n",
    "        for j in range(a.shape[0]):\n",
    "            alpha[t, j] = alpha[t - 1].dot(a[:, j]) * b[j, V[t]]\n",
    "            probability_of_observation += alpha[t, j]  #my code\n",
    "        p = p * probability_of_observation #my code\n",
    "\n",
    "    return p, alpha #changed\n",
    "\n",
    "p, alpha = forward(V, a, b, pi)  #changed\n",
    "print(p)\n",
    "print(alpha)"
   ]
  },
  {
   "cell_type": "code",
   "execution_count": 140,
   "metadata": {},
   "outputs": [
    {
     "name": "stdout",
     "output_type": "stream",
     "text": [
      "1.7080966131859584e-214\n",
      "[[0.00000000e+000 0.00000000e+000 2.98125000e-004 ... 0.00000000e+000\n",
      "  0.00000000e+000 0.00000000e+000]\n",
      " [2.00000000e-002 0.00000000e+000 3.18000000e-003 ... 0.00000000e+000\n",
      "  0.00000000e+000 0.00000000e+000]\n",
      " [2.50000000e-001 3.31250000e-002 0.00000000e+000 ... 2.13885975e-214\n",
      "  1.17844112e-214 0.00000000e+000]\n",
      " [1.00000000e-002 4.69000000e-002 0.00000000e+000 ... 2.41642482e-213\n",
      "  1.27375484e-213 9.57568349e-215]\n",
      " [0.00000000e+000 8.00000000e-004 0.00000000e+000 ... 1.96973759e-214\n",
      "  9.65573676e-215 7.50528264e-215]]\n"
     ]
    }
   ],
   "source": [
    "def forward(Obs, Emiss, Trans, Init):\n",
    "    T = Obs.shape[0]\n",
    "    N, M = Emiss.shape\n",
    "    alpha = np.zeros((N, T))\n",
    "\n",
    "    for t in range(T):\n",
    "        for s in range(N):\n",
    "            if t == 0:\n",
    "                alpha[s, 0] = Init[s, 0] * Emiss[s, Obs[t]]\n",
    "            else:\n",
    "                alpha[s, t] = np.sum(alpha[:, t - 1]\n",
    "                                     * Trans[:, s]\n",
    "                                     * Emiss[s, Obs[t]])\n",
    "\n",
    "    return np.sum(alpha[:, T-1]), alpha \n",
    "\n",
    "\n",
    "np.random.seed(1)\n",
    "Emission = np.array([[0.90, 0.10, 0.00, 0.00, 0.00, 0.00],\n",
    "                     [0.40, 0.50, 0.10, 0.00, 0.00, 0.00],\n",
    "                     [0.00, 0.25, 0.50, 0.25, 0.00, 0.00],\n",
    "                     [0.00, 0.00, 0.05, 0.70, 0.15, 0.10],\n",
    "                     [0.00, 0.00, 0.00, 0.20, 0.50, 0.30]])\n",
    "Transition = np.array([[0.60, 0.39, 0.01, 0.00, 0.00],\n",
    "                       [0.20, 0.50, 0.30, 0.00, 0.00],\n",
    "                       [0.01, 0.24, 0.50, 0.24, 0.01],\n",
    "                       [0.00, 0.00, 0.15, 0.70, 0.15],\n",
    "                       [0.00, 0.00, 0.01, 0.39, 0.60]])\n",
    "Initial = np.array([0.05, 0.20, 0.50, 0.20, 0.05])\n",
    "Hidden = [np.random.choice(5, p=Initial)]\n",
    "for _ in range(364):\n",
    "    Hidden.append(np.random.choice(5, p=Transition[Hidden[-1]]))\n",
    "Hidden = np.array(Hidden)\n",
    "Observations = []\n",
    "for s in Hidden:\n",
    "    Observations.append(np.random.choice(6, p=Emission[s]))\n",
    "Observations = np.array(Observations)\n",
    "P, F = forward(Observations, Emission, Transition, Initial.reshape((-1, 1)))\n",
    "print(P)\n",
    "print(F)"
   ]
  },
  {
   "cell_type": "code",
   "execution_count": 141,
   "metadata": {},
   "outputs": [
    {
     "name": "stdout",
     "output_type": "stream",
     "text": [
      "4.701733355108224e-252\n",
      "[2, 2, 1, 0, 0, 0, 0, 0, 0, 0, 0, 1, 1, 2, 1, 1, 1, 1, 0, 0, 1, 2, 2, 2, 3, 3, 3, 2, 1, 2, 1, 1, 2, 2, 2, 3, 3, 2, 2, 3, 4, 4, 3, 3, 2, 2, 3, 3, 3, 2, 1, 1, 1, 1, 1, 0, 0, 0, 0, 1, 0, 0, 1, 0, 0, 0, 1, 1, 2, 3, 3, 2, 1, 2, 1, 1, 1, 2, 2, 3, 4, 4, 4, 3, 3, 3, 4, 4, 4, 4, 4, 4, 4, 4, 3, 3, 3, 3, 2, 2, 2, 3, 3, 3, 4, 4, 4, 4, 4, 3, 2, 2, 3, 2, 2, 3, 4, 4, 4, 3, 2, 1, 0, 0, 0, 1, 2, 2, 1, 1, 2, 3, 3, 2, 1, 1, 1, 2, 3, 3, 3, 2, 1, 0, 0, 0, 0, 0, 0, 0, 0, 1, 1, 1, 2, 2, 2, 2, 3, 3, 3, 3, 3, 3, 3, 2, 1, 2, 1, 1, 1, 2, 2, 2, 2, 2, 2, 2, 1, 0, 0, 1, 2, 2, 1, 2, 1, 1, 1, 1, 2, 2, 2, 3, 3, 3, 3, 3, 3, 4, 4, 4, 4, 4, 3, 3, 4, 4, 4, 4, 3, 3, 3, 2, 1, 1, 1, 1, 2, 1, 0, 0, 0, 0, 1, 2, 2, 3, 3, 3, 3, 3, 3, 3, 3, 3, 3, 2, 2, 3, 4, 4, 4, 3, 3, 3, 3, 2, 2, 3, 3, 3, 3, 4, 4, 3, 3, 3, 3, 3, 3, 4, 4, 4, 4, 3, 3, 3, 3, 3, 3, 3, 3, 3, 3, 3, 3, 3, 3, 3, 3, 3, 3, 3, 3, 3, 3, 3, 3, 3, 3, 3, 3, 3, 3, 2, 2, 1, 2, 1, 2, 3, 3, 3, 3, 3, 3, 3, 3, 3, 3, 3, 2, 2, 1, 1, 2, 1, 1, 2, 2, 2, 1, 0, 0, 0, 0, 1, 0, 0, 0, 0, 1, 1, 2, 1, 1, 2, 3, 3, 4, 4, 4, 4, 3, 3, 3, 3, 3, 3, 3, 3, 3, 3, 3, 3, 3, 3, 4, 4, 3, 3, 3, 3, 3]\n"
     ]
    }
   ],
   "source": [
    "#!/usr/bin/env python3\n",
    "\n",
    "import numpy as np\n",
    "def viterbi(Obs, Emiss, Trans, Init):\n",
    "    \"\"\"\n",
    "    performs the forward algorithm\n",
    "    for a hidden markov model\n",
    "    \"\"\"\n",
    "    T = Obs.shape[0]\n",
    "    N, M = Emiss.shape\n",
    "    V = np.zeros((N, T))\n",
    "    B = np.zeros((N, T))\n",
    "\n",
    "    for t in range(T):\n",
    "        for s in range(N):\n",
    "            if t == 0:\n",
    "                V[s, 0] = Init[s, 0] * Emiss[s, Obs[t]]\n",
    "            else:\n",
    "                tmp = V[:, t - 1] * Trans[:, s] * Emiss[s, Obs[t]]\n",
    "                V[s, t] = np.max(tmp)\n",
    "                B[s, t] = np.argmax(tmp)\n",
    "    P = np.max(V[:, T-1])\n",
    "    pointer = np.argmax(V[:, T-1])\n",
    "    path = [pointer]\n",
    "    for t in range(T-1, 0, -1):\n",
    "        pr = int(B[pointer, t])\n",
    "        path.append(pr)\n",
    "        pointer = pr\n",
    "\n",
    "    return path[::-1], P\n",
    "\n",
    "\n",
    "\n",
    "if __name__ == '__main__':\n",
    "    np.random.seed(1)\n",
    "    Emission = np.array([[0.90, 0.10, 0.00, 0.00, 0.00, 0.00],\n",
    "                         [0.40, 0.50, 0.10, 0.00, 0.00, 0.00],\n",
    "                         [0.00, 0.25, 0.50, 0.25, 0.00, 0.00],\n",
    "                         [0.00, 0.00, 0.05, 0.70, 0.15, 0.10],\n",
    "                         [0.00, 0.00, 0.00, 0.20, 0.50, 0.30]])\n",
    "    Transition = np.array([[0.60, 0.39, 0.01, 0.00, 0.00],\n",
    "                           [0.20, 0.50, 0.30, 0.00, 0.00],\n",
    "                           [0.01, 0.24, 0.50, 0.24, 0.01],\n",
    "                           [0.00, 0.00, 0.15, 0.70, 0.15],\n",
    "                           [0.00, 0.00, 0.01, 0.39, 0.60]])\n",
    "    Initial = np.array([0.05, 0.20, 0.50, 0.20, 0.05])\n",
    "    Hidden = [np.random.choice(5, p=Initial)]\n",
    "    for _ in range(364):\n",
    "        Hidden.append(np.random.choice(5, p=Transition[Hidden[-1]]))\n",
    "    Hidden = np.array(Hidden)\n",
    "    Observations = []\n",
    "    for s in Hidden:\n",
    "        Observations.append(np.random.choice(6, p=Emission[s]))\n",
    "    Observations = np.array(Observations)\n",
    "    path, P = viterbi(Observations, Emission, Transition, Initial.reshape((-1, 1)))\n",
    "    print(P)\n",
    "    print(path)"
   ]
  },
  {
   "cell_type": "code",
   "execution_count": 190,
   "metadata": {},
   "outputs": [
    {
     "name": "stdout",
     "output_type": "stream",
     "text": [
      "1.7080966131859594e-214\n",
      "[[1.28912952e-215 6.12087935e-212 1.00555701e-211 ... 6.75000000e-005\n",
      "  0.00000000e+000 1.00000000e+000]\n",
      " [3.86738856e-214 2.69573528e-212 4.42866330e-212 ... 2.02500000e-003\n",
      "  0.00000000e+000 1.00000000e+000]\n",
      " [6.44564760e-214 5.15651808e-213 8.47145100e-213 ... 2.31330000e-002\n",
      "  2.70000000e-002 1.00000000e+000]\n",
      " [1.93369428e-214 0.00000000e+000 0.00000000e+000 ... 6.39325000e-002\n",
      "  1.15000000e-001 1.00000000e+000]\n",
      " [1.28912952e-215 0.00000000e+000 0.00000000e+000 ... 5.77425000e-002\n",
      "  2.19000000e-001 1.00000000e+000]]\n"
     ]
    }
   ],
   "source": [
    "def backward(Obs, Emiss, Trans, Init):\n",
    "    \"\"\"\n",
    "    performs the backward algorithm\n",
    "    for a hidden markov model\n",
    "    \"\"\"\n",
    "    T = Obs.shape[0]\n",
    "    N, M = Emiss.shape\n",
    "    alpha = np.zeros((N, T))\n",
    "    state = np.asarray([1] * N)\n",
    "    alpha[:, -1] = state\n",
    "    for t in range(T - 2, -1, -1):\n",
    "        state = np.matmul(Trans, state * Emiss[:, Obs[t + 1]])\n",
    "        alpha[:, t] = state\n",
    "    return (alpha[:, 0] * Init[:, 0]\n",
    "            * Emiss[:, Obs[0]]).sum(), alpha\n",
    "\n",
    "if __name__ == '__main__':\n",
    "    np.random.seed(1)\n",
    "    Emission = np.array([[0.90, 0.10, 0.00, 0.00, 0.00, 0.00],\n",
    "                         [0.40, 0.50, 0.10, 0.00, 0.00, 0.00],\n",
    "                         [0.00, 0.25, 0.50, 0.25, 0.00, 0.00],\n",
    "                         [0.00, 0.00, 0.05, 0.70, 0.15, 0.10],\n",
    "                         [0.00, 0.00, 0.00, 0.20, 0.50, 0.30]])\n",
    "    Transition = np.array([[0.60, 0.39, 0.01, 0.00, 0.00],\n",
    "                           [0.20, 0.50, 0.30, 0.00, 0.00],\n",
    "                           [0.01, 0.24, 0.50, 0.24, 0.01],\n",
    "                           [0.00, 0.00, 0.15, 0.70, 0.15],\n",
    "                           [0.00, 0.00, 0.01, 0.39, 0.60]])\n",
    "    Initial = np.array([0.05, 0.20, 0.50, 0.20, 0.05])\n",
    "    Hidden = [np.random.choice(5, p=Initial)]\n",
    "    for _ in range(364):\n",
    "        Hidden.append(np.random.choice(5, p=Transition[Hidden[-1]]))\n",
    "    Hidden = np.array(Hidden)\n",
    "    Observations = []\n",
    "    for s in Hidden:\n",
    "        Observations.append(np.random.choice(6, p=Emission[s]))\n",
    "    Observations = np.array(Observations)\n",
    "    P, B = backward(Observations, Emission, Transition, Initial.reshape((-1, 1)))\n",
    "    print(P)\n",
    "    print(B)"
   ]
  },
  {
   "cell_type": "code",
   "execution_count": null,
   "metadata": {},
   "outputs": [],
   "source": []
  }
 ],
 "metadata": {
  "kernelspec": {
   "display_name": "Python 3",
   "language": "python",
   "name": "python3"
  },
  "language_info": {
   "codemirror_mode": {
    "name": "ipython",
    "version": 3
   },
   "file_extension": ".py",
   "mimetype": "text/x-python",
   "name": "python",
   "nbconvert_exporter": "python",
   "pygments_lexer": "ipython3",
   "version": "3.6.13"
  }
 },
 "nbformat": 4,
 "nbformat_minor": 4
}
