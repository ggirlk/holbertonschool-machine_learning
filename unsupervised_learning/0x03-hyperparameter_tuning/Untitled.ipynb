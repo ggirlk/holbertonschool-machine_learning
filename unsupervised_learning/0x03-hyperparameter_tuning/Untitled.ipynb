{
 "cells": [
  {
   "cell_type": "code",
   "execution_count": 1,
   "metadata": {},
   "outputs": [],
   "source": [
    "#!touch 0-gp.py\n",
    "!chmod +x *.py"
   ]
  },
  {
   "cell_type": "code",
   "execution_count": 10,
   "metadata": {},
   "outputs": [],
   "source": [
    "#!/usr/bin/env python3\n",
    "\"\"\" Hyperparameter Tuning \"\"\"\n",
    "import numpy as np\n",
    "\n",
    "\n",
    "class GaussianProcess():\n",
    "    \"\"\" noiseless 1D Gaussian process \"\"\"\n",
    "\n",
    "    def __init__(self, X_init, Y_init, l=1, sigma_f=1):\n",
    "        \"\"\"\n",
    "        *************************************************\n",
    "        ***************** constructor *******************\n",
    "        *************************************************\n",
    "        @X_init: is a numpy.ndarray of shape (t, 1)\n",
    "                 representing the inputs already sampled\n",
    "                 with the black-box function\n",
    "        @Y_init: is a numpy.ndarray of shape (t, 1)\n",
    "                 representing the outputs of the black-box\n",
    "                 function for each input in X_init\n",
    "        @t is: the number of initial samples\n",
    "        @l is: the length parameter for the kernel\n",
    "        @sigma_f: is the standard deviation given to the\n",
    "                  output of the black-box function\n",
    "        \"\"\"\n",
    "        self.X = X_init\n",
    "        self.Y = Y_init\n",
    "        self.l = l\n",
    "        self.sigma_f = sigma_f\n",
    "        self.K = self.kernel(X_init, X_init)\n",
    "\n",
    "    def kernel(self, X1, X2):\n",
    "        \"\"\"\n",
    "        calculates the covariance kernel\n",
    "        matrix between two matrices using\n",
    "        use the Radial Basis Function (RBF)\n",
    "\n",
    "        @X1: is a numpy.ndarray of shape (m, 1)\n",
    "        @X2: is a numpy.ndarray of shape (n, 1)\n",
    "\n",
    "        Returns: the covariance kernel matrix as\n",
    "                 a numpy.ndarray of shape (m, n)\n",
    "        \"\"\"\n",
    "        return self.sigma_f**2 * np.exp(pow(X1 - X2.T, 2)/-2/self.l**2)"
   ]
  },
  {
   "cell_type": "code",
   "execution_count": 11,
   "metadata": {},
   "outputs": [
    {
     "name": "stdout",
     "output_type": "stream",
     "text": [
      "True\n",
      "True\n",
      "0.6\n",
      "2\n",
      "(2, 2) [[4.         0.13150595]\n",
      " [0.13150595 4.        ]]\n",
      "True\n"
     ]
    }
   ],
   "source": [
    "#!/usr/bin/env python3\n",
    "\n",
    "#GP = __import__('0-gp').GaussianProcess\n",
    "import numpy as np\n",
    "\n",
    "\n",
    "def f(x):\n",
    "    \"\"\"our 'black box' function\"\"\"\n",
    "    return np.sin(5*x) + 2*np.sin(-2*x)\n",
    "\n",
    "if __name__ == '__main__':\n",
    "    np.random.seed(0)\n",
    "    X_init = np.random.uniform(-np.pi, 2*np.pi, (2, 1))\n",
    "    Y_init = f(X_init)\n",
    "\n",
    "    gp = GaussianProcess(X_init, Y_init, l=0.6, sigma_f=2)\n",
    "    print(gp.X is X_init)\n",
    "    print(gp.Y is Y_init)\n",
    "    print(gp.l)\n",
    "    print(gp.sigma_f)\n",
    "    print(gp.K.shape, gp.K)\n",
    "    print(np.allclose(gp.kernel(X_init, X_init), gp.K))"
   ]
  },
  {
   "cell_type": "code",
   "execution_count": null,
   "metadata": {},
   "outputs": [],
   "source": []
  }
 ],
 "metadata": {
  "kernelspec": {
   "display_name": "Python 3",
   "language": "python",
   "name": "python3"
  },
  "language_info": {
   "codemirror_mode": {
    "name": "ipython",
    "version": 3
   },
   "file_extension": ".py",
   "mimetype": "text/x-python",
   "name": "python",
   "nbconvert_exporter": "python",
   "pygments_lexer": "ipython3",
   "version": "3.6.13"
  }
 },
 "nbformat": 4,
 "nbformat_minor": 4
}
