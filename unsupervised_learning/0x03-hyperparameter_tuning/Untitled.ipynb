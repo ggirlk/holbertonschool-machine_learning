{
 "cells": [
  {
   "cell_type": "code",
   "execution_count": 25,
   "metadata": {},
   "outputs": [],
   "source": [
    "#!cp 1-gp.py 2-gp.py\n",
    "!chmod +x *.py"
   ]
  },
  {
   "cell_type": "code",
   "execution_count": 29,
   "metadata": {},
   "outputs": [],
   "source": [
    "#!/usr/bin/env python3\n",
    "\"\"\" Hyperparameter Tuning \"\"\"\n",
    "import numpy as np\n",
    "\n",
    "\n",
    "class GaussianProcess():\n",
    "    \"\"\" noiseless 1D Gaussian process \"\"\"\n",
    "\n",
    "    def __init__(self, X_init, Y_init, l=1, sigma_f=1):\n",
    "        \"\"\"\n",
    "        *************************************************\n",
    "        ***************** constructor *******************\n",
    "        *************************************************\n",
    "        @X_init: is a numpy.ndarray of shape (t, 1)\n",
    "                 representing the inputs already sampled\n",
    "                 with the black-box function\n",
    "        @Y_init: is a numpy.ndarray of shape (t, 1)\n",
    "                 representing the outputs of the black-box\n",
    "                 function for each input in X_init\n",
    "        @t is: the number of initial samples\n",
    "        @l is: the length parameter for the kernel\n",
    "        @sigma_f: is the standard deviation given to the\n",
    "                  output of the black-box function\n",
    "        \"\"\"\n",
    "        self.X = X_init\n",
    "        self.Y = Y_init\n",
    "        self.l = l\n",
    "        self.sigma_f = sigma_f\n",
    "        self.K = self.kernel(X_init, X_init)\n",
    "\n",
    "    def kernel(self, X1, X2):\n",
    "        \"\"\"\n",
    "        calculates the covariance kernel\n",
    "        matrix between two matrices using\n",
    "        use the Radial Basis Function (RBF)\n",
    "\n",
    "        @X1: is a numpy.ndarray of shape (m, 1)\n",
    "        @X2: is a numpy.ndarray of shape (n, 1)\n",
    "\n",
    "        Returns: the covariance kernel matrix as\n",
    "                 a numpy.ndarray of shape (m, n)\n",
    "        \"\"\"\n",
    "        return self.sigma_f**2 * np.exp(pow(X1 - X2.T, 2)/-2/self.l**2)\n",
    "\n",
    "    def predict(self, X_s):\n",
    "        \"\"\"\n",
    "        predicts the mean and standard deviation\n",
    "        of points in a Gaussian process\n",
    "\n",
    "        @X_s: is a numpy.ndarray of shape (s, 1) containing all of\n",
    "              the points whose mean and standard deviation should be calculated\n",
    "        @s: is the number of sample points\n",
    "        Returns: mu, sigma\n",
    "                 mu: is a numpy.ndarray of shape (s,) containing the mean\n",
    "                     for each point in X_s, respectively\n",
    "                 sigma: is a numpy.ndarray of shape (s,) containing the variance\n",
    "                        for each point in X_s, respectively\n",
    "        \"\"\"\n",
    "        K_s = self.kernel(X_s, self.X)\n",
    "        K_inv = np.linalg.inv(self.K)\n",
    "        mu = np.matmul(np.matmul(K_s, K_inv), self.Y)[:, 0]\n",
    "        K_s2 = self.kernel(X_s, X_s)\n",
    "        sigma = K_s2 - np.matmul(np.matmul(K_s, K_inv), K_s.T)\n",
    "        return mu, np.diagonal(sigma)\n",
    "\n",
    "    def update(self, X_new, Y_new):\n",
    "        \"\"\"\n",
    "        updates a Gaussian Process\n",
    "        => Updates the public instance attributes X, Y, and K\n",
    "\n",
    "        X_new: is a numpy.ndarray of shape (1,)\n",
    "               that represents the new sample point\n",
    "        Y_new: is a numpy.ndarray of shape (1,)\n",
    "               that represents the new sample function value\n",
    "        \"\"\"\n",
    "        self.X = np.append(self.X, X_new[:, None], axis=0)\n",
    "        self.Y = np.append(self.Y, Y_new[:, None], axis=0)\n",
    "        self.K = self.kernel(self.X, self.X)\n",
    "GP = GaussianProcess"
   ]
  },
  {
   "cell_type": "code",
   "execution_count": 23,
   "metadata": {},
   "outputs": [
    {
     "name": "stdout",
     "output_type": "stream",
     "text": [
      "True\n",
      "True\n",
      "0.6\n",
      "2\n",
      "(2, 2) [[4.         0.13150595]\n",
      " [0.13150595 4.        ]]\n",
      "True\n"
     ]
    }
   ],
   "source": [
    "#!/usr/bin/env python3\n",
    "\n",
    "#GP = __import__('0-gp').GaussianProcess\n",
    "import numpy as np\n",
    "\n",
    "\n",
    "def f(x):\n",
    "    \"\"\"our 'black box' function\"\"\"\n",
    "    return np.sin(5*x) + 2*np.sin(-2*x)\n",
    "\n",
    "if __name__ == '__main__':\n",
    "    np.random.seed(0)\n",
    "    X_init = np.random.uniform(-np.pi, 2*np.pi, (2, 1))\n",
    "    Y_init = f(X_init)\n",
    "\n",
    "    gp = GaussianProcess(X_init, Y_init, l=0.6, sigma_f=2)\n",
    "    print(gp.X is X_init)\n",
    "    print(gp.Y is Y_init)\n",
    "    print(gp.l)\n",
    "    print(gp.sigma_f)\n",
    "    print(gp.K.shape, gp.K)\n",
    "    print(np.allclose(gp.kernel(X_init, X_init), gp.K))"
   ]
  },
  {
   "cell_type": "code",
   "execution_count": 24,
   "metadata": {},
   "outputs": [
    {
     "name": "stdout",
     "output_type": "stream",
     "text": [
      "(10,) [ 0.20148983  0.93469135  0.14512328 -0.99831012  0.21779183 -0.05063668\n",
      " -0.00116747  0.03434981 -1.15092063  0.9221554 ]\n",
      "(10,) [1.90890408 0.01512125 3.91606789 2.42958747 3.81083574 3.99817545\n",
      " 3.99999903 3.9953012  3.05639472 0.37179608]\n"
     ]
    }
   ],
   "source": [
    "#!/usr/bin/env python3\n",
    "\n",
    "\n",
    "import numpy as np\n",
    "\n",
    "\n",
    "def f(x):\n",
    "    \"\"\"our 'black box' function\"\"\"\n",
    "    return np.sin(5*x) + 2*np.sin(-2*x)\n",
    "\n",
    "if __name__ == '__main__':\n",
    "    np.random.seed(0)\n",
    "    X_init = np.random.uniform(-np.pi, 2*np.pi, (2, 1))\n",
    "    Y_init = f(X_init)\n",
    "\n",
    "    gp = GP(X_init, Y_init, l=0.6, sigma_f=2)\n",
    "    X_s = np.random.uniform(-np.pi, 2*np.pi, (10, 1))\n",
    "    mu, sig = gp.predict(X_s)\n",
    "    print(mu.shape, mu)\n",
    "    print(sig.shape, sig)"
   ]
  },
  {
   "cell_type": "code",
   "execution_count": 30,
   "metadata": {},
   "outputs": [
    {
     "name": "stdout",
     "output_type": "stream",
     "text": [
      "X_new: [2.53931833]\n",
      "Y_new: [1.99720866]\n",
      "(3, 1) [[2.03085276]\n",
      " [3.59890832]\n",
      " [2.53931833]]\n",
      "(3, 1) [[ 0.92485357]\n",
      " [-2.33925576]\n",
      " [ 1.99720866]]\n",
      "(3, 3) [[4.         0.13150595 2.79327536]\n",
      " [0.13150595 4.         0.84109203]\n",
      " [2.79327536 0.84109203 4.        ]]\n"
     ]
    }
   ],
   "source": [
    "#!/usr/bin/env python3\n",
    "\n",
    "#GP = __import__('2-gp').GaussianProcess\n",
    "import numpy as np\n",
    "\n",
    "\n",
    "def f(x):\n",
    "    \"\"\"our 'black box' function\"\"\"\n",
    "    return np.sin(5*x) + 2*np.sin(-2*x)\n",
    "\n",
    "if __name__ == '__main__':\n",
    "    np.random.seed(0)\n",
    "    X_init = np.random.uniform(-np.pi, 2*np.pi, (2, 1))\n",
    "    Y_init = f(X_init)\n",
    "\n",
    "    gp = GP(X_init, Y_init, l=0.6, sigma_f=2)\n",
    "    X_new = np.random.uniform(-np.pi, 2*np.pi, 1)\n",
    "    print('X_new:', X_new)\n",
    "    Y_new = f(X_new)\n",
    "    print('Y_new:', Y_new)\n",
    "    gp.update(X_new, Y_new)\n",
    "    print(gp.X.shape, gp.X)\n",
    "    print(gp.Y.shape, gp.Y)\n",
    "    print(gp.K.shape, gp.K)"
   ]
  },
  {
   "cell_type": "code",
   "execution_count": null,
   "metadata": {},
   "outputs": [],
   "source": []
  }
 ],
 "metadata": {
  "kernelspec": {
   "display_name": "Python 3",
   "language": "python",
   "name": "python3"
  },
  "language_info": {
   "codemirror_mode": {
    "name": "ipython",
    "version": 3
   },
   "file_extension": ".py",
   "mimetype": "text/x-python",
   "name": "python",
   "nbconvert_exporter": "python",
   "pygments_lexer": "ipython3",
   "version": "3.6.13"
  }
 },
 "nbformat": 4,
 "nbformat_minor": 4
}
